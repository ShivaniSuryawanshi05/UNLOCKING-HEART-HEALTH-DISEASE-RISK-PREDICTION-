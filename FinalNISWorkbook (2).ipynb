{
 "cells": [
  {
   "cell_type": "markdown",
   "metadata": {
    "application/vnd.databricks.v1+cell": {
     "cellMetadata": {
      "byteLimit": 2048000,
      "rowLimit": 10000
     },
     "inputWidgets": {},
     "nuid": "db2998a6-50a9-4d87-8f9c-84101e767f09",
     "showTitle": false,
     "title": ""
    }
   },
   "source": [
    "# Team Exemplary \n",
    "## Team Members:\n",
    "1. Ritesh Raut\n",
    "2. Rohit Dhawale\n",
    "3. Srang Patil\n",
    "4. Shivani Suryavanshi\n",
    "5. Jobin John"
   ]
  },
  {
   "cell_type": "markdown",
   "metadata": {
    "application/vnd.databricks.v1+cell": {
     "cellMetadata": {
      "byteLimit": 2048000,
      "rowLimit": 10000
     },
     "inputWidgets": {},
     "nuid": "9ffabaca-991f-4eb8-85a5-bb6fc12250f0",
     "showTitle": false,
     "title": ""
    }
   },
   "source": [
    "# Description of Database\n",
    "Contained within is a database extracted from  subset of the Healthcare Project from the Nationwide Inpatient Sample (NIS).\n",
    "<br>\n",
    "This database represents a comprehensive repository of anonymized patient data collected from hospitals across the United States. It encompasses a wide range of healthcare metrics. The NIS serves as a valuable resource for researchers, policymakers, and healthcare professionals, \n",
    "facilitating analysis and insights into trends, outcomes, and disparities in healthcare delivery and utilization."
   ]
  },
  {
   "cell_type": "markdown",
   "metadata": {
    "application/vnd.databricks.v1+cell": {
     "cellMetadata": {
      "byteLimit": 2048000,
      "rowLimit": 10000
     },
     "inputWidgets": {},
     "nuid": "fbf4422e-4630-4955-85be-28339a7ed2c9",
     "showTitle": false,
     "title": ""
    }
   },
   "source": [
    "## Feature Information:\n",
    "\n",
    "1. **age:** The person’s age in years\n",
    "2. **sex:** The person’s sex (1 = male, 0 = female)\n",
    "3. **cp:** The chest pain experienced (0 = typical angina, 1= atypical angina, 2= non-anginal pain, 3 = asymptomatic)\n",
    "4. **trestbps:** The person’s resting blood pressure (mm Hg on admission to the hospital)\n",
    "5. **chol:** The person’s cholesterol measurement in mg/dl\n",
    "6. **fbs:** The person’s fasting blood sugar (> 120 mg/dl, 1 = true; 0 = false).\n",
    "7. **restecg:** Resting electrocardiographic measurement (0 = normal, 1 = having ST-T wave abnormality, 2 = showing probable or definite left ventricular hypertrophy by Estes’ criteria)\n",
    "8. **thalach:** The person’s maximum heart rate achieved\n",
    "9. **exang:** Exercise induced angina (1 = yes; 0 = no)\n",
    "10. **oldpeak:** ST depression induced by exercise relative to rest\n",
    "11. **slope:** The slope of the peak exercise ST segment (0 = upsloping, 1 = flat, 2 = downsloping)\n",
    "12. **ca:** The number of major vessels (0–4)\n",
    "13. **thal:** A blood disorder called thalassemia (3 = normal; 6 = fixed defect; 7 = reversable defect)\n",
    "14. **target:** Heart disease (0 = no, 1 = yes)\n",
    "15. **Race:** Race of individual (1: 'White', 2: 'Black', 3: 'Hispanic', 4: 'Asian', 5: 'Native American', 6: 'Other') \n",
    "16. **Totchg:** Total charges (numeric values) \n",
    "\n"
   ]
  },
  {
   "cell_type": "markdown",
   "metadata": {
    "application/vnd.databricks.v1+cell": {
     "cellMetadata": {
      "byteLimit": 2048000,
      "rowLimit": 10000
     },
     "inputWidgets": {},
     "nuid": "2beafa90-a50b-4f7c-b0a5-47c1813938b4",
     "showTitle": false,
     "title": ""
    }
   },
   "source": [
    "##### The notebook aims to demonstrate the process of predicting heart disease using PySpark for binary classification. It covers setting up a Spark cluster, connecting Jupyter Notebook to the cluster, data preprocessing, model building, evaluation, and hyperparameter tuning. The ultimate goal is to develop machine learning models that accurately classify individuals into two categories: those with heart disease (target variable = 1) and those without (target variable = 0). By leveraging various features such as age, sex, chest pain type, and others from the Heart Disease dataset, the models aim to assist in the diagnosis and understanding of heart disease"
   ]
  },
  {
   "cell_type": "code",
   "execution_count": null,
   "metadata": {
    "application/vnd.databricks.v1+cell": {
     "cellMetadata": {
      "byteLimit": 2048000,
      "rowLimit": 10000
     },
     "inputWidgets": {},
     "nuid": "595c3b45-7cce-4a35-8081-cab5e7133640",
     "showTitle": false,
     "title": ""
    }
   },
   "outputs": [],
   "source": [
    "from pyspark.sql import SparkSession\n",
    "from pyspark.sql.functions import col\n",
    "from pyspark.ml.feature import Imputer, StandardScaler, OneHotEncoder, VectorAssembler\n",
    "from pyspark.ml.pipeline import Pipeline\n",
    "from pyspark.ml.regression import LinearRegression\n",
    "from pyspark.ml.evaluation import RegressionEvaluator"
   ]
  },
  {
   "cell_type": "code",
   "execution_count": null,
   "metadata": {
    "application/vnd.databricks.v1+cell": {
     "cellMetadata": {
      "byteLimit": 2048000,
      "rowLimit": 10000
     },
     "inputWidgets": {},
     "nuid": "1c8a3fa0-dda0-42a8-aab6-316462b87d9e",
     "showTitle": false,
     "title": ""
    }
   },
   "outputs": [],
   "source": [
    "from pyspark.sql import functions as F\n",
    "from pyspark.ml.feature import OneHotEncoder, StringIndexer, VectorAssembler\n",
    "from pyspark.ml.feature import CountVectorizer\n",
    "from pyspark.ml.tuning import ParamGridBuilder\n",
    "from pyspark.ml.evaluation import BinaryClassificationEvaluator\n",
    "import numpy as np\n",
    "from pyspark.ml.tuning import CrossValidator\n",
    "import plotly.graph_objects as go"
   ]
  },
  {
   "cell_type": "code",
   "execution_count": null,
   "metadata": {
    "application/vnd.databricks.v1+cell": {
     "cellMetadata": {
      "byteLimit": 2048000,
      "rowLimit": 10000
     },
     "inputWidgets": {},
     "nuid": "09b302c3-89b4-40b0-b7e4-81988b4219eb",
     "showTitle": false,
     "title": ""
    }
   },
   "outputs": [],
   "source": [
    "# Initialize Spark session\n",
    "spark = SparkSession.builder \\\n",
    "    .appName(\"Healthcare\") \\\n",
    "    .getOrCreate()"
   ]
  },
  {
   "cell_type": "code",
   "execution_count": null,
   "metadata": {
    "application/vnd.databricks.v1+cell": {
     "cellMetadata": {
      "byteLimit": 2048000,
      "rowLimit": 10000
     },
     "inputWidgets": {},
     "nuid": "1bbfb615-6a0e-4c37-a0f9-ce54c69c9190",
     "showTitle": false,
     "title": ""
    }
   },
   "outputs": [
    {
     "name": "stdout",
     "output_type": "stream",
     "text": [
      "Out[4]: 16"
     ]
    }
   ],
   "source": [
    "df=spark.read.csv(\"dbfs:/FileStore/tables/NIS-1.csv\", inferSchema=True, header=True)\n",
    "df.count()\n",
    "len(df.columns)"
   ]
  },
  {
   "cell_type": "code",
   "execution_count": null,
   "metadata": {
    "application/vnd.databricks.v1+cell": {
     "cellMetadata": {
      "byteLimit": 2048000,
      "rowLimit": 10000
     },
     "inputWidgets": {},
     "nuid": "f7064a18-2fa7-40b7-af57-a71f8499995c",
     "showTitle": false,
     "title": ""
    }
   },
   "outputs": [
    {
     "name": "stdout",
     "output_type": "stream",
     "text": [
      "Out[5]: [('age', 'int'),\n",
      " ('sex', 'int'),\n",
      " ('cp', 'int'),\n",
      " ('trestbps', 'int'),\n",
      " ('chol', 'int'),\n",
      " ('fbs', 'int'),\n",
      " ('restecg', 'int'),\n",
      " ('thalach', 'int'),\n",
      " ('exang', 'int'),\n",
      " ('oldpeak', 'double'),\n",
      " ('slope', 'int'),\n",
      " ('ca', 'int'),\n",
      " ('thal', 'int'),\n",
      " ('target', 'int'),\n",
      " ('Race', 'int'),\n",
      " ('Totchg', 'int')]"
     ]
    }
   ],
   "source": [
    "df.dtypes"
   ]
  },
  {
   "cell_type": "code",
   "execution_count": null,
   "metadata": {
    "application/vnd.databricks.v1+cell": {
     "cellMetadata": {
      "byteLimit": 2048000,
      "rowLimit": 10000
     },
     "inputWidgets": {},
     "nuid": "b12f470b-13ea-4c81-acad-1c752871359a",
     "showTitle": false,
     "title": ""
    }
   },
   "outputs": [
    {
     "name": "stdout",
     "output_type": "stream",
     "text": [
      "+---+---+---+--------+----+---+-------+-------+-----+-------+-----+---+----+------+----+------+\n",
      "|age|sex| cp|trestbps|chol|fbs|restecg|thalach|exang|oldpeak|slope| ca|thal|target|Race|Totchg|\n",
      "+---+---+---+--------+----+---+-------+-------+-----+-------+-----+---+----+------+----+------+\n",
      "|  0|  0|  0|       0|   0|  0|      0|      0|    0|      0|    0|  0|   0|     0|   0|     0|\n",
      "+---+---+---+--------+----+---+-------+-------+-----+-------+-----+---+----+------+----+------+\n",
      "\n"
     ]
    }
   ],
   "source": [
    "#Check for missing values\n",
    "from pyspark.sql.functions import col,sum\n",
    "df.select(*(sum(col(c).isNull().cast(\"int\")).alias(c) for c in df.columns)).show()"
   ]
  },
  {
   "cell_type": "code",
   "execution_count": null,
   "metadata": {
    "application/vnd.databricks.v1+cell": {
     "cellMetadata": {
      "byteLimit": 2048000,
      "rowLimit": 10000
     },
     "inputWidgets": {},
     "nuid": "c65c0fae-dd13-4802-b470-35967eb815eb",
     "showTitle": false,
     "title": ""
    }
   },
   "outputs": [
    {
     "data": {
      "text/html": [
       "<div>\n",
       "<style scoped>\n",
       "    .dataframe tbody tr th:only-of-type {\n",
       "        vertical-align: middle;\n",
       "    }\n",
       "\n",
       "    .dataframe tbody tr th {\n",
       "        vertical-align: top;\n",
       "    }\n",
       "\n",
       "    .dataframe thead th {\n",
       "        text-align: right;\n",
       "    }\n",
       "</style>\n",
       "<table border=\"1\" class=\"dataframe\">\n",
       "  <thead>\n",
       "    <tr style=\"text-align: right;\">\n",
       "      <th></th>\n",
       "      <th>0</th>\n",
       "      <th>1</th>\n",
       "      <th>2</th>\n",
       "      <th>3</th>\n",
       "      <th>4</th>\n",
       "    </tr>\n",
       "  </thead>\n",
       "  <tbody>\n",
       "    <tr>\n",
       "      <th>summary</th>\n",
       "      <td>count</td>\n",
       "      <td>mean</td>\n",
       "      <td>stddev</td>\n",
       "      <td>min</td>\n",
       "      <td>max</td>\n",
       "    </tr>\n",
       "    <tr>\n",
       "      <th>age</th>\n",
       "      <td>303</td>\n",
       "      <td>54.366336633663366</td>\n",
       "      <td>9.08210098983786</td>\n",
       "      <td>29</td>\n",
       "      <td>77</td>\n",
       "    </tr>\n",
       "    <tr>\n",
       "      <th>sex</th>\n",
       "      <td>303</td>\n",
       "      <td>0.6831683168316832</td>\n",
       "      <td>0.46601082333962385</td>\n",
       "      <td>0</td>\n",
       "      <td>1</td>\n",
       "    </tr>\n",
       "    <tr>\n",
       "      <th>cp</th>\n",
       "      <td>303</td>\n",
       "      <td>0.966996699669967</td>\n",
       "      <td>1.0320524894832983</td>\n",
       "      <td>0</td>\n",
       "      <td>3</td>\n",
       "    </tr>\n",
       "    <tr>\n",
       "      <th>trestbps</th>\n",
       "      <td>303</td>\n",
       "      <td>131.62376237623764</td>\n",
       "      <td>17.5381428135171</td>\n",
       "      <td>94</td>\n",
       "      <td>200</td>\n",
       "    </tr>\n",
       "    <tr>\n",
       "      <th>chol</th>\n",
       "      <td>303</td>\n",
       "      <td>246.26402640264027</td>\n",
       "      <td>51.83075098793005</td>\n",
       "      <td>126</td>\n",
       "      <td>564</td>\n",
       "    </tr>\n",
       "    <tr>\n",
       "      <th>fbs</th>\n",
       "      <td>303</td>\n",
       "      <td>0.1485148514851485</td>\n",
       "      <td>0.35619787492797644</td>\n",
       "      <td>0</td>\n",
       "      <td>1</td>\n",
       "    </tr>\n",
       "    <tr>\n",
       "      <th>restecg</th>\n",
       "      <td>303</td>\n",
       "      <td>0.528052805280528</td>\n",
       "      <td>0.525859596359298</td>\n",
       "      <td>0</td>\n",
       "      <td>2</td>\n",
       "    </tr>\n",
       "    <tr>\n",
       "      <th>thalach</th>\n",
       "      <td>303</td>\n",
       "      <td>149.64686468646866</td>\n",
       "      <td>22.90516111491409</td>\n",
       "      <td>71</td>\n",
       "      <td>202</td>\n",
       "    </tr>\n",
       "    <tr>\n",
       "      <th>exang</th>\n",
       "      <td>303</td>\n",
       "      <td>0.32673267326732675</td>\n",
       "      <td>0.46979446452231655</td>\n",
       "      <td>0</td>\n",
       "      <td>1</td>\n",
       "    </tr>\n",
       "    <tr>\n",
       "      <th>oldpeak</th>\n",
       "      <td>303</td>\n",
       "      <td>1.0396039603960396</td>\n",
       "      <td>1.1610750220686346</td>\n",
       "      <td>0.0</td>\n",
       "      <td>6.2</td>\n",
       "    </tr>\n",
       "    <tr>\n",
       "      <th>slope</th>\n",
       "      <td>303</td>\n",
       "      <td>1.3993399339933994</td>\n",
       "      <td>0.6162261453459622</td>\n",
       "      <td>0</td>\n",
       "      <td>2</td>\n",
       "    </tr>\n",
       "    <tr>\n",
       "      <th>ca</th>\n",
       "      <td>303</td>\n",
       "      <td>0.7293729372937293</td>\n",
       "      <td>1.0226063649693276</td>\n",
       "      <td>0</td>\n",
       "      <td>4</td>\n",
       "    </tr>\n",
       "    <tr>\n",
       "      <th>thal</th>\n",
       "      <td>303</td>\n",
       "      <td>2.3135313531353137</td>\n",
       "      <td>0.6122765072781408</td>\n",
       "      <td>0</td>\n",
       "      <td>3</td>\n",
       "    </tr>\n",
       "    <tr>\n",
       "      <th>target</th>\n",
       "      <td>303</td>\n",
       "      <td>0.5445544554455446</td>\n",
       "      <td>0.4988347841643915</td>\n",
       "      <td>0</td>\n",
       "      <td>1</td>\n",
       "    </tr>\n",
       "    <tr>\n",
       "      <th>Race</th>\n",
       "      <td>303</td>\n",
       "      <td>1.7491749174917492</td>\n",
       "      <td>1.2300558509494102</td>\n",
       "      <td>1</td>\n",
       "      <td>6</td>\n",
       "    </tr>\n",
       "    <tr>\n",
       "      <th>Totchg</th>\n",
       "      <td>303</td>\n",
       "      <td>5208.669966996699</td>\n",
       "      <td>2410.1231873360266</td>\n",
       "      <td>713</td>\n",
       "      <td>9723</td>\n",
       "    </tr>\n",
       "  </tbody>\n",
       "</table>\n",
       "</div>"
      ]
     },
     "metadata": {
      "application/vnd.databricks.v1+output": {
       "addedWidgets": {},
       "arguments": {},
       "data": "<div>\n<style scoped>\n    .dataframe tbody tr th:only-of-type {\n        vertical-align: middle;\n    }\n\n    .dataframe tbody tr th {\n        vertical-align: top;\n    }\n\n    .dataframe thead th {\n        text-align: right;\n    }\n</style>\n<table border=\"1\" class=\"dataframe\">\n  <thead>\n    <tr style=\"text-align: right;\">\n      <th></th>\n      <th>0</th>\n      <th>1</th>\n      <th>2</th>\n      <th>3</th>\n      <th>4</th>\n    </tr>\n  </thead>\n  <tbody>\n    <tr>\n      <th>summary</th>\n      <td>count</td>\n      <td>mean</td>\n      <td>stddev</td>\n      <td>min</td>\n      <td>max</td>\n    </tr>\n    <tr>\n      <th>age</th>\n      <td>303</td>\n      <td>54.366336633663366</td>\n      <td>9.08210098983786</td>\n      <td>29</td>\n      <td>77</td>\n    </tr>\n    <tr>\n      <th>sex</th>\n      <td>303</td>\n      <td>0.6831683168316832</td>\n      <td>0.46601082333962385</td>\n      <td>0</td>\n      <td>1</td>\n    </tr>\n    <tr>\n      <th>cp</th>\n      <td>303</td>\n      <td>0.966996699669967</td>\n      <td>1.0320524894832983</td>\n      <td>0</td>\n      <td>3</td>\n    </tr>\n    <tr>\n      <th>trestbps</th>\n      <td>303</td>\n      <td>131.62376237623764</td>\n      <td>17.5381428135171</td>\n      <td>94</td>\n      <td>200</td>\n    </tr>\n    <tr>\n      <th>chol</th>\n      <td>303</td>\n      <td>246.26402640264027</td>\n      <td>51.83075098793005</td>\n      <td>126</td>\n      <td>564</td>\n    </tr>\n    <tr>\n      <th>fbs</th>\n      <td>303</td>\n      <td>0.1485148514851485</td>\n      <td>0.35619787492797644</td>\n      <td>0</td>\n      <td>1</td>\n    </tr>\n    <tr>\n      <th>restecg</th>\n      <td>303</td>\n      <td>0.528052805280528</td>\n      <td>0.525859596359298</td>\n      <td>0</td>\n      <td>2</td>\n    </tr>\n    <tr>\n      <th>thalach</th>\n      <td>303</td>\n      <td>149.64686468646866</td>\n      <td>22.90516111491409</td>\n      <td>71</td>\n      <td>202</td>\n    </tr>\n    <tr>\n      <th>exang</th>\n      <td>303</td>\n      <td>0.32673267326732675</td>\n      <td>0.46979446452231655</td>\n      <td>0</td>\n      <td>1</td>\n    </tr>\n    <tr>\n      <th>oldpeak</th>\n      <td>303</td>\n      <td>1.0396039603960396</td>\n      <td>1.1610750220686346</td>\n      <td>0.0</td>\n      <td>6.2</td>\n    </tr>\n    <tr>\n      <th>slope</th>\n      <td>303</td>\n      <td>1.3993399339933994</td>\n      <td>0.6162261453459622</td>\n      <td>0</td>\n      <td>2</td>\n    </tr>\n    <tr>\n      <th>ca</th>\n      <td>303</td>\n      <td>0.7293729372937293</td>\n      <td>1.0226063649693276</td>\n      <td>0</td>\n      <td>4</td>\n    </tr>\n    <tr>\n      <th>thal</th>\n      <td>303</td>\n      <td>2.3135313531353137</td>\n      <td>0.6122765072781408</td>\n      <td>0</td>\n      <td>3</td>\n    </tr>\n    <tr>\n      <th>target</th>\n      <td>303</td>\n      <td>0.5445544554455446</td>\n      <td>0.4988347841643915</td>\n      <td>0</td>\n      <td>1</td>\n    </tr>\n    <tr>\n      <th>Race</th>\n      <td>303</td>\n      <td>1.7491749174917492</td>\n      <td>1.2300558509494102</td>\n      <td>1</td>\n      <td>6</td>\n    </tr>\n    <tr>\n      <th>Totchg</th>\n      <td>303</td>\n      <td>5208.669966996699</td>\n      <td>2410.1231873360266</td>\n      <td>713</td>\n      <td>9723</td>\n    </tr>\n  </tbody>\n</table>\n</div>",
       "datasetInfos": [],
       "metadata": {},
       "removedWidgets": [],
       "textData": null,
       "type": "htmlSandbox"
      }
     },
     "output_type": "display_data"
    }
   ],
   "source": [
    "#Summary of Dataset\n",
    "df.describe().toPandas().transpose()"
   ]
  },
  {
   "cell_type": "markdown",
   "metadata": {
    "application/vnd.databricks.v1+cell": {
     "cellMetadata": {
      "byteLimit": 2048000,
      "rowLimit": 10000
     },
     "inputWidgets": {},
     "nuid": "8bab25c3-5234-4271-a007-ed25383c2fbe",
     "showTitle": false,
     "title": ""
    }
   },
   "source": [
    "### Pie chart"
   ]
  },
  {
   "cell_type": "code",
   "execution_count": null,
   "metadata": {
    "application/vnd.databricks.v1+cell": {
     "cellMetadata": {
      "byteLimit": 2048000,
      "rowLimit": 10000
     },
     "inputWidgets": {},
     "nuid": "7f63f66b-d66c-4b08-98ec-8e612f8929f9",
     "showTitle": false,
     "title": ""
    }
   },
   "outputs": [
    {
     "data": {
      "text/html": [
       "<html>\n",
       "<head><meta charset=\"utf-8\" /></head>\n",
       "<body>\n",
       "    <div>            <script src=\"https://cdnjs.cloudflare.com/ajax/libs/mathjax/2.7.5/MathJax.js?config=TeX-AMS-MML_SVG\"></script><script type=\"text/javascript\">if (window.MathJax) {MathJax.Hub.Config({SVG: {font: \"STIX-Web\"}});}</script>                <script type=\"text/javascript\">window.PlotlyConfig = {MathJaxConfig: 'local'};</script>\n",
       "        <script src=\"https://cdn.plot.ly/plotly-2.9.0.min.js\"></script>                <div id=\"83e0a068-c8a6-4f80-b055-712ee648aaba\" class=\"plotly-graph-div\" style=\"height:100%; width:100%;\"></div>            <script type=\"text/javascript\">                                    window.PLOTLYENV=window.PLOTLYENV || {};                                    if (document.getElementById(\"83e0a068-c8a6-4f80-b055-712ee648aaba\")) {                    Plotly.newPlot(                        \"83e0a068-c8a6-4f80-b055-712ee648aaba\",                        [{\"labels\":[0,1],\"values\":[138,165],\"type\":\"pie\",\"textfont\":{\"color\":\"black\",\"size\":20},\"marker\":{\"line\":{\"color\":\"#000000\",\"width\":2},\"colors\":[\"gold\",\"mediumturquoise\",\"darkorange\",\"lightgreen\"]},\"hoverinfo\":\"label+percent\",\"textinfo\":\"value+percent\"}],                        {\"template\":{\"data\":{\"bar\":[{\"error_x\":{\"color\":\"#2a3f5f\"},\"error_y\":{\"color\":\"#2a3f5f\"},\"marker\":{\"line\":{\"color\":\"#E5ECF6\",\"width\":0.5},\"pattern\":{\"fillmode\":\"overlay\",\"size\":10,\"solidity\":0.2}},\"type\":\"bar\"}],\"barpolar\":[{\"marker\":{\"line\":{\"color\":\"#E5ECF6\",\"width\":0.5},\"pattern\":{\"fillmode\":\"overlay\",\"size\":10,\"solidity\":0.2}},\"type\":\"barpolar\"}],\"carpet\":[{\"aaxis\":{\"endlinecolor\":\"#2a3f5f\",\"gridcolor\":\"white\",\"linecolor\":\"white\",\"minorgridcolor\":\"white\",\"startlinecolor\":\"#2a3f5f\"},\"baxis\":{\"endlinecolor\":\"#2a3f5f\",\"gridcolor\":\"white\",\"linecolor\":\"white\",\"minorgridcolor\":\"white\",\"startlinecolor\":\"#2a3f5f\"},\"type\":\"carpet\"}],\"choropleth\":[{\"colorbar\":{\"outlinewidth\":0,\"ticks\":\"\"},\"type\":\"choropleth\"}],\"contour\":[{\"colorbar\":{\"outlinewidth\":0,\"ticks\":\"\"},\"colorscale\":[[0.0,\"#0d0887\"],[0.1111111111111111,\"#46039f\"],[0.2222222222222222,\"#7201a8\"],[0.3333333333333333,\"#9c179e\"],[0.4444444444444444,\"#bd3786\"],[0.5555555555555556,\"#d8576b\"],[0.6666666666666666,\"#ed7953\"],[0.7777777777777778,\"#fb9f3a\"],[0.8888888888888888,\"#fdca26\"],[1.0,\"#f0f921\"]],\"type\":\"contour\"}],\"contourcarpet\":[{\"colorbar\":{\"outlinewidth\":0,\"ticks\":\"\"},\"type\":\"contourcarpet\"}],\"heatmap\":[{\"colorbar\":{\"outlinewidth\":0,\"ticks\":\"\"},\"colorscale\":[[0.0,\"#0d0887\"],[0.1111111111111111,\"#46039f\"],[0.2222222222222222,\"#7201a8\"],[0.3333333333333333,\"#9c179e\"],[0.4444444444444444,\"#bd3786\"],[0.5555555555555556,\"#d8576b\"],[0.6666666666666666,\"#ed7953\"],[0.7777777777777778,\"#fb9f3a\"],[0.8888888888888888,\"#fdca26\"],[1.0,\"#f0f921\"]],\"type\":\"heatmap\"}],\"heatmapgl\":[{\"colorbar\":{\"outlinewidth\":0,\"ticks\":\"\"},\"colorscale\":[[0.0,\"#0d0887\"],[0.1111111111111111,\"#46039f\"],[0.2222222222222222,\"#7201a8\"],[0.3333333333333333,\"#9c179e\"],[0.4444444444444444,\"#bd3786\"],[0.5555555555555556,\"#d8576b\"],[0.6666666666666666,\"#ed7953\"],[0.7777777777777778,\"#fb9f3a\"],[0.8888888888888888,\"#fdca26\"],[1.0,\"#f0f921\"]],\"type\":\"heatmapgl\"}],\"histogram\":[{\"marker\":{\"pattern\":{\"fillmode\":\"overlay\",\"size\":10,\"solidity\":0.2}},\"type\":\"histogram\"}],\"histogram2d\":[{\"colorbar\":{\"outlinewidth\":0,\"ticks\":\"\"},\"colorscale\":[[0.0,\"#0d0887\"],[0.1111111111111111,\"#46039f\"],[0.2222222222222222,\"#7201a8\"],[0.3333333333333333,\"#9c179e\"],[0.4444444444444444,\"#bd3786\"],[0.5555555555555556,\"#d8576b\"],[0.6666666666666666,\"#ed7953\"],[0.7777777777777778,\"#fb9f3a\"],[0.8888888888888888,\"#fdca26\"],[1.0,\"#f0f921\"]],\"type\":\"histogram2d\"}],\"histogram2dcontour\":[{\"colorbar\":{\"outlinewidth\":0,\"ticks\":\"\"},\"colorscale\":[[0.0,\"#0d0887\"],[0.1111111111111111,\"#46039f\"],[0.2222222222222222,\"#7201a8\"],[0.3333333333333333,\"#9c179e\"],[0.4444444444444444,\"#bd3786\"],[0.5555555555555556,\"#d8576b\"],[0.6666666666666666,\"#ed7953\"],[0.7777777777777778,\"#fb9f3a\"],[0.8888888888888888,\"#fdca26\"],[1.0,\"#f0f921\"]],\"type\":\"histogram2dcontour\"}],\"mesh3d\":[{\"colorbar\":{\"outlinewidth\":0,\"ticks\":\"\"},\"type\":\"mesh3d\"}],\"parcoords\":[{\"line\":{\"colorbar\":{\"outlinewidth\":0,\"ticks\":\"\"}},\"type\":\"parcoords\"}],\"pie\":[{\"automargin\":true,\"type\":\"pie\"}],\"scatter\":[{\"marker\":{\"colorbar\":{\"outlinewidth\":0,\"ticks\":\"\"}},\"type\":\"scatter\"}],\"scatter3d\":[{\"line\":{\"colorbar\":{\"outlinewidth\":0,\"ticks\":\"\"}},\"marker\":{\"colorbar\":{\"outlinewidth\":0,\"ticks\":\"\"}},\"type\":\"scatter3d\"}],\"scattercarpet\":[{\"marker\":{\"colorbar\":{\"outlinewidth\":0,\"ticks\":\"\"}},\"type\":\"scattercarpet\"}],\"scattergeo\":[{\"marker\":{\"colorbar\":{\"outlinewidth\":0,\"ticks\":\"\"}},\"type\":\"scattergeo\"}],\"scattergl\":[{\"marker\":{\"colorbar\":{\"outlinewidth\":0,\"ticks\":\"\"}},\"type\":\"scattergl\"}],\"scattermapbox\":[{\"marker\":{\"colorbar\":{\"outlinewidth\":0,\"ticks\":\"\"}},\"type\":\"scattermapbox\"}],\"scatterpolar\":[{\"marker\":{\"colorbar\":{\"outlinewidth\":0,\"ticks\":\"\"}},\"type\":\"scatterpolar\"}],\"scatterpolargl\":[{\"marker\":{\"colorbar\":{\"outlinewidth\":0,\"ticks\":\"\"}},\"type\":\"scatterpolargl\"}],\"scatterternary\":[{\"marker\":{\"colorbar\":{\"outlinewidth\":0,\"ticks\":\"\"}},\"type\":\"scatterternary\"}],\"surface\":[{\"colorbar\":{\"outlinewidth\":0,\"ticks\":\"\"},\"colorscale\":[[0.0,\"#0d0887\"],[0.1111111111111111,\"#46039f\"],[0.2222222222222222,\"#7201a8\"],[0.3333333333333333,\"#9c179e\"],[0.4444444444444444,\"#bd3786\"],[0.5555555555555556,\"#d8576b\"],[0.6666666666666666,\"#ed7953\"],[0.7777777777777778,\"#fb9f3a\"],[0.8888888888888888,\"#fdca26\"],[1.0,\"#f0f921\"]],\"type\":\"surface\"}],\"table\":[{\"cells\":{\"fill\":{\"color\":\"#EBF0F8\"},\"line\":{\"color\":\"white\"}},\"header\":{\"fill\":{\"color\":\"#C8D4E3\"},\"line\":{\"color\":\"white\"}},\"type\":\"table\"}]},\"layout\":{\"annotationdefaults\":{\"arrowcolor\":\"#2a3f5f\",\"arrowhead\":0,\"arrowwidth\":1},\"autotypenumbers\":\"strict\",\"coloraxis\":{\"colorbar\":{\"outlinewidth\":0,\"ticks\":\"\"}},\"colorscale\":{\"diverging\":[[0,\"#8e0152\"],[0.1,\"#c51b7d\"],[0.2,\"#de77ae\"],[0.3,\"#f1b6da\"],[0.4,\"#fde0ef\"],[0.5,\"#f7f7f7\"],[0.6,\"#e6f5d0\"],[0.7,\"#b8e186\"],[0.8,\"#7fbc41\"],[0.9,\"#4d9221\"],[1,\"#276419\"]],\"sequential\":[[0.0,\"#0d0887\"],[0.1111111111111111,\"#46039f\"],[0.2222222222222222,\"#7201a8\"],[0.3333333333333333,\"#9c179e\"],[0.4444444444444444,\"#bd3786\"],[0.5555555555555556,\"#d8576b\"],[0.6666666666666666,\"#ed7953\"],[0.7777777777777778,\"#fb9f3a\"],[0.8888888888888888,\"#fdca26\"],[1.0,\"#f0f921\"]],\"sequentialminus\":[[0.0,\"#0d0887\"],[0.1111111111111111,\"#46039f\"],[0.2222222222222222,\"#7201a8\"],[0.3333333333333333,\"#9c179e\"],[0.4444444444444444,\"#bd3786\"],[0.5555555555555556,\"#d8576b\"],[0.6666666666666666,\"#ed7953\"],[0.7777777777777778,\"#fb9f3a\"],[0.8888888888888888,\"#fdca26\"],[1.0,\"#f0f921\"]]},\"colorway\":[\"#636efa\",\"#EF553B\",\"#00cc96\",\"#ab63fa\",\"#FFA15A\",\"#19d3f3\",\"#FF6692\",\"#B6E880\",\"#FF97FF\",\"#FECB52\"],\"font\":{\"color\":\"#2a3f5f\"},\"geo\":{\"bgcolor\":\"white\",\"lakecolor\":\"white\",\"landcolor\":\"#E5ECF6\",\"showlakes\":true,\"showland\":true,\"subunitcolor\":\"white\"},\"hoverlabel\":{\"align\":\"left\"},\"hovermode\":\"closest\",\"mapbox\":{\"style\":\"light\"},\"paper_bgcolor\":\"white\",\"plot_bgcolor\":\"#E5ECF6\",\"polar\":{\"angularaxis\":{\"gridcolor\":\"white\",\"linecolor\":\"white\",\"ticks\":\"\"},\"bgcolor\":\"#E5ECF6\",\"radialaxis\":{\"gridcolor\":\"white\",\"linecolor\":\"white\",\"ticks\":\"\"}},\"scene\":{\"xaxis\":{\"backgroundcolor\":\"#E5ECF6\",\"gridcolor\":\"white\",\"gridwidth\":2,\"linecolor\":\"white\",\"showbackground\":true,\"ticks\":\"\",\"zerolinecolor\":\"white\"},\"yaxis\":{\"backgroundcolor\":\"#E5ECF6\",\"gridcolor\":\"white\",\"gridwidth\":2,\"linecolor\":\"white\",\"showbackground\":true,\"ticks\":\"\",\"zerolinecolor\":\"white\"},\"zaxis\":{\"backgroundcolor\":\"#E5ECF6\",\"gridcolor\":\"white\",\"gridwidth\":2,\"linecolor\":\"white\",\"showbackground\":true,\"ticks\":\"\",\"zerolinecolor\":\"white\"}},\"shapedefaults\":{\"line\":{\"color\":\"#2a3f5f\"}},\"ternary\":{\"aaxis\":{\"gridcolor\":\"white\",\"linecolor\":\"white\",\"ticks\":\"\"},\"baxis\":{\"gridcolor\":\"white\",\"linecolor\":\"white\",\"ticks\":\"\"},\"bgcolor\":\"#E5ECF6\",\"caxis\":{\"gridcolor\":\"white\",\"linecolor\":\"white\",\"ticks\":\"\"}},\"title\":{\"x\":0.05},\"xaxis\":{\"automargin\":true,\"gridcolor\":\"white\",\"linecolor\":\"white\",\"ticks\":\"\",\"title\":{\"standoff\":15},\"zerolinecolor\":\"white\",\"zerolinewidth\":2},\"yaxis\":{\"automargin\":true,\"gridcolor\":\"white\",\"linecolor\":\"white\",\"ticks\":\"\",\"title\":{\"standoff\":15},\"zerolinecolor\":\"white\",\"zerolinewidth\":2}}},\"title\":{\"text\":\"Heart Disease vs. Absence of Heart Disease\",\"x\":0.5}},                        {\"responsive\": true}                    )                };                            </script>        </div>\n",
       "</body>\n",
       "</html>"
      ]
     },
     "metadata": {
      "application/vnd.databricks.v1+output": {
       "addedWidgets": {},
       "arguments": {},
       "data": "<html>\n<head><meta charset=\"utf-8\" /></head>\n<body>\n    <div>            <script src=\"https://cdnjs.cloudflare.com/ajax/libs/mathjax/2.7.5/MathJax.js?config=TeX-AMS-MML_SVG\"></script><script type=\"text/javascript\">if (window.MathJax) {MathJax.Hub.Config({SVG: {font: \"STIX-Web\"}});}</script>                <script type=\"text/javascript\">window.PlotlyConfig = {MathJaxConfig: 'local'};</script>\n        <script src=\"https://cdn.plot.ly/plotly-2.9.0.min.js\"></script>                <div id=\"83e0a068-c8a6-4f80-b055-712ee648aaba\" class=\"plotly-graph-div\" style=\"height:100%; width:100%;\"></div>            <script type=\"text/javascript\">                                    window.PLOTLYENV=window.PLOTLYENV || {};                                    if (document.getElementById(\"83e0a068-c8a6-4f80-b055-712ee648aaba\")) {                    Plotly.newPlot(                        \"83e0a068-c8a6-4f80-b055-712ee648aaba\",                        [{\"labels\":[0,1],\"values\":[138,165],\"type\":\"pie\",\"textfont\":{\"color\":\"black\",\"size\":20},\"marker\":{\"line\":{\"color\":\"#000000\",\"width\":2},\"colors\":[\"gold\",\"mediumturquoise\",\"darkorange\",\"lightgreen\"]},\"hoverinfo\":\"label+percent\",\"textinfo\":\"value+percent\"}],                        {\"template\":{\"data\":{\"bar\":[{\"error_x\":{\"color\":\"#2a3f5f\"},\"error_y\":{\"color\":\"#2a3f5f\"},\"marker\":{\"line\":{\"color\":\"#E5ECF6\",\"width\":0.5},\"pattern\":{\"fillmode\":\"overlay\",\"size\":10,\"solidity\":0.2}},\"type\":\"bar\"}],\"barpolar\":[{\"marker\":{\"line\":{\"color\":\"#E5ECF6\",\"width\":0.5},\"pattern\":{\"fillmode\":\"overlay\",\"size\":10,\"solidity\":0.2}},\"type\":\"barpolar\"}],\"carpet\":[{\"aaxis\":{\"endlinecolor\":\"#2a3f5f\",\"gridcolor\":\"white\",\"linecolor\":\"white\",\"minorgridcolor\":\"white\",\"startlinecolor\":\"#2a3f5f\"},\"baxis\":{\"endlinecolor\":\"#2a3f5f\",\"gridcolor\":\"white\",\"linecolor\":\"white\",\"minorgridcolor\":\"white\",\"startlinecolor\":\"#2a3f5f\"},\"type\":\"carpet\"}],\"choropleth\":[{\"colorbar\":{\"outlinewidth\":0,\"ticks\":\"\"},\"type\":\"choropleth\"}],\"contour\":[{\"colorbar\":{\"outlinewidth\":0,\"ticks\":\"\"},\"colorscale\":[[0.0,\"#0d0887\"],[0.1111111111111111,\"#46039f\"],[0.2222222222222222,\"#7201a8\"],[0.3333333333333333,\"#9c179e\"],[0.4444444444444444,\"#bd3786\"],[0.5555555555555556,\"#d8576b\"],[0.6666666666666666,\"#ed7953\"],[0.7777777777777778,\"#fb9f3a\"],[0.8888888888888888,\"#fdca26\"],[1.0,\"#f0f921\"]],\"type\":\"contour\"}],\"contourcarpet\":[{\"colorbar\":{\"outlinewidth\":0,\"ticks\":\"\"},\"type\":\"contourcarpet\"}],\"heatmap\":[{\"colorbar\":{\"outlinewidth\":0,\"ticks\":\"\"},\"colorscale\":[[0.0,\"#0d0887\"],[0.1111111111111111,\"#46039f\"],[0.2222222222222222,\"#7201a8\"],[0.3333333333333333,\"#9c179e\"],[0.4444444444444444,\"#bd3786\"],[0.5555555555555556,\"#d8576b\"],[0.6666666666666666,\"#ed7953\"],[0.7777777777777778,\"#fb9f3a\"],[0.8888888888888888,\"#fdca26\"],[1.0,\"#f0f921\"]],\"type\":\"heatmap\"}],\"heatmapgl\":[{\"colorbar\":{\"outlinewidth\":0,\"ticks\":\"\"},\"colorscale\":[[0.0,\"#0d0887\"],[0.1111111111111111,\"#46039f\"],[0.2222222222222222,\"#7201a8\"],[0.3333333333333333,\"#9c179e\"],[0.4444444444444444,\"#bd3786\"],[0.5555555555555556,\"#d8576b\"],[0.6666666666666666,\"#ed7953\"],[0.7777777777777778,\"#fb9f3a\"],[0.8888888888888888,\"#fdca26\"],[1.0,\"#f0f921\"]],\"type\":\"heatmapgl\"}],\"histogram\":[{\"marker\":{\"pattern\":{\"fillmode\":\"overlay\",\"size\":10,\"solidity\":0.2}},\"type\":\"histogram\"}],\"histogram2d\":[{\"colorbar\":{\"outlinewidth\":0,\"ticks\":\"\"},\"colorscale\":[[0.0,\"#0d0887\"],[0.1111111111111111,\"#46039f\"],[0.2222222222222222,\"#7201a8\"],[0.3333333333333333,\"#9c179e\"],[0.4444444444444444,\"#bd3786\"],[0.5555555555555556,\"#d8576b\"],[0.6666666666666666,\"#ed7953\"],[0.7777777777777778,\"#fb9f3a\"],[0.8888888888888888,\"#fdca26\"],[1.0,\"#f0f921\"]],\"type\":\"histogram2d\"}],\"histogram2dcontour\":[{\"colorbar\":{\"outlinewidth\":0,\"ticks\":\"\"},\"colorscale\":[[0.0,\"#0d0887\"],[0.1111111111111111,\"#46039f\"],[0.2222222222222222,\"#7201a8\"],[0.3333333333333333,\"#9c179e\"],[0.4444444444444444,\"#bd3786\"],[0.5555555555555556,\"#d8576b\"],[0.6666666666666666,\"#ed7953\"],[0.7777777777777778,\"#fb9f3a\"],[0.8888888888888888,\"#fdca26\"],[1.0,\"#f0f921\"]],\"type\":\"histogram2dcontour\"}],\"mesh3d\":[{\"colorbar\":{\"outlinewidth\":0,\"ticks\":\"\"},\"type\":\"mesh3d\"}],\"parcoords\":[{\"line\":{\"colorbar\":{\"outlinewidth\":0,\"ticks\":\"\"}},\"type\":\"parcoords\"}],\"pie\":[{\"automargin\":true,\"type\":\"pie\"}],\"scatter\":[{\"marker\":{\"colorbar\":{\"outlinewidth\":0,\"ticks\":\"\"}},\"type\":\"scatter\"}],\"scatter3d\":[{\"line\":{\"colorbar\":{\"outlinewidth\":0,\"ticks\":\"\"}},\"marker\":{\"colorbar\":{\"outlinewidth\":0,\"ticks\":\"\"}},\"type\":\"scatter3d\"}],\"scattercarpet\":[{\"marker\":{\"colorbar\":{\"outlinewidth\":0,\"ticks\":\"\"}},\"type\":\"scattercarpet\"}],\"scattergeo\":[{\"marker\":{\"colorbar\":{\"outlinewidth\":0,\"ticks\":\"\"}},\"type\":\"scattergeo\"}],\"scattergl\":[{\"marker\":{\"colorbar\":{\"outlinewidth\":0,\"ticks\":\"\"}},\"type\":\"scattergl\"}],\"scattermapbox\":[{\"marker\":{\"colorbar\":{\"outlinewidth\":0,\"ticks\":\"\"}},\"type\":\"scattermapbox\"}],\"scatterpolar\":[{\"marker\":{\"colorbar\":{\"outlinewidth\":0,\"ticks\":\"\"}},\"type\":\"scatterpolar\"}],\"scatterpolargl\":[{\"marker\":{\"colorbar\":{\"outlinewidth\":0,\"ticks\":\"\"}},\"type\":\"scatterpolargl\"}],\"scatterternary\":[{\"marker\":{\"colorbar\":{\"outlinewidth\":0,\"ticks\":\"\"}},\"type\":\"scatterternary\"}],\"surface\":[{\"colorbar\":{\"outlinewidth\":0,\"ticks\":\"\"},\"colorscale\":[[0.0,\"#0d0887\"],[0.1111111111111111,\"#46039f\"],[0.2222222222222222,\"#7201a8\"],[0.3333333333333333,\"#9c179e\"],[0.4444444444444444,\"#bd3786\"],[0.5555555555555556,\"#d8576b\"],[0.6666666666666666,\"#ed7953\"],[0.7777777777777778,\"#fb9f3a\"],[0.8888888888888888,\"#fdca26\"],[1.0,\"#f0f921\"]],\"type\":\"surface\"}],\"table\":[{\"cells\":{\"fill\":{\"color\":\"#EBF0F8\"},\"line\":{\"color\":\"white\"}},\"header\":{\"fill\":{\"color\":\"#C8D4E3\"},\"line\":{\"color\":\"white\"}},\"type\":\"table\"}]},\"layout\":{\"annotationdefaults\":{\"arrowcolor\":\"#2a3f5f\",\"arrowhead\":0,\"arrowwidth\":1},\"autotypenumbers\":\"strict\",\"coloraxis\":{\"colorbar\":{\"outlinewidth\":0,\"ticks\":\"\"}},\"colorscale\":{\"diverging\":[[0,\"#8e0152\"],[0.1,\"#c51b7d\"],[0.2,\"#de77ae\"],[0.3,\"#f1b6da\"],[0.4,\"#fde0ef\"],[0.5,\"#f7f7f7\"],[0.6,\"#e6f5d0\"],[0.7,\"#b8e186\"],[0.8,\"#7fbc41\"],[0.9,\"#4d9221\"],[1,\"#276419\"]],\"sequential\":[[0.0,\"#0d0887\"],[0.1111111111111111,\"#46039f\"],[0.2222222222222222,\"#7201a8\"],[0.3333333333333333,\"#9c179e\"],[0.4444444444444444,\"#bd3786\"],[0.5555555555555556,\"#d8576b\"],[0.6666666666666666,\"#ed7953\"],[0.7777777777777778,\"#fb9f3a\"],[0.8888888888888888,\"#fdca26\"],[1.0,\"#f0f921\"]],\"sequentialminus\":[[0.0,\"#0d0887\"],[0.1111111111111111,\"#46039f\"],[0.2222222222222222,\"#7201a8\"],[0.3333333333333333,\"#9c179e\"],[0.4444444444444444,\"#bd3786\"],[0.5555555555555556,\"#d8576b\"],[0.6666666666666666,\"#ed7953\"],[0.7777777777777778,\"#fb9f3a\"],[0.8888888888888888,\"#fdca26\"],[1.0,\"#f0f921\"]]},\"colorway\":[\"#636efa\",\"#EF553B\",\"#00cc96\",\"#ab63fa\",\"#FFA15A\",\"#19d3f3\",\"#FF6692\",\"#B6E880\",\"#FF97FF\",\"#FECB52\"],\"font\":{\"color\":\"#2a3f5f\"},\"geo\":{\"bgcolor\":\"white\",\"lakecolor\":\"white\",\"landcolor\":\"#E5ECF6\",\"showlakes\":true,\"showland\":true,\"subunitcolor\":\"white\"},\"hoverlabel\":{\"align\":\"left\"},\"hovermode\":\"closest\",\"mapbox\":{\"style\":\"light\"},\"paper_bgcolor\":\"white\",\"plot_bgcolor\":\"#E5ECF6\",\"polar\":{\"angularaxis\":{\"gridcolor\":\"white\",\"linecolor\":\"white\",\"ticks\":\"\"},\"bgcolor\":\"#E5ECF6\",\"radialaxis\":{\"gridcolor\":\"white\",\"linecolor\":\"white\",\"ticks\":\"\"}},\"scene\":{\"xaxis\":{\"backgroundcolor\":\"#E5ECF6\",\"gridcolor\":\"white\",\"gridwidth\":2,\"linecolor\":\"white\",\"showbackground\":true,\"ticks\":\"\",\"zerolinecolor\":\"white\"},\"yaxis\":{\"backgroundcolor\":\"#E5ECF6\",\"gridcolor\":\"white\",\"gridwidth\":2,\"linecolor\":\"white\",\"showbackground\":true,\"ticks\":\"\",\"zerolinecolor\":\"white\"},\"zaxis\":{\"backgroundcolor\":\"#E5ECF6\",\"gridcolor\":\"white\",\"gridwidth\":2,\"linecolor\":\"white\",\"showbackground\":true,\"ticks\":\"\",\"zerolinecolor\":\"white\"}},\"shapedefaults\":{\"line\":{\"color\":\"#2a3f5f\"}},\"ternary\":{\"aaxis\":{\"gridcolor\":\"white\",\"linecolor\":\"white\",\"ticks\":\"\"},\"baxis\":{\"gridcolor\":\"white\",\"linecolor\":\"white\",\"ticks\":\"\"},\"bgcolor\":\"#E5ECF6\",\"caxis\":{\"gridcolor\":\"white\",\"linecolor\":\"white\",\"ticks\":\"\"}},\"title\":{\"x\":0.05},\"xaxis\":{\"automargin\":true,\"gridcolor\":\"white\",\"linecolor\":\"white\",\"ticks\":\"\",\"title\":{\"standoff\":15},\"zerolinecolor\":\"white\",\"zerolinewidth\":2},\"yaxis\":{\"automargin\":true,\"gridcolor\":\"white\",\"linecolor\":\"white\",\"ticks\":\"\",\"title\":{\"standoff\":15},\"zerolinecolor\":\"white\",\"zerolinewidth\":2}}},\"title\":{\"text\":\"Heart Disease vs. Absence of Heart Disease\",\"x\":0.5}},                        {\"responsive\": true}                    )                };                            </script>        </div>\n</body>\n</html>",
       "datasetInfos": [],
       "metadata": {},
       "removedWidgets": [],
       "textData": null,
       "type": "htmlSandbox"
      }
     },
     "output_type": "display_data"
    }
   ],
   "source": [
    "df2=df.toPandas()\n",
    "df22=df2.groupby('target').count().reset_index()[['target','age']].rename(columns={'age':'counts'})\n",
    "colors = ['gold', 'mediumturquoise', 'darkorange', 'lightgreen']\n",
    "fig = go.Figure(data=[go.Pie(labels=df22.target,\n",
    "                             values=df22.counts)])\n",
    "fig.update_traces(hoverinfo='label+percent', textinfo='value+percent', textfont_size=20, textfont_color='black',\n",
    "                  marker=dict(colors=colors, line=dict(color='#000000', width=2)))\n",
    "# fig.show()\n",
    "fig.update_layout(title='Heart Disease vs. Absence of Heart Disease', title_x=0.5)"
   ]
  },
  {
   "cell_type": "markdown",
   "metadata": {
    "application/vnd.databricks.v1+cell": {
     "cellMetadata": {
      "byteLimit": 2048000,
      "rowLimit": 10000
     },
     "inputWidgets": {},
     "nuid": "8349c2f8-8b20-4d43-a602-70eb4e0e76c5",
     "showTitle": false,
     "title": ""
    }
   },
   "source": [
    "### Histograms of Feature Variables:"
   ]
  },
  {
   "cell_type": "code",
   "execution_count": null,
   "metadata": {
    "application/vnd.databricks.v1+cell": {
     "cellMetadata": {
      "byteLimit": 2048000,
      "rowLimit": 10000
     },
     "inputWidgets": {},
     "nuid": "769620db-f20c-43a5-95eb-3169fa72ea60",
     "showTitle": false,
     "title": ""
    }
   },
   "outputs": [
    {
     "name": "stdout",
     "output_type": "stream",
     "text": [
      "Index(['age', 'sex', 'cp', 'trestbps', 'chol', 'fbs', 'restecg', 'thalach',\n",
      "       'exang', 'oldpeak', 'slope', 'ca', 'thal', 'target', 'Race', 'Totchg'],\n",
      "      dtype='object')\n"
     ]
    }
   ],
   "source": [
    "print(df2.columns)"
   ]
  },
  {
   "cell_type": "code",
   "execution_count": null,
   "metadata": {
    "application/vnd.databricks.v1+cell": {
     "cellMetadata": {
      "byteLimit": 2048000,
      "rowLimit": 10000
     },
     "inputWidgets": {},
     "nuid": "241a4b85-d60b-4190-befb-a74705c2e1c4",
     "showTitle": false,
     "title": ""
    }
   },
   "outputs": [
    {
     "data": {
      "text/html": [
       "<html>\n",
       "<head><meta charset=\"utf-8\" /></head>\n",
       "<body>\n",
       "    <div>            <script src=\"https://cdnjs.cloudflare.com/ajax/libs/mathjax/2.7.5/MathJax.js?config=TeX-AMS-MML_SVG\"></script><script type=\"text/javascript\">if (window.MathJax) {MathJax.Hub.Config({SVG: {font: \"STIX-Web\"}});}</script>                <script type=\"text/javascript\">window.PlotlyConfig = {MathJaxConfig: 'local'};</script>\n",
       "        <script src=\"https://cdn.plot.ly/plotly-2.9.0.min.js\"></script>                <div id=\"7ca9a0c8-a908-4ae5-9070-1674c44c77b7\" class=\"plotly-graph-div\" style=\"height:100%; width:100%;\"></div>            <script type=\"text/javascript\">                                    window.PLOTLYENV=window.PLOTLYENV || {};                                    if (document.getElementById(\"7ca9a0c8-a908-4ae5-9070-1674c44c77b7\")) {                    Plotly.newPlot(                        \"7ca9a0c8-a908-4ae5-9070-1674c44c77b7\",                        [{\"name\":\"age\",\"x\":[63,37,41,56,57,57,56,44,52,57,54,48,49,64,58,50,58,66,43,69,59,44,42,61,40,71,59,51,65,53,41,65,44,54,51,46,54,54,65,65,51,48,45,53,39,52,44,47,53,53,51,66,62,44,63,52,48,45,34,57,71,54,52,41,58,35,51,45,44,62,54,51,29,51,43,55,51,59,52,58,41,45,60,52,42,67,68,46,54,58,48,57,52,54,45,53,62,52,43,53,42,59,63,42,50,68,69,45,50,50,64,57,64,43,55,37,41,56,46,46,64,59,41,54,39,34,47,67,52,74,54,49,42,41,41,49,60,62,57,64,51,43,42,67,76,70,44,60,44,42,66,71,64,66,39,58,47,35,58,56,56,55,41,38,38,67,67,62,63,53,56,48,58,58,60,40,60,64,43,57,55,65,61,58,50,44,60,54,50,41,51,58,54,60,60,59,46,67,62,65,44,60,58,68,62,52,59,60,49,59,57,61,39,61,56,43,62,63,65,48,63,55,65,56,54,70,62,35,59,64,47,57,55,64,70,51,58,60,77,35,70,59,64,57,56,48,56,66,54,69,51,43,62,67,59,45,58,50,62,38,66,52,53,63,54,66,55,49,54,56,46,61,67,58,47,52,58,57,58,61,42,52,59,40,61,46,59,57,57,55,61,58,58,67,44,63,63,59,57,45,68,57,57],\"type\":\"histogram\",\"xaxis\":\"x\",\"yaxis\":\"y\"},{\"name\":\"sex\",\"x\":[1,1,0,1,0,1,0,1,1,1,1,0,1,1,0,0,0,0,1,0,1,1,1,1,1,0,1,1,0,1,0,1,1,1,1,0,0,1,0,0,0,1,1,0,1,1,1,1,0,0,0,1,1,0,0,1,1,1,1,0,0,1,1,1,1,0,1,0,1,0,1,1,1,1,0,0,1,1,1,1,1,1,0,1,0,0,1,1,0,0,1,1,1,0,0,1,0,1,1,1,1,1,0,1,1,0,1,0,0,0,0,1,0,1,1,0,1,1,0,0,0,1,0,0,0,0,1,0,0,0,0,0,1,1,0,0,0,1,1,1,0,1,0,0,0,1,0,0,1,1,1,0,1,0,0,0,1,1,1,1,1,0,1,1,1,1,1,0,1,1,1,1,1,1,1,1,1,1,1,1,1,0,0,1,1,1,1,1,1,1,0,1,1,1,1,1,1,1,1,1,1,1,1,1,0,1,1,0,1,1,1,1,1,0,1,0,0,1,1,1,0,1,1,0,1,1,1,1,1,1,1,1,1,1,1,1,1,1,1,1,1,0,1,1,1,1,0,1,1,1,1,1,0,1,1,1,1,1,0,1,0,1,1,0,1,1,0,1,1,1,1,1,1,1,1,1,1,1,0,1,1,1,1,1,1,1,1,1,1,0,1,1,0,1,1,1,0,1,0,1,1,1,0],\"type\":\"histogram\",\"xaxis\":\"x2\",\"yaxis\":\"y2\"},{\"name\":\"cp\",\"x\":[3,2,1,1,0,0,1,1,2,2,0,2,1,3,3,2,2,3,0,3,0,2,0,2,3,1,2,2,2,2,1,0,1,2,3,2,2,2,2,2,2,1,0,0,2,1,2,2,2,0,2,0,2,2,2,1,0,0,3,0,2,1,3,1,2,0,2,1,1,0,2,2,1,0,2,1,2,1,1,2,2,1,2,3,0,2,2,1,2,0,2,0,2,1,1,0,0,0,2,2,3,3,1,2,2,2,3,0,1,0,0,2,2,0,1,2,2,3,1,0,0,0,2,2,2,1,0,2,2,1,2,1,1,1,1,0,2,1,0,0,2,0,2,0,2,1,2,3,2,2,0,0,3,2,2,0,2,1,1,1,1,1,1,2,2,0,0,0,0,0,2,1,1,2,0,0,0,2,0,0,0,0,0,2,0,0,0,0,2,0,0,0,0,0,2,0,2,0,0,0,0,0,0,2,0,0,0,0,2,0,2,0,0,0,0,0,2,0,0,0,0,0,3,0,0,0,1,0,3,2,2,0,0,0,0,0,0,0,0,0,2,0,0,0,0,0,0,1,1,2,0,0,0,0,3,0,0,0,0,3,0,0,0,0,0,0,0,2,0,0,0,3,0,0,0,0,0,1,1,0,0,0,2,0,0,0,3,1,0,0,0,0,0,2,0,0,0,0,0,3,0,0,1],\"type\":\"histogram\",\"xaxis\":\"x3\",\"yaxis\":\"y3\"},{\"name\":\"trestbps\",\"x\":[145,130,130,120,120,140,140,120,172,150,140,130,130,110,150,120,120,150,150,140,135,130,140,150,140,160,150,110,140,130,105,120,130,125,125,142,135,150,155,160,140,130,104,130,140,120,140,138,128,138,130,120,130,108,135,134,122,115,118,128,110,108,118,135,140,138,100,130,120,124,120,94,130,140,122,135,125,140,128,105,112,128,102,152,102,115,118,101,110,100,124,132,138,132,112,142,140,108,130,130,148,178,140,120,129,120,160,138,120,110,180,150,140,110,130,120,130,120,105,138,130,138,112,108,94,118,112,152,136,120,160,134,120,110,126,130,120,128,110,128,120,115,120,106,140,156,118,150,120,130,160,112,170,146,138,130,130,122,125,130,120,132,120,138,138,160,120,140,130,140,130,110,120,132,130,110,117,140,120,150,132,150,130,112,150,112,130,124,140,110,130,128,120,145,140,170,150,125,120,110,110,125,150,180,160,128,110,150,120,140,128,120,118,145,125,132,130,130,135,130,150,140,138,200,110,145,120,120,170,125,108,165,160,120,130,140,125,140,125,126,160,174,145,152,132,124,134,160,192,140,140,132,138,100,160,142,128,144,150,120,178,112,123,108,110,112,180,118,122,130,120,134,120,100,110,125,146,124,136,138,136,128,126,152,140,140,134,154,110,128,148,114,170,152,120,140,124,164,140,110,144,130,130],\"type\":\"histogram\",\"xaxis\":\"x4\",\"yaxis\":\"y4\"},{\"name\":\"chol\",\"x\":[233,250,204,236,354,192,294,263,199,168,239,275,266,211,283,219,340,226,247,239,234,233,226,243,199,302,212,175,417,197,198,177,219,273,213,177,304,232,269,360,308,245,208,264,321,325,235,257,216,234,256,302,231,141,252,201,222,260,182,303,265,309,186,203,211,183,222,234,220,209,258,227,204,261,213,250,245,221,205,240,250,308,318,298,265,564,277,197,214,248,255,207,223,288,160,226,394,233,315,246,244,270,195,240,196,211,234,236,244,254,325,126,313,211,262,215,214,193,204,243,303,271,268,267,199,210,204,277,196,269,201,271,295,235,306,269,178,208,201,263,295,303,209,223,197,245,242,240,226,180,228,149,227,278,220,197,253,192,220,221,240,342,157,175,175,286,229,268,254,203,256,229,284,224,206,167,230,335,177,276,353,225,330,230,243,290,253,266,233,172,305,216,188,282,185,326,231,254,267,248,197,258,270,274,164,255,239,258,188,177,229,260,219,307,249,341,263,330,254,256,407,217,282,288,239,174,281,198,288,309,243,289,289,246,322,299,300,293,304,282,269,249,212,274,184,274,409,246,283,254,298,247,294,299,273,309,259,200,244,231,228,230,282,269,206,212,327,149,286,283,249,234,237,234,275,212,218,261,319,166,315,204,218,223,207,311,204,232,335,205,203,318,225,212,169,187,197,176,241,264,193,131,236],\"type\":\"histogram\",\"xaxis\":\"x5\",\"yaxis\":\"y5\"},{\"name\":\"fbs\",\"x\":[1,0,0,0,0,0,0,0,1,0,0,0,0,0,1,0,0,0,0,0,0,0,0,1,0,0,1,0,1,1,0,0,0,0,0,0,1,0,0,0,0,0,0,0,0,0,0,0,0,0,0,0,0,0,0,0,0,0,0,0,1,0,0,0,1,0,0,0,0,0,0,0,0,0,0,0,1,0,1,0,0,0,0,1,0,0,0,1,0,0,1,0,0,1,0,0,0,1,0,1,0,0,0,1,0,0,1,0,0,0,0,1,0,0,0,0,0,0,0,0,0,0,0,0,0,0,0,0,0,0,0,0,0,0,0,0,1,1,0,0,0,0,0,0,0,0,0,0,0,0,0,0,0,0,0,0,0,0,0,0,0,0,0,0,0,0,0,0,0,1,1,0,0,0,0,0,1,0,0,0,0,0,0,0,0,0,0,0,0,0,0,0,0,0,0,0,0,1,0,0,0,0,0,1,0,0,0,0,0,0,0,0,0,0,1,1,0,1,0,1,0,0,1,1,0,0,0,0,0,0,0,1,0,0,0,0,0,0,0,0,0,0,0,0,0,0,0,0,0,0,0,1,1,0,0,0,0,0,0,0,1,0,0,0,0,0,0,0,0,1,0,0,0,0,0,0,0,0,1,0,0,1,1,0,0,0,0,0,0,0,0,0,1,0,0,0,0,1,0,0,1,0,0],\"type\":\"histogram\",\"xaxis\":\"x6\",\"yaxis\":\"y6\"},{\"name\":\"restecg\",\"x\":[0,1,0,1,1,1,0,1,1,1,1,1,1,0,0,1,1,1,1,1,1,1,1,1,1,1,1,1,0,0,1,1,0,0,0,0,1,0,1,0,0,0,0,0,0,1,0,0,0,0,0,0,1,1,0,1,0,0,0,0,0,1,0,1,0,1,1,0,1,1,0,1,0,0,1,0,0,1,1,0,1,0,1,1,0,0,1,1,1,0,1,1,1,0,1,0,0,1,1,0,0,0,1,1,1,0,0,0,1,0,1,1,1,1,1,1,0,0,1,0,1,0,0,0,1,1,1,1,0,0,1,1,1,1,1,1,1,0,1,1,0,1,1,1,2,0,1,1,1,1,0,1,0,0,1,1,1,1,1,0,1,1,1,1,1,0,0,0,0,0,0,1,0,0,0,0,1,1,0,0,1,0,0,0,0,0,1,0,1,0,1,0,1,0,0,0,1,1,1,0,0,0,0,0,0,1,0,0,1,1,0,1,1,0,0,0,1,0,0,0,0,1,0,0,1,1,0,1,0,1,1,0,0,0,0,1,0,0,0,0,1,1,0,1,0,0,0,1,0,0,1,0,1,0,0,0,0,0,1,1,1,1,1,1,0,0,2,0,0,0,0,1,1,1,0,1,1,1,0,0,1,1,1,1,0,1,1,0,1,2,1,2,0,0,1,0,1,0,1,1,1,1,0],\"type\":\"histogram\",\"xaxis\":\"x7\",\"yaxis\":\"y7\"},{\"name\":\"thalach\",\"x\":[150,187,172,178,163,148,153,173,162,174,160,139,171,144,162,158,172,114,171,151,161,179,178,137,178,162,157,123,157,152,168,140,188,152,125,160,170,165,148,151,142,180,148,143,182,172,180,156,115,160,149,151,146,175,172,158,186,185,174,159,130,156,190,132,165,182,143,175,170,163,147,154,202,186,165,161,166,164,184,154,179,170,160,178,122,160,151,156,158,122,175,168,169,159,138,111,157,147,162,173,178,145,179,194,163,115,131,152,162,159,154,173,133,161,155,170,168,162,172,152,122,182,172,167,179,192,143,172,169,121,163,162,162,153,163,163,96,140,126,105,157,181,173,142,116,143,149,171,169,150,138,125,155,152,152,131,179,174,144,163,169,166,182,173,173,108,129,160,147,155,142,168,160,173,132,114,160,158,120,112,132,114,169,165,128,153,144,109,163,158,142,131,113,142,155,140,147,163,99,158,177,141,111,150,145,161,142,157,139,162,150,140,140,146,144,136,97,132,127,150,154,111,174,133,126,125,103,130,159,131,152,124,145,96,109,173,171,170,162,156,112,143,132,88,105,166,150,120,195,146,122,143,106,125,125,147,130,126,154,182,165,160,95,169,108,132,117,126,116,103,144,145,71,156,118,168,105,141,152,125,125,156,134,181,138,120,162,164,143,130,161,140,146,150,144,144,136,90,123,132,141,115,174],\"type\":\"histogram\",\"xaxis\":\"x8\",\"yaxis\":\"y8\"},{\"name\":\"exang\",\"x\":[0,0,0,0,1,0,0,0,0,0,0,0,0,1,0,0,0,0,0,0,0,1,0,1,1,0,0,0,0,0,0,0,0,0,1,1,0,0,0,0,0,0,1,0,0,0,0,0,0,0,0,0,0,0,0,0,0,0,0,0,0,0,0,0,0,0,1,0,0,0,0,1,0,1,0,0,0,1,0,1,0,0,0,0,0,0,0,0,0,0,0,1,0,1,0,1,0,0,0,0,0,0,0,0,0,0,0,1,0,0,1,0,0,0,0,0,0,0,0,1,0,0,1,0,0,0,0,0,0,1,0,0,0,0,0,0,0,0,1,1,0,0,0,0,0,0,0,0,0,0,0,0,0,0,0,0,0,0,0,0,0,0,0,0,0,1,1,0,0,1,1,0,0,0,1,1,1,0,1,1,1,0,0,0,0,0,1,1,0,0,1,1,0,1,0,1,0,0,1,0,0,1,1,1,0,1,1,0,0,1,0,1,0,1,1,1,0,1,0,1,0,1,0,1,1,1,0,1,0,1,0,0,1,1,0,1,0,0,1,1,1,1,0,1,1,0,1,1,0,0,1,1,0,1,0,1,1,1,1,1,1,0,1,1,1,1,1,0,1,1,0,0,0,0,1,0,0,0,0,1,1,1,0,0,1,1,0,0,1,1,0,0,1,0,1,1,1,0,1,0,0,1,0],\"type\":\"histogram\",\"xaxis\":\"x9\",\"yaxis\":\"y9\"},{\"name\":\"oldpeak\",\"x\":[2.3,3.5,1.4,0.8,0.6,0.4,1.3,0.0,0.5,1.6,1.2,0.2,0.6,1.8,1.0,1.6,0.0,2.6,1.5,1.8,0.5,0.4,0.0,1.0,1.4,0.4,1.6,0.6,0.8,1.2,0.0,0.4,0.0,0.5,1.4,1.4,0.0,1.6,0.8,0.8,1.5,0.2,3.0,0.4,0.0,0.2,0.0,0.0,0.0,0.0,0.5,0.4,1.8,0.6,0.0,0.8,0.0,0.0,0.0,0.0,0.0,0.0,0.0,0.0,0.0,1.4,1.2,0.6,0.0,0.0,0.4,0.0,0.0,0.0,0.2,1.4,2.4,0.0,0.0,0.6,0.0,0.0,0.0,1.2,0.6,1.6,1.0,0.0,1.6,1.0,0.0,0.0,0.0,0.0,0.0,0.0,1.2,0.1,1.9,0.0,0.8,4.2,0.0,0.8,0.0,1.5,0.1,0.2,1.1,0.0,0.0,0.2,0.2,0.0,0.0,0.0,2.0,1.9,0.0,0.0,2.0,0.0,0.0,0.0,0.0,0.7,0.1,0.0,0.1,0.2,0.0,0.0,0.0,0.0,0.0,0.0,0.0,0.0,1.5,0.2,0.6,1.2,0.0,0.3,1.1,0.0,0.3,0.9,0.0,0.0,2.3,1.6,0.6,0.0,0.0,0.6,0.0,0.0,0.4,0.0,0.0,1.2,0.0,0.0,0.0,1.5,2.6,3.6,1.4,3.1,0.6,1.0,1.8,3.2,2.4,2.0,1.4,0.0,2.5,0.6,1.2,1.0,0.0,2.5,2.6,0.0,1.4,2.2,0.6,0.0,1.2,2.2,1.4,2.8,3.0,3.4,3.6,0.2,1.8,0.6,0.0,2.8,0.8,1.6,6.2,0.0,1.2,2.6,2.0,0.0,0.4,3.6,1.2,1.0,1.2,3.0,1.2,1.8,2.8,0.0,4.0,5.6,1.4,4.0,2.8,2.6,1.4,1.6,0.2,1.8,0.0,1.0,0.8,2.2,2.4,1.6,0.0,1.2,0.0,0.0,2.9,0.0,2.0,1.2,2.1,0.5,1.9,0.0,0.0,2.0,4.2,0.1,1.9,0.9,0.0,0.0,3.0,0.9,1.4,3.8,1.0,0.0,2.0,1.8,0.0,0.1,3.4,0.8,3.2,1.6,0.8,2.6,1.0,0.1,1.0,1.0,2.0,0.3,0.0,3.6,1.8,1.0,2.2,0.0,1.9,1.8,0.8,0.0,3.0,2.0,0.0,4.4,2.8,0.8,2.8,4.0,0.0,1.0,0.2,1.2,3.4,1.2,0.0],\"type\":\"histogram\",\"xaxis\":\"x10\",\"yaxis\":\"y10\"},{\"name\":\"slope\",\"x\":[0,0,2,2,2,1,1,2,2,2,2,2,2,1,2,1,2,0,2,2,1,2,2,1,2,2,2,2,2,0,2,2,2,0,2,0,2,2,2,2,2,1,1,1,2,2,2,2,2,2,2,1,1,1,2,2,2,2,2,2,2,2,1,1,2,2,1,1,2,2,1,2,2,2,1,1,1,2,2,1,2,2,2,1,1,1,2,2,1,1,2,2,2,2,1,2,1,2,2,2,2,0,2,0,2,1,1,1,2,2,2,2,2,2,2,2,1,1,2,1,1,2,2,2,2,2,2,2,1,2,2,1,2,2,2,2,2,2,1,1,2,1,1,2,1,2,1,2,2,2,2,1,1,1,1,1,2,2,1,2,0,2,2,2,2,1,1,0,1,0,1,0,1,2,1,1,2,2,1,1,1,1,2,1,1,2,2,1,1,2,1,1,1,1,1,0,1,1,1,2,2,1,2,1,0,2,1,1,1,2,1,1,1,1,1,1,1,2,1,2,1,0,1,0,1,0,1,1,1,1,2,1,1,0,1,2,2,1,2,2,1,1,1,1,1,1,1,1,2,1,1,1,1,1,2,1,1,1,1,1,1,2,1,1,1,2,1,2,1,0,2,1,1,2,1,2,1,2,2,1,1,1,1,2,2,1,2,2,1,1,2,0,1,1,0,2,1,1,1,1,1,1,1],\"type\":\"histogram\",\"xaxis\":\"x11\",\"yaxis\":\"y11\"},{\"name\":\"ca\",\"x\":[0,0,0,0,0,0,0,0,0,0,0,0,0,0,0,0,0,0,0,2,0,0,0,0,0,2,0,0,1,0,1,0,0,1,1,0,0,0,0,0,1,0,0,0,0,0,0,0,0,0,0,0,3,0,0,1,0,0,0,1,1,0,0,0,0,0,0,0,0,0,0,1,0,0,0,0,0,0,0,0,0,0,1,0,0,0,1,0,0,0,2,0,4,1,0,0,0,3,1,3,2,0,2,0,0,0,1,0,0,0,0,1,0,0,0,0,0,0,0,0,2,0,0,0,0,0,0,1,0,1,1,0,0,0,0,0,0,0,0,1,0,0,0,2,0,0,1,0,0,0,0,0,0,1,0,0,0,0,4,0,0,0,0,4,4,3,2,2,1,0,1,0,0,2,2,0,2,0,0,1,1,3,0,1,0,1,1,1,1,0,0,3,1,2,0,0,0,2,2,2,1,1,0,0,3,1,1,2,3,1,1,1,0,0,1,0,1,3,1,2,3,0,1,2,1,0,1,0,0,0,0,3,1,1,3,0,2,2,3,0,1,0,2,1,1,0,2,3,1,3,3,4,3,2,0,3,2,0,0,0,2,1,2,2,1,1,0,3,2,0,0,2,0,1,1,2,1,0,2,1,0,0,1,0,1,2,2,1,1,1,1,3,2,0,0,2,0,2,0,0,2,1,1],\"type\":\"histogram\",\"xaxis\":\"x12\",\"yaxis\":\"y12\"},{\"name\":\"thal\",\"x\":[1,2,2,2,2,1,2,3,3,2,2,2,2,2,2,2,2,2,2,2,3,2,2,2,3,2,2,2,2,2,2,3,2,2,2,2,2,3,2,2,2,2,2,2,2,2,2,2,0,2,2,2,3,2,2,2,2,2,2,2,2,3,1,1,2,2,2,2,2,2,3,3,2,2,2,2,2,2,2,3,2,2,2,3,2,3,3,3,2,2,2,3,2,2,2,3,2,3,2,2,2,3,2,3,2,2,2,2,2,2,2,3,3,3,2,2,2,3,2,2,2,2,2,2,2,2,2,2,2,2,2,2,2,2,2,2,2,2,1,3,2,2,2,2,2,2,2,2,2,2,1,2,3,2,2,2,2,2,3,3,2,2,2,2,2,2,3,2,3,3,1,3,2,3,3,3,3,2,3,1,3,3,2,3,3,2,3,3,3,3,3,3,3,3,2,3,2,3,3,1,2,3,3,3,3,3,3,3,3,3,3,3,3,3,2,3,3,3,3,3,3,3,2,3,3,3,3,3,3,3,2,3,3,2,2,3,3,3,2,3,3,2,1,3,1,3,3,1,3,3,3,3,2,2,2,3,3,3,2,3,3,2,3,2,2,2,2,2,2,3,3,2,2,3,2,3,3,3,2,2,1,0,1,3,3,3,2,2,3,3,3,1,1,3,1,3,2,1,3,3,3,3,2],\"type\":\"histogram\",\"xaxis\":\"x13\",\"yaxis\":\"y13\"},{\"name\":\"Race\",\"x\":[2,3,1,1,1,1,1,2,1,6,2,1,1,2,3,1,1,1,3,1,3,1,1,1,1,1,2,2,2,3,2,3,1,3,1,1,3,1,1,1,1,1,1,3,1,6,6,1,1,1,4,1,6,1,2,1,2,1,3,1,2,1,1,1,3,2,1,1,3,1,3,1,2,1,2,3,2,1,3,1,1,2,3,1,1,2,1,3,1,3,1,3,1,1,1,1,1,1,1,1,3,1,2,2,1,3,2,3,1,1,1,2,1,1,1,1,4,3,1,3,2,1,2,1,2,1,1,1,4,1,4,4,1,2,3,1,1,5,1,1,1,1,2,1,3,1,1,1,1,6,1,1,1,1,1,2,1,1,2,2,1,1,2,1,1,1,4,1,6,1,2,1,1,1,1,1,4,3,2,1,1,4,1,1,2,1,1,1,1,2,2,2,6,1,1,1,1,1,3,1,1,1,1,1,2,2,1,1,2,6,1,1,1,1,1,3,2,1,1,1,2,2,1,1,1,1,1,1,4,1,1,1,1,4,1,6,2,1,6,1,1,3,3,1,3,1,1,1,1,2,4,1,2,1,1,1,1,1,1,1,1,1,3,4,2,2,2,1,1,1,1,5,1,2,1,1,6,4,2,1,2,4,1,1,2,1,1,1,1,1,1,1,1,1,1,1,1,4,1,1,1,2,1],\"type\":\"histogram\",\"xaxis\":\"x14\",\"yaxis\":\"y14\"},{\"name\":\"Totchg\",\"x\":[713,795,806,1118,1126,1184,1185,1253,1269,1378,1425,1469,1513,1567,1575,1588,1631,1641,1672,1701,1818,1824,1845,1945,1950,1954,1979,2006,2036,2042,2093,2128,2136,2137,2173,2179,2221,2231,2241,2254,2271,2273,2302,2346,2367,2427,2427,2476,2506,2511,2515,2542,2563,2571,2628,2638,2654,2682,2703,2708,2722,2735,2742,2809,2826,2834,2865,2961,3006,3039,3095,3102,3109,3129,3141,3204,3341,3380,3411,3452,3458,3459,3475,3480,3485,3504,3513,3526,3545,3621,3654,3715,3746,3795,3870,3957,3975,4016,4030,4049,4080,4084,4113,4122,4124,4126,4145,4163,4173,4176,4183,4212,4252,4260,4295,4318,4327,4376,4404,4444,4449,4506,4523,4528,4544,4546,4569,4596,4624,4645,4654,4661,4673,4722,4733,4748,4782,4782,4788,4825,4828,4852,4853,4871,4889,4925,4938,4983,4993,5000,5025,5056,5135,5151,5159,5161,5168,5215,5222,5254,5256,5258,5291,5305,5322,5323,5341,5346,5352,5369,5394,5404,5453,5468,5493,5510,5517,5550,5553,5556,5566,5625,5639,5644,5659,5666,5670,5769,5810,5824,5832,5871,5879,5884,5969,5999,6073,6083,6112,6188,6192,6193,6223,6229,6244,6277,6286,6297,6339,6352,6356,6507,6657,6688,6688,6722,6735,6736,6779,6800,6816,6824,6853,6861,7068,7151,7189,7231,7232,7269,7281,7391,7401,7412,7475,7482,7495,7527,7554,7577,7616,7667,7675,7689,7752,7843,7845,7876,7883,7894,7967,8088,8118,8133,8135,8152,8160,8254,8285,8310,8339,8398,8424,8491,8602,8643,8654,8654,8814,8820,8822,8829,8846,8854,8876,8956,8982,9033,9110,9180,9190,9257,9317,9317,9327,9343,9390,9416,9422,9459,9478,9497,9505,9518,9560,9622,9646,9668,9673,9676,9702,9723,5000],\"type\":\"histogram\",\"xaxis\":\"x15\",\"yaxis\":\"y15\"}],                        {\"template\":{\"data\":{\"bar\":[{\"error_x\":{\"color\":\"#2a3f5f\"},\"error_y\":{\"color\":\"#2a3f5f\"},\"marker\":{\"line\":{\"color\":\"#E5ECF6\",\"width\":0.5},\"pattern\":{\"fillmode\":\"overlay\",\"size\":10,\"solidity\":0.2}},\"type\":\"bar\"}],\"barpolar\":[{\"marker\":{\"line\":{\"color\":\"#E5ECF6\",\"width\":0.5},\"pattern\":{\"fillmode\":\"overlay\",\"size\":10,\"solidity\":0.2}},\"type\":\"barpolar\"}],\"carpet\":[{\"aaxis\":{\"endlinecolor\":\"#2a3f5f\",\"gridcolor\":\"white\",\"linecolor\":\"white\",\"minorgridcolor\":\"white\",\"startlinecolor\":\"#2a3f5f\"},\"baxis\":{\"endlinecolor\":\"#2a3f5f\",\"gridcolor\":\"white\",\"linecolor\":\"white\",\"minorgridcolor\":\"white\",\"startlinecolor\":\"#2a3f5f\"},\"type\":\"carpet\"}],\"choropleth\":[{\"colorbar\":{\"outlinewidth\":0,\"ticks\":\"\"},\"type\":\"choropleth\"}],\"contour\":[{\"colorbar\":{\"outlinewidth\":0,\"ticks\":\"\"},\"colorscale\":[[0.0,\"#0d0887\"],[0.1111111111111111,\"#46039f\"],[0.2222222222222222,\"#7201a8\"],[0.3333333333333333,\"#9c179e\"],[0.4444444444444444,\"#bd3786\"],[0.5555555555555556,\"#d8576b\"],[0.6666666666666666,\"#ed7953\"],[0.7777777777777778,\"#fb9f3a\"],[0.8888888888888888,\"#fdca26\"],[1.0,\"#f0f921\"]],\"type\":\"contour\"}],\"contourcarpet\":[{\"colorbar\":{\"outlinewidth\":0,\"ticks\":\"\"},\"type\":\"contourcarpet\"}],\"heatmap\":[{\"colorbar\":{\"outlinewidth\":0,\"ticks\":\"\"},\"colorscale\":[[0.0,\"#0d0887\"],[0.1111111111111111,\"#46039f\"],[0.2222222222222222,\"#7201a8\"],[0.3333333333333333,\"#9c179e\"],[0.4444444444444444,\"#bd3786\"],[0.5555555555555556,\"#d8576b\"],[0.6666666666666666,\"#ed7953\"],[0.7777777777777778,\"#fb9f3a\"],[0.8888888888888888,\"#fdca26\"],[1.0,\"#f0f921\"]],\"type\":\"heatmap\"}],\"heatmapgl\":[{\"colorbar\":{\"outlinewidth\":0,\"ticks\":\"\"},\"colorscale\":[[0.0,\"#0d0887\"],[0.1111111111111111,\"#46039f\"],[0.2222222222222222,\"#7201a8\"],[0.3333333333333333,\"#9c179e\"],[0.4444444444444444,\"#bd3786\"],[0.5555555555555556,\"#d8576b\"],[0.6666666666666666,\"#ed7953\"],[0.7777777777777778,\"#fb9f3a\"],[0.8888888888888888,\"#fdca26\"],[1.0,\"#f0f921\"]],\"type\":\"heatmapgl\"}],\"histogram\":[{\"marker\":{\"pattern\":{\"fillmode\":\"overlay\",\"size\":10,\"solidity\":0.2}},\"type\":\"histogram\"}],\"histogram2d\":[{\"colorbar\":{\"outlinewidth\":0,\"ticks\":\"\"},\"colorscale\":[[0.0,\"#0d0887\"],[0.1111111111111111,\"#46039f\"],[0.2222222222222222,\"#7201a8\"],[0.3333333333333333,\"#9c179e\"],[0.4444444444444444,\"#bd3786\"],[0.5555555555555556,\"#d8576b\"],[0.6666666666666666,\"#ed7953\"],[0.7777777777777778,\"#fb9f3a\"],[0.8888888888888888,\"#fdca26\"],[1.0,\"#f0f921\"]],\"type\":\"histogram2d\"}],\"histogram2dcontour\":[{\"colorbar\":{\"outlinewidth\":0,\"ticks\":\"\"},\"colorscale\":[[0.0,\"#0d0887\"],[0.1111111111111111,\"#46039f\"],[0.2222222222222222,\"#7201a8\"],[0.3333333333333333,\"#9c179e\"],[0.4444444444444444,\"#bd3786\"],[0.5555555555555556,\"#d8576b\"],[0.6666666666666666,\"#ed7953\"],[0.7777777777777778,\"#fb9f3a\"],[0.8888888888888888,\"#fdca26\"],[1.0,\"#f0f921\"]],\"type\":\"histogram2dcontour\"}],\"mesh3d\":[{\"colorbar\":{\"outlinewidth\":0,\"ticks\":\"\"},\"type\":\"mesh3d\"}],\"parcoords\":[{\"line\":{\"colorbar\":{\"outlinewidth\":0,\"ticks\":\"\"}},\"type\":\"parcoords\"}],\"pie\":[{\"automargin\":true,\"type\":\"pie\"}],\"scatter\":[{\"marker\":{\"colorbar\":{\"outlinewidth\":0,\"ticks\":\"\"}},\"type\":\"scatter\"}],\"scatter3d\":[{\"line\":{\"colorbar\":{\"outlinewidth\":0,\"ticks\":\"\"}},\"marker\":{\"colorbar\":{\"outlinewidth\":0,\"ticks\":\"\"}},\"type\":\"scatter3d\"}],\"scattercarpet\":[{\"marker\":{\"colorbar\":{\"outlinewidth\":0,\"ticks\":\"\"}},\"type\":\"scattercarpet\"}],\"scattergeo\":[{\"marker\":{\"colorbar\":{\"outlinewidth\":0,\"ticks\":\"\"}},\"type\":\"scattergeo\"}],\"scattergl\":[{\"marker\":{\"colorbar\":{\"outlinewidth\":0,\"ticks\":\"\"}},\"type\":\"scattergl\"}],\"scattermapbox\":[{\"marker\":{\"colorbar\":{\"outlinewidth\":0,\"ticks\":\"\"}},\"type\":\"scattermapbox\"}],\"scatterpolar\":[{\"marker\":{\"colorbar\":{\"outlinewidth\":0,\"ticks\":\"\"}},\"type\":\"scatterpolar\"}],\"scatterpolargl\":[{\"marker\":{\"colorbar\":{\"outlinewidth\":0,\"ticks\":\"\"}},\"type\":\"scatterpolargl\"}],\"scatterternary\":[{\"marker\":{\"colorbar\":{\"outlinewidth\":0,\"ticks\":\"\"}},\"type\":\"scatterternary\"}],\"surface\":[{\"colorbar\":{\"outlinewidth\":0,\"ticks\":\"\"},\"colorscale\":[[0.0,\"#0d0887\"],[0.1111111111111111,\"#46039f\"],[0.2222222222222222,\"#7201a8\"],[0.3333333333333333,\"#9c179e\"],[0.4444444444444444,\"#bd3786\"],[0.5555555555555556,\"#d8576b\"],[0.6666666666666666,\"#ed7953\"],[0.7777777777777778,\"#fb9f3a\"],[0.8888888888888888,\"#fdca26\"],[1.0,\"#f0f921\"]],\"type\":\"surface\"}],\"table\":[{\"cells\":{\"fill\":{\"color\":\"#EBF0F8\"},\"line\":{\"color\":\"white\"}},\"header\":{\"fill\":{\"color\":\"#C8D4E3\"},\"line\":{\"color\":\"white\"}},\"type\":\"table\"}]},\"layout\":{\"annotationdefaults\":{\"arrowcolor\":\"#2a3f5f\",\"arrowhead\":0,\"arrowwidth\":1},\"autotypenumbers\":\"strict\",\"coloraxis\":{\"colorbar\":{\"outlinewidth\":0,\"ticks\":\"\"}},\"colorscale\":{\"diverging\":[[0,\"#8e0152\"],[0.1,\"#c51b7d\"],[0.2,\"#de77ae\"],[0.3,\"#f1b6da\"],[0.4,\"#fde0ef\"],[0.5,\"#f7f7f7\"],[0.6,\"#e6f5d0\"],[0.7,\"#b8e186\"],[0.8,\"#7fbc41\"],[0.9,\"#4d9221\"],[1,\"#276419\"]],\"sequential\":[[0.0,\"#0d0887\"],[0.1111111111111111,\"#46039f\"],[0.2222222222222222,\"#7201a8\"],[0.3333333333333333,\"#9c179e\"],[0.4444444444444444,\"#bd3786\"],[0.5555555555555556,\"#d8576b\"],[0.6666666666666666,\"#ed7953\"],[0.7777777777777778,\"#fb9f3a\"],[0.8888888888888888,\"#fdca26\"],[1.0,\"#f0f921\"]],\"sequentialminus\":[[0.0,\"#0d0887\"],[0.1111111111111111,\"#46039f\"],[0.2222222222222222,\"#7201a8\"],[0.3333333333333333,\"#9c179e\"],[0.4444444444444444,\"#bd3786\"],[0.5555555555555556,\"#d8576b\"],[0.6666666666666666,\"#ed7953\"],[0.7777777777777778,\"#fb9f3a\"],[0.8888888888888888,\"#fdca26\"],[1.0,\"#f0f921\"]]},\"colorway\":[\"#636efa\",\"#EF553B\",\"#00cc96\",\"#ab63fa\",\"#FFA15A\",\"#19d3f3\",\"#FF6692\",\"#B6E880\",\"#FF97FF\",\"#FECB52\"],\"font\":{\"color\":\"#2a3f5f\"},\"geo\":{\"bgcolor\":\"white\",\"lakecolor\":\"white\",\"landcolor\":\"#E5ECF6\",\"showlakes\":true,\"showland\":true,\"subunitcolor\":\"white\"},\"hoverlabel\":{\"align\":\"left\"},\"hovermode\":\"closest\",\"mapbox\":{\"style\":\"light\"},\"paper_bgcolor\":\"white\",\"plot_bgcolor\":\"#E5ECF6\",\"polar\":{\"angularaxis\":{\"gridcolor\":\"white\",\"linecolor\":\"white\",\"ticks\":\"\"},\"bgcolor\":\"#E5ECF6\",\"radialaxis\":{\"gridcolor\":\"white\",\"linecolor\":\"white\",\"ticks\":\"\"}},\"scene\":{\"xaxis\":{\"backgroundcolor\":\"#E5ECF6\",\"gridcolor\":\"white\",\"gridwidth\":2,\"linecolor\":\"white\",\"showbackground\":true,\"ticks\":\"\",\"zerolinecolor\":\"white\"},\"yaxis\":{\"backgroundcolor\":\"#E5ECF6\",\"gridcolor\":\"white\",\"gridwidth\":2,\"linecolor\":\"white\",\"showbackground\":true,\"ticks\":\"\",\"zerolinecolor\":\"white\"},\"zaxis\":{\"backgroundcolor\":\"#E5ECF6\",\"gridcolor\":\"white\",\"gridwidth\":2,\"linecolor\":\"white\",\"showbackground\":true,\"ticks\":\"\",\"zerolinecolor\":\"white\"}},\"shapedefaults\":{\"line\":{\"color\":\"#2a3f5f\"}},\"ternary\":{\"aaxis\":{\"gridcolor\":\"white\",\"linecolor\":\"white\",\"ticks\":\"\"},\"baxis\":{\"gridcolor\":\"white\",\"linecolor\":\"white\",\"ticks\":\"\"},\"bgcolor\":\"#E5ECF6\",\"caxis\":{\"gridcolor\":\"white\",\"linecolor\":\"white\",\"ticks\":\"\"}},\"title\":{\"x\":0.05},\"xaxis\":{\"automargin\":true,\"gridcolor\":\"white\",\"linecolor\":\"white\",\"ticks\":\"\",\"title\":{\"standoff\":15},\"zerolinecolor\":\"white\",\"zerolinewidth\":2},\"yaxis\":{\"automargin\":true,\"gridcolor\":\"white\",\"linecolor\":\"white\",\"ticks\":\"\",\"title\":{\"standoff\":15},\"zerolinecolor\":\"white\",\"zerolinewidth\":2}}},\"xaxis\":{\"anchor\":\"y\",\"domain\":[0.0,0.2125]},\"yaxis\":{\"anchor\":\"x\",\"domain\":[0.84375,1.0]},\"xaxis2\":{\"anchor\":\"y2\",\"domain\":[0.2625,0.475]},\"yaxis2\":{\"anchor\":\"x2\",\"domain\":[0.84375,1.0]},\"xaxis3\":{\"anchor\":\"y3\",\"domain\":[0.525,0.7375]},\"yaxis3\":{\"anchor\":\"x3\",\"domain\":[0.84375,1.0]},\"xaxis4\":{\"anchor\":\"y4\",\"domain\":[0.7875,1.0]},\"yaxis4\":{\"anchor\":\"x4\",\"domain\":[0.84375,1.0]},\"xaxis5\":{\"anchor\":\"y5\",\"domain\":[0.0,0.2125]},\"yaxis5\":{\"anchor\":\"x5\",\"domain\":[0.5625,0.71875]},\"xaxis6\":{\"anchor\":\"y6\",\"domain\":[0.2625,0.475]},\"yaxis6\":{\"anchor\":\"x6\",\"domain\":[0.5625,0.71875]},\"xaxis7\":{\"anchor\":\"y7\",\"domain\":[0.525,0.7375]},\"yaxis7\":{\"anchor\":\"x7\",\"domain\":[0.5625,0.71875]},\"xaxis8\":{\"anchor\":\"y8\",\"domain\":[0.7875,1.0]},\"yaxis8\":{\"anchor\":\"x8\",\"domain\":[0.5625,0.71875]},\"xaxis9\":{\"anchor\":\"y9\",\"domain\":[0.0,0.2125]},\"yaxis9\":{\"anchor\":\"x9\",\"domain\":[0.28125,0.4375]},\"xaxis10\":{\"anchor\":\"y10\",\"domain\":[0.2625,0.475]},\"yaxis10\":{\"anchor\":\"x10\",\"domain\":[0.28125,0.4375]},\"xaxis11\":{\"anchor\":\"y11\",\"domain\":[0.525,0.7375]},\"yaxis11\":{\"anchor\":\"x11\",\"domain\":[0.28125,0.4375]},\"xaxis12\":{\"anchor\":\"y12\",\"domain\":[0.7875,1.0]},\"yaxis12\":{\"anchor\":\"x12\",\"domain\":[0.28125,0.4375]},\"xaxis13\":{\"anchor\":\"y13\",\"domain\":[0.0,0.2125]},\"yaxis13\":{\"anchor\":\"x13\",\"domain\":[0.0,0.15625]},\"xaxis14\":{\"anchor\":\"y14\",\"domain\":[0.2625,0.475]},\"yaxis14\":{\"anchor\":\"x14\",\"domain\":[0.0,0.15625]},\"xaxis15\":{\"anchor\":\"y15\",\"domain\":[0.525,0.7375]},\"yaxis15\":{\"anchor\":\"x15\",\"domain\":[0.0,0.15625]},\"xaxis16\":{\"anchor\":\"y16\",\"domain\":[0.7875,1.0]},\"yaxis16\":{\"anchor\":\"x16\",\"domain\":[0.0,0.15625]},\"annotations\":[{\"font\":{\"size\":16},\"showarrow\":false,\"text\":\"age\",\"x\":0.10625,\"xanchor\":\"center\",\"xref\":\"paper\",\"y\":1.0,\"yanchor\":\"bottom\",\"yref\":\"paper\"},{\"font\":{\"size\":16},\"showarrow\":false,\"text\":\"sex\",\"x\":0.36875,\"xanchor\":\"center\",\"xref\":\"paper\",\"y\":1.0,\"yanchor\":\"bottom\",\"yref\":\"paper\"},{\"font\":{\"size\":16},\"showarrow\":false,\"text\":\"cp\",\"x\":0.6312500000000001,\"xanchor\":\"center\",\"xref\":\"paper\",\"y\":1.0,\"yanchor\":\"bottom\",\"yref\":\"paper\"},{\"font\":{\"size\":16},\"showarrow\":false,\"text\":\"trestbps\",\"x\":0.89375,\"xanchor\":\"center\",\"xref\":\"paper\",\"y\":1.0,\"yanchor\":\"bottom\",\"yref\":\"paper\"},{\"font\":{\"size\":16},\"showarrow\":false,\"text\":\"chol\",\"x\":0.10625,\"xanchor\":\"center\",\"xref\":\"paper\",\"y\":0.71875,\"yanchor\":\"bottom\",\"yref\":\"paper\"},{\"font\":{\"size\":16},\"showarrow\":false,\"text\":\"fbs\",\"x\":0.36875,\"xanchor\":\"center\",\"xref\":\"paper\",\"y\":0.71875,\"yanchor\":\"bottom\",\"yref\":\"paper\"},{\"font\":{\"size\":16},\"showarrow\":false,\"text\":\"restecg\",\"x\":0.6312500000000001,\"xanchor\":\"center\",\"xref\":\"paper\",\"y\":0.71875,\"yanchor\":\"bottom\",\"yref\":\"paper\"},{\"font\":{\"size\":16},\"showarrow\":false,\"text\":\"thalach\",\"x\":0.89375,\"xanchor\":\"center\",\"xref\":\"paper\",\"y\":0.71875,\"yanchor\":\"bottom\",\"yref\":\"paper\"},{\"font\":{\"size\":16},\"showarrow\":false,\"text\":\"exang\",\"x\":0.10625,\"xanchor\":\"center\",\"xref\":\"paper\",\"y\":0.4375,\"yanchor\":\"bottom\",\"yref\":\"paper\"},{\"font\":{\"size\":16},\"showarrow\":false,\"text\":\"oldpeak\",\"x\":0.36875,\"xanchor\":\"center\",\"xref\":\"paper\",\"y\":0.4375,\"yanchor\":\"bottom\",\"yref\":\"paper\"},{\"font\":{\"size\":16},\"showarrow\":false,\"text\":\"slope\",\"x\":0.6312500000000001,\"xanchor\":\"center\",\"xref\":\"paper\",\"y\":0.4375,\"yanchor\":\"bottom\",\"yref\":\"paper\"},{\"font\":{\"size\":16},\"showarrow\":false,\"text\":\"ca\",\"x\":0.89375,\"xanchor\":\"center\",\"xref\":\"paper\",\"y\":0.4375,\"yanchor\":\"bottom\",\"yref\":\"paper\"},{\"font\":{\"size\":16},\"showarrow\":false,\"text\":\"thal\",\"x\":0.10625,\"xanchor\":\"center\",\"xref\":\"paper\",\"y\":0.15625,\"yanchor\":\"bottom\",\"yref\":\"paper\"},{\"font\":{\"size\":16},\"showarrow\":false,\"text\":\"target\",\"x\":0.36875,\"xanchor\":\"center\",\"xref\":\"paper\",\"y\":0.15625,\"yanchor\":\"bottom\",\"yref\":\"paper\"},{\"font\":{\"size\":16},\"showarrow\":false,\"text\":\"Race\",\"x\":0.6312500000000001,\"xanchor\":\"center\",\"xref\":\"paper\",\"y\":0.15625,\"yanchor\":\"bottom\",\"yref\":\"paper\"},{\"font\":{\"size\":16},\"showarrow\":false,\"text\":\"Totchg\",\"x\":0.89375,\"xanchor\":\"center\",\"xref\":\"paper\",\"y\":0.15625,\"yanchor\":\"bottom\",\"yref\":\"paper\"}],\"title\":{\"text\":\"Histograms of Variables\",\"x\":0.5},\"showlegend\":true},                        {\"responsive\": true}                    )                };                            </script>        </div>\n",
       "</body>\n",
       "</html>"
      ]
     },
     "metadata": {
      "application/vnd.databricks.v1+output": {
       "addedWidgets": {},
       "arguments": {},
       "data": "<html>\n<head><meta charset=\"utf-8\" /></head>\n<body>\n    <div>            <script src=\"https://cdnjs.cloudflare.com/ajax/libs/mathjax/2.7.5/MathJax.js?config=TeX-AMS-MML_SVG\"></script><script type=\"text/javascript\">if (window.MathJax) {MathJax.Hub.Config({SVG: {font: \"STIX-Web\"}});}</script>                <script type=\"text/javascript\">window.PlotlyConfig = {MathJaxConfig: 'local'};</script>\n        <script src=\"https://cdn.plot.ly/plotly-2.9.0.min.js\"></script>                <div id=\"7ca9a0c8-a908-4ae5-9070-1674c44c77b7\" class=\"plotly-graph-div\" style=\"height:100%; width:100%;\"></div>            <script type=\"text/javascript\">                                    window.PLOTLYENV=window.PLOTLYENV || {};                                    if (document.getElementById(\"7ca9a0c8-a908-4ae5-9070-1674c44c77b7\")) {                    Plotly.newPlot(                        \"7ca9a0c8-a908-4ae5-9070-1674c44c77b7\",                        [{\"name\":\"age\",\"x\":[63,37,41,56,57,57,56,44,52,57,54,48,49,64,58,50,58,66,43,69,59,44,42,61,40,71,59,51,65,53,41,65,44,54,51,46,54,54,65,65,51,48,45,53,39,52,44,47,53,53,51,66,62,44,63,52,48,45,34,57,71,54,52,41,58,35,51,45,44,62,54,51,29,51,43,55,51,59,52,58,41,45,60,52,42,67,68,46,54,58,48,57,52,54,45,53,62,52,43,53,42,59,63,42,50,68,69,45,50,50,64,57,64,43,55,37,41,56,46,46,64,59,41,54,39,34,47,67,52,74,54,49,42,41,41,49,60,62,57,64,51,43,42,67,76,70,44,60,44,42,66,71,64,66,39,58,47,35,58,56,56,55,41,38,38,67,67,62,63,53,56,48,58,58,60,40,60,64,43,57,55,65,61,58,50,44,60,54,50,41,51,58,54,60,60,59,46,67,62,65,44,60,58,68,62,52,59,60,49,59,57,61,39,61,56,43,62,63,65,48,63,55,65,56,54,70,62,35,59,64,47,57,55,64,70,51,58,60,77,35,70,59,64,57,56,48,56,66,54,69,51,43,62,67,59,45,58,50,62,38,66,52,53,63,54,66,55,49,54,56,46,61,67,58,47,52,58,57,58,61,42,52,59,40,61,46,59,57,57,55,61,58,58,67,44,63,63,59,57,45,68,57,57],\"type\":\"histogram\",\"xaxis\":\"x\",\"yaxis\":\"y\"},{\"name\":\"sex\",\"x\":[1,1,0,1,0,1,0,1,1,1,1,0,1,1,0,0,0,0,1,0,1,1,1,1,1,0,1,1,0,1,0,1,1,1,1,0,0,1,0,0,0,1,1,0,1,1,1,1,0,0,0,1,1,0,0,1,1,1,1,0,0,1,1,1,1,0,1,0,1,0,1,1,1,1,0,0,1,1,1,1,1,1,0,1,0,0,1,1,0,0,1,1,1,0,0,1,0,1,1,1,1,1,0,1,1,0,1,0,0,0,0,1,0,1,1,0,1,1,0,0,0,1,0,0,0,0,1,0,0,0,0,0,1,1,0,0,0,1,1,1,0,1,0,0,0,1,0,0,1,1,1,0,1,0,0,0,1,1,1,1,1,0,1,1,1,1,1,0,1,1,1,1,1,1,1,1,1,1,1,1,1,0,0,1,1,1,1,1,1,1,0,1,1,1,1,1,1,1,1,1,1,1,1,1,0,1,1,0,1,1,1,1,1,0,1,0,0,1,1,1,0,1,1,0,1,1,1,1,1,1,1,1,1,1,1,1,1,1,1,1,1,0,1,1,1,1,0,1,1,1,1,1,0,1,1,1,1,1,0,1,0,1,1,0,1,1,0,1,1,1,1,1,1,1,1,1,1,1,0,1,1,1,1,1,1,1,1,1,1,0,1,1,0,1,1,1,0,1,0,1,1,1,0],\"type\":\"histogram\",\"xaxis\":\"x2\",\"yaxis\":\"y2\"},{\"name\":\"cp\",\"x\":[3,2,1,1,0,0,1,1,2,2,0,2,1,3,3,2,2,3,0,3,0,2,0,2,3,1,2,2,2,2,1,0,1,2,3,2,2,2,2,2,2,1,0,0,2,1,2,2,2,0,2,0,2,2,2,1,0,0,3,0,2,1,3,1,2,0,2,1,1,0,2,2,1,0,2,1,2,1,1,2,2,1,2,3,0,2,2,1,2,0,2,0,2,1,1,0,0,0,2,2,3,3,1,2,2,2,3,0,1,0,0,2,2,0,1,2,2,3,1,0,0,0,2,2,2,1,0,2,2,1,2,1,1,1,1,0,2,1,0,0,2,0,2,0,2,1,2,3,2,2,0,0,3,2,2,0,2,1,1,1,1,1,1,2,2,0,0,0,0,0,2,1,1,2,0,0,0,2,0,0,0,0,0,2,0,0,0,0,2,0,0,0,0,0,2,0,2,0,0,0,0,0,0,2,0,0,0,0,2,0,2,0,0,0,0,0,2,0,0,0,0,0,3,0,0,0,1,0,3,2,2,0,0,0,0,0,0,0,0,0,2,0,0,0,0,0,0,1,1,2,0,0,0,0,3,0,0,0,0,3,0,0,0,0,0,0,0,2,0,0,0,3,0,0,0,0,0,1,1,0,0,0,2,0,0,0,3,1,0,0,0,0,0,2,0,0,0,0,0,3,0,0,1],\"type\":\"histogram\",\"xaxis\":\"x3\",\"yaxis\":\"y3\"},{\"name\":\"trestbps\",\"x\":[145,130,130,120,120,140,140,120,172,150,140,130,130,110,150,120,120,150,150,140,135,130,140,150,140,160,150,110,140,130,105,120,130,125,125,142,135,150,155,160,140,130,104,130,140,120,140,138,128,138,130,120,130,108,135,134,122,115,118,128,110,108,118,135,140,138,100,130,120,124,120,94,130,140,122,135,125,140,128,105,112,128,102,152,102,115,118,101,110,100,124,132,138,132,112,142,140,108,130,130,148,178,140,120,129,120,160,138,120,110,180,150,140,110,130,120,130,120,105,138,130,138,112,108,94,118,112,152,136,120,160,134,120,110,126,130,120,128,110,128,120,115,120,106,140,156,118,150,120,130,160,112,170,146,138,130,130,122,125,130,120,132,120,138,138,160,120,140,130,140,130,110,120,132,130,110,117,140,120,150,132,150,130,112,150,112,130,124,140,110,130,128,120,145,140,170,150,125,120,110,110,125,150,180,160,128,110,150,120,140,128,120,118,145,125,132,130,130,135,130,150,140,138,200,110,145,120,120,170,125,108,165,160,120,130,140,125,140,125,126,160,174,145,152,132,124,134,160,192,140,140,132,138,100,160,142,128,144,150,120,178,112,123,108,110,112,180,118,122,130,120,134,120,100,110,125,146,124,136,138,136,128,126,152,140,140,134,154,110,128,148,114,170,152,120,140,124,164,140,110,144,130,130],\"type\":\"histogram\",\"xaxis\":\"x4\",\"yaxis\":\"y4\"},{\"name\":\"chol\",\"x\":[233,250,204,236,354,192,294,263,199,168,239,275,266,211,283,219,340,226,247,239,234,233,226,243,199,302,212,175,417,197,198,177,219,273,213,177,304,232,269,360,308,245,208,264,321,325,235,257,216,234,256,302,231,141,252,201,222,260,182,303,265,309,186,203,211,183,222,234,220,209,258,227,204,261,213,250,245,221,205,240,250,308,318,298,265,564,277,197,214,248,255,207,223,288,160,226,394,233,315,246,244,270,195,240,196,211,234,236,244,254,325,126,313,211,262,215,214,193,204,243,303,271,268,267,199,210,204,277,196,269,201,271,295,235,306,269,178,208,201,263,295,303,209,223,197,245,242,240,226,180,228,149,227,278,220,197,253,192,220,221,240,342,157,175,175,286,229,268,254,203,256,229,284,224,206,167,230,335,177,276,353,225,330,230,243,290,253,266,233,172,305,216,188,282,185,326,231,254,267,248,197,258,270,274,164,255,239,258,188,177,229,260,219,307,249,341,263,330,254,256,407,217,282,288,239,174,281,198,288,309,243,289,289,246,322,299,300,293,304,282,269,249,212,274,184,274,409,246,283,254,298,247,294,299,273,309,259,200,244,231,228,230,282,269,206,212,327,149,286,283,249,234,237,234,275,212,218,261,319,166,315,204,218,223,207,311,204,232,335,205,203,318,225,212,169,187,197,176,241,264,193,131,236],\"type\":\"histogram\",\"xaxis\":\"x5\",\"yaxis\":\"y5\"},{\"name\":\"fbs\",\"x\":[1,0,0,0,0,0,0,0,1,0,0,0,0,0,1,0,0,0,0,0,0,0,0,1,0,0,1,0,1,1,0,0,0,0,0,0,1,0,0,0,0,0,0,0,0,0,0,0,0,0,0,0,0,0,0,0,0,0,0,0,1,0,0,0,1,0,0,0,0,0,0,0,0,0,0,0,1,0,1,0,0,0,0,1,0,0,0,1,0,0,1,0,0,1,0,0,0,1,0,1,0,0,0,1,0,0,1,0,0,0,0,1,0,0,0,0,0,0,0,0,0,0,0,0,0,0,0,0,0,0,0,0,0,0,0,0,1,1,0,0,0,0,0,0,0,0,0,0,0,0,0,0,0,0,0,0,0,0,0,0,0,0,0,0,0,0,0,0,0,1,1,0,0,0,0,0,1,0,0,0,0,0,0,0,0,0,0,0,0,0,0,0,0,0,0,0,0,1,0,0,0,0,0,1,0,0,0,0,0,0,0,0,0,0,1,1,0,1,0,1,0,0,1,1,0,0,0,0,0,0,0,1,0,0,0,0,0,0,0,0,0,0,0,0,0,0,0,0,0,0,0,1,1,0,0,0,0,0,0,0,1,0,0,0,0,0,0,0,0,1,0,0,0,0,0,0,0,0,1,0,0,1,1,0,0,0,0,0,0,0,0,0,1,0,0,0,0,1,0,0,1,0,0],\"type\":\"histogram\",\"xaxis\":\"x6\",\"yaxis\":\"y6\"},{\"name\":\"restecg\",\"x\":[0,1,0,1,1,1,0,1,1,1,1,1,1,0,0,1,1,1,1,1,1,1,1,1,1,1,1,1,0,0,1,1,0,0,0,0,1,0,1,0,0,0,0,0,0,1,0,0,0,0,0,0,1,1,0,1,0,0,0,0,0,1,0,1,0,1,1,0,1,1,0,1,0,0,1,0,0,1,1,0,1,0,1,1,0,0,1,1,1,0,1,1,1,0,1,0,0,1,1,0,0,0,1,1,1,0,0,0,1,0,1,1,1,1,1,1,0,0,1,0,1,0,0,0,1,1,1,1,0,0,1,1,1,1,1,1,1,0,1,1,0,1,1,1,2,0,1,1,1,1,0,1,0,0,1,1,1,1,1,0,1,1,1,1,1,0,0,0,0,0,0,1,0,0,0,0,1,1,0,0,1,0,0,0,0,0,1,0,1,0,1,0,1,0,0,0,1,1,1,0,0,0,0,0,0,1,0,0,1,1,0,1,1,0,0,0,1,0,0,0,0,1,0,0,1,1,0,1,0,1,1,0,0,0,0,1,0,0,0,0,1,1,0,1,0,0,0,1,0,0,1,0,1,0,0,0,0,0,1,1,1,1,1,1,0,0,2,0,0,0,0,1,1,1,0,1,1,1,0,0,1,1,1,1,0,1,1,0,1,2,1,2,0,0,1,0,1,0,1,1,1,1,0],\"type\":\"histogram\",\"xaxis\":\"x7\",\"yaxis\":\"y7\"},{\"name\":\"thalach\",\"x\":[150,187,172,178,163,148,153,173,162,174,160,139,171,144,162,158,172,114,171,151,161,179,178,137,178,162,157,123,157,152,168,140,188,152,125,160,170,165,148,151,142,180,148,143,182,172,180,156,115,160,149,151,146,175,172,158,186,185,174,159,130,156,190,132,165,182,143,175,170,163,147,154,202,186,165,161,166,164,184,154,179,170,160,178,122,160,151,156,158,122,175,168,169,159,138,111,157,147,162,173,178,145,179,194,163,115,131,152,162,159,154,173,133,161,155,170,168,162,172,152,122,182,172,167,179,192,143,172,169,121,163,162,162,153,163,163,96,140,126,105,157,181,173,142,116,143,149,171,169,150,138,125,155,152,152,131,179,174,144,163,169,166,182,173,173,108,129,160,147,155,142,168,160,173,132,114,160,158,120,112,132,114,169,165,128,153,144,109,163,158,142,131,113,142,155,140,147,163,99,158,177,141,111,150,145,161,142,157,139,162,150,140,140,146,144,136,97,132,127,150,154,111,174,133,126,125,103,130,159,131,152,124,145,96,109,173,171,170,162,156,112,143,132,88,105,166,150,120,195,146,122,143,106,125,125,147,130,126,154,182,165,160,95,169,108,132,117,126,116,103,144,145,71,156,118,168,105,141,152,125,125,156,134,181,138,120,162,164,143,130,161,140,146,150,144,144,136,90,123,132,141,115,174],\"type\":\"histogram\",\"xaxis\":\"x8\",\"yaxis\":\"y8\"},{\"name\":\"exang\",\"x\":[0,0,0,0,1,0,0,0,0,0,0,0,0,1,0,0,0,0,0,0,0,1,0,1,1,0,0,0,0,0,0,0,0,0,1,1,0,0,0,0,0,0,1,0,0,0,0,0,0,0,0,0,0,0,0,0,0,0,0,0,0,0,0,0,0,0,1,0,0,0,0,1,0,1,0,0,0,1,0,1,0,0,0,0,0,0,0,0,0,0,0,1,0,1,0,1,0,0,0,0,0,0,0,0,0,0,0,1,0,0,1,0,0,0,0,0,0,0,0,1,0,0,1,0,0,0,0,0,0,1,0,0,0,0,0,0,0,0,1,1,0,0,0,0,0,0,0,0,0,0,0,0,0,0,0,0,0,0,0,0,0,0,0,0,0,1,1,0,0,1,1,0,0,0,1,1,1,0,1,1,1,0,0,0,0,0,1,1,0,0,1,1,0,1,0,1,0,0,1,0,0,1,1,1,0,1,1,0,0,1,0,1,0,1,1,1,0,1,0,1,0,1,0,1,1,1,0,1,0,1,0,0,1,1,0,1,0,0,1,1,1,1,0,1,1,0,1,1,0,0,1,1,0,1,0,1,1,1,1,1,1,0,1,1,1,1,1,0,1,1,0,0,0,0,1,0,0,0,0,1,1,1,0,0,1,1,0,0,1,1,0,0,1,0,1,1,1,0,1,0,0,1,0],\"type\":\"histogram\",\"xaxis\":\"x9\",\"yaxis\":\"y9\"},{\"name\":\"oldpeak\",\"x\":[2.3,3.5,1.4,0.8,0.6,0.4,1.3,0.0,0.5,1.6,1.2,0.2,0.6,1.8,1.0,1.6,0.0,2.6,1.5,1.8,0.5,0.4,0.0,1.0,1.4,0.4,1.6,0.6,0.8,1.2,0.0,0.4,0.0,0.5,1.4,1.4,0.0,1.6,0.8,0.8,1.5,0.2,3.0,0.4,0.0,0.2,0.0,0.0,0.0,0.0,0.5,0.4,1.8,0.6,0.0,0.8,0.0,0.0,0.0,0.0,0.0,0.0,0.0,0.0,0.0,1.4,1.2,0.6,0.0,0.0,0.4,0.0,0.0,0.0,0.2,1.4,2.4,0.0,0.0,0.6,0.0,0.0,0.0,1.2,0.6,1.6,1.0,0.0,1.6,1.0,0.0,0.0,0.0,0.0,0.0,0.0,1.2,0.1,1.9,0.0,0.8,4.2,0.0,0.8,0.0,1.5,0.1,0.2,1.1,0.0,0.0,0.2,0.2,0.0,0.0,0.0,2.0,1.9,0.0,0.0,2.0,0.0,0.0,0.0,0.0,0.7,0.1,0.0,0.1,0.2,0.0,0.0,0.0,0.0,0.0,0.0,0.0,0.0,1.5,0.2,0.6,1.2,0.0,0.3,1.1,0.0,0.3,0.9,0.0,0.0,2.3,1.6,0.6,0.0,0.0,0.6,0.0,0.0,0.4,0.0,0.0,1.2,0.0,0.0,0.0,1.5,2.6,3.6,1.4,3.1,0.6,1.0,1.8,3.2,2.4,2.0,1.4,0.0,2.5,0.6,1.2,1.0,0.0,2.5,2.6,0.0,1.4,2.2,0.6,0.0,1.2,2.2,1.4,2.8,3.0,3.4,3.6,0.2,1.8,0.6,0.0,2.8,0.8,1.6,6.2,0.0,1.2,2.6,2.0,0.0,0.4,3.6,1.2,1.0,1.2,3.0,1.2,1.8,2.8,0.0,4.0,5.6,1.4,4.0,2.8,2.6,1.4,1.6,0.2,1.8,0.0,1.0,0.8,2.2,2.4,1.6,0.0,1.2,0.0,0.0,2.9,0.0,2.0,1.2,2.1,0.5,1.9,0.0,0.0,2.0,4.2,0.1,1.9,0.9,0.0,0.0,3.0,0.9,1.4,3.8,1.0,0.0,2.0,1.8,0.0,0.1,3.4,0.8,3.2,1.6,0.8,2.6,1.0,0.1,1.0,1.0,2.0,0.3,0.0,3.6,1.8,1.0,2.2,0.0,1.9,1.8,0.8,0.0,3.0,2.0,0.0,4.4,2.8,0.8,2.8,4.0,0.0,1.0,0.2,1.2,3.4,1.2,0.0],\"type\":\"histogram\",\"xaxis\":\"x10\",\"yaxis\":\"y10\"},{\"name\":\"slope\",\"x\":[0,0,2,2,2,1,1,2,2,2,2,2,2,1,2,1,2,0,2,2,1,2,2,1,2,2,2,2,2,0,2,2,2,0,2,0,2,2,2,2,2,1,1,1,2,2,2,2,2,2,2,1,1,1,2,2,2,2,2,2,2,2,1,1,2,2,1,1,2,2,1,2,2,2,1,1,1,2,2,1,2,2,2,1,1,1,2,2,1,1,2,2,2,2,1,2,1,2,2,2,2,0,2,0,2,1,1,1,2,2,2,2,2,2,2,2,1,1,2,1,1,2,2,2,2,2,2,2,1,2,2,1,2,2,2,2,2,2,1,1,2,1,1,2,1,2,1,2,2,2,2,1,1,1,1,1,2,2,1,2,0,2,2,2,2,1,1,0,1,0,1,0,1,2,1,1,2,2,1,1,1,1,2,1,1,2,2,1,1,2,1,1,1,1,1,0,1,1,1,2,2,1,2,1,0,2,1,1,1,2,1,1,1,1,1,1,1,2,1,2,1,0,1,0,1,0,1,1,1,1,2,1,1,0,1,2,2,1,2,2,1,1,1,1,1,1,1,1,2,1,1,1,1,1,2,1,1,1,1,1,1,2,1,1,1,2,1,2,1,0,2,1,1,2,1,2,1,2,2,1,1,1,1,2,2,1,2,2,1,1,2,0,1,1,0,2,1,1,1,1,1,1,1],\"type\":\"histogram\",\"xaxis\":\"x11\",\"yaxis\":\"y11\"},{\"name\":\"ca\",\"x\":[0,0,0,0,0,0,0,0,0,0,0,0,0,0,0,0,0,0,0,2,0,0,0,0,0,2,0,0,1,0,1,0,0,1,1,0,0,0,0,0,1,0,0,0,0,0,0,0,0,0,0,0,3,0,0,1,0,0,0,1,1,0,0,0,0,0,0,0,0,0,0,1,0,0,0,0,0,0,0,0,0,0,1,0,0,0,1,0,0,0,2,0,4,1,0,0,0,3,1,3,2,0,2,0,0,0,1,0,0,0,0,1,0,0,0,0,0,0,0,0,2,0,0,0,0,0,0,1,0,1,1,0,0,0,0,0,0,0,0,1,0,0,0,2,0,0,1,0,0,0,0,0,0,1,0,0,0,0,4,0,0,0,0,4,4,3,2,2,1,0,1,0,0,2,2,0,2,0,0,1,1,3,0,1,0,1,1,1,1,0,0,3,1,2,0,0,0,2,2,2,1,1,0,0,3,1,1,2,3,1,1,1,0,0,1,0,1,3,1,2,3,0,1,2,1,0,1,0,0,0,0,3,1,1,3,0,2,2,3,0,1,0,2,1,1,0,2,3,1,3,3,4,3,2,0,3,2,0,0,0,2,1,2,2,1,1,0,3,2,0,0,2,0,1,1,2,1,0,2,1,0,0,1,0,1,2,2,1,1,1,1,3,2,0,0,2,0,2,0,0,2,1,1],\"type\":\"histogram\",\"xaxis\":\"x12\",\"yaxis\":\"y12\"},{\"name\":\"thal\",\"x\":[1,2,2,2,2,1,2,3,3,2,2,2,2,2,2,2,2,2,2,2,3,2,2,2,3,2,2,2,2,2,2,3,2,2,2,2,2,3,2,2,2,2,2,2,2,2,2,2,0,2,2,2,3,2,2,2,2,2,2,2,2,3,1,1,2,2,2,2,2,2,3,3,2,2,2,2,2,2,2,3,2,2,2,3,2,3,3,3,2,2,2,3,2,2,2,3,2,3,2,2,2,3,2,3,2,2,2,2,2,2,2,3,3,3,2,2,2,3,2,2,2,2,2,2,2,2,2,2,2,2,2,2,2,2,2,2,2,2,1,3,2,2,2,2,2,2,2,2,2,2,1,2,3,2,2,2,2,2,3,3,2,2,2,2,2,2,3,2,3,3,1,3,2,3,3,3,3,2,3,1,3,3,2,3,3,2,3,3,3,3,3,3,3,3,2,3,2,3,3,1,2,3,3,3,3,3,3,3,3,3,3,3,3,3,2,3,3,3,3,3,3,3,2,3,3,3,3,3,3,3,2,3,3,2,2,3,3,3,2,3,3,2,1,3,1,3,3,1,3,3,3,3,2,2,2,3,3,3,2,3,3,2,3,2,2,2,2,2,2,3,3,2,2,3,2,3,3,3,2,2,1,0,1,3,3,3,2,2,3,3,3,1,1,3,1,3,2,1,3,3,3,3,2],\"type\":\"histogram\",\"xaxis\":\"x13\",\"yaxis\":\"y13\"},{\"name\":\"Race\",\"x\":[2,3,1,1,1,1,1,2,1,6,2,1,1,2,3,1,1,1,3,1,3,1,1,1,1,1,2,2,2,3,2,3,1,3,1,1,3,1,1,1,1,1,1,3,1,6,6,1,1,1,4,1,6,1,2,1,2,1,3,1,2,1,1,1,3,2,1,1,3,1,3,1,2,1,2,3,2,1,3,1,1,2,3,1,1,2,1,3,1,3,1,3,1,1,1,1,1,1,1,1,3,1,2,2,1,3,2,3,1,1,1,2,1,1,1,1,4,3,1,3,2,1,2,1,2,1,1,1,4,1,4,4,1,2,3,1,1,5,1,1,1,1,2,1,3,1,1,1,1,6,1,1,1,1,1,2,1,1,2,2,1,1,2,1,1,1,4,1,6,1,2,1,1,1,1,1,4,3,2,1,1,4,1,1,2,1,1,1,1,2,2,2,6,1,1,1,1,1,3,1,1,1,1,1,2,2,1,1,2,6,1,1,1,1,1,3,2,1,1,1,2,2,1,1,1,1,1,1,4,1,1,1,1,4,1,6,2,1,6,1,1,3,3,1,3,1,1,1,1,2,4,1,2,1,1,1,1,1,1,1,1,1,3,4,2,2,2,1,1,1,1,5,1,2,1,1,6,4,2,1,2,4,1,1,2,1,1,1,1,1,1,1,1,1,1,1,1,4,1,1,1,2,1],\"type\":\"histogram\",\"xaxis\":\"x14\",\"yaxis\":\"y14\"},{\"name\":\"Totchg\",\"x\":[713,795,806,1118,1126,1184,1185,1253,1269,1378,1425,1469,1513,1567,1575,1588,1631,1641,1672,1701,1818,1824,1845,1945,1950,1954,1979,2006,2036,2042,2093,2128,2136,2137,2173,2179,2221,2231,2241,2254,2271,2273,2302,2346,2367,2427,2427,2476,2506,2511,2515,2542,2563,2571,2628,2638,2654,2682,2703,2708,2722,2735,2742,2809,2826,2834,2865,2961,3006,3039,3095,3102,3109,3129,3141,3204,3341,3380,3411,3452,3458,3459,3475,3480,3485,3504,3513,3526,3545,3621,3654,3715,3746,3795,3870,3957,3975,4016,4030,4049,4080,4084,4113,4122,4124,4126,4145,4163,4173,4176,4183,4212,4252,4260,4295,4318,4327,4376,4404,4444,4449,4506,4523,4528,4544,4546,4569,4596,4624,4645,4654,4661,4673,4722,4733,4748,4782,4782,4788,4825,4828,4852,4853,4871,4889,4925,4938,4983,4993,5000,5025,5056,5135,5151,5159,5161,5168,5215,5222,5254,5256,5258,5291,5305,5322,5323,5341,5346,5352,5369,5394,5404,5453,5468,5493,5510,5517,5550,5553,5556,5566,5625,5639,5644,5659,5666,5670,5769,5810,5824,5832,5871,5879,5884,5969,5999,6073,6083,6112,6188,6192,6193,6223,6229,6244,6277,6286,6297,6339,6352,6356,6507,6657,6688,6688,6722,6735,6736,6779,6800,6816,6824,6853,6861,7068,7151,7189,7231,7232,7269,7281,7391,7401,7412,7475,7482,7495,7527,7554,7577,7616,7667,7675,7689,7752,7843,7845,7876,7883,7894,7967,8088,8118,8133,8135,8152,8160,8254,8285,8310,8339,8398,8424,8491,8602,8643,8654,8654,8814,8820,8822,8829,8846,8854,8876,8956,8982,9033,9110,9180,9190,9257,9317,9317,9327,9343,9390,9416,9422,9459,9478,9497,9505,9518,9560,9622,9646,9668,9673,9676,9702,9723,5000],\"type\":\"histogram\",\"xaxis\":\"x15\",\"yaxis\":\"y15\"}],                        {\"template\":{\"data\":{\"bar\":[{\"error_x\":{\"color\":\"#2a3f5f\"},\"error_y\":{\"color\":\"#2a3f5f\"},\"marker\":{\"line\":{\"color\":\"#E5ECF6\",\"width\":0.5},\"pattern\":{\"fillmode\":\"overlay\",\"size\":10,\"solidity\":0.2}},\"type\":\"bar\"}],\"barpolar\":[{\"marker\":{\"line\":{\"color\":\"#E5ECF6\",\"width\":0.5},\"pattern\":{\"fillmode\":\"overlay\",\"size\":10,\"solidity\":0.2}},\"type\":\"barpolar\"}],\"carpet\":[{\"aaxis\":{\"endlinecolor\":\"#2a3f5f\",\"gridcolor\":\"white\",\"linecolor\":\"white\",\"minorgridcolor\":\"white\",\"startlinecolor\":\"#2a3f5f\"},\"baxis\":{\"endlinecolor\":\"#2a3f5f\",\"gridcolor\":\"white\",\"linecolor\":\"white\",\"minorgridcolor\":\"white\",\"startlinecolor\":\"#2a3f5f\"},\"type\":\"carpet\"}],\"choropleth\":[{\"colorbar\":{\"outlinewidth\":0,\"ticks\":\"\"},\"type\":\"choropleth\"}],\"contour\":[{\"colorbar\":{\"outlinewidth\":0,\"ticks\":\"\"},\"colorscale\":[[0.0,\"#0d0887\"],[0.1111111111111111,\"#46039f\"],[0.2222222222222222,\"#7201a8\"],[0.3333333333333333,\"#9c179e\"],[0.4444444444444444,\"#bd3786\"],[0.5555555555555556,\"#d8576b\"],[0.6666666666666666,\"#ed7953\"],[0.7777777777777778,\"#fb9f3a\"],[0.8888888888888888,\"#fdca26\"],[1.0,\"#f0f921\"]],\"type\":\"contour\"}],\"contourcarpet\":[{\"colorbar\":{\"outlinewidth\":0,\"ticks\":\"\"},\"type\":\"contourcarpet\"}],\"heatmap\":[{\"colorbar\":{\"outlinewidth\":0,\"ticks\":\"\"},\"colorscale\":[[0.0,\"#0d0887\"],[0.1111111111111111,\"#46039f\"],[0.2222222222222222,\"#7201a8\"],[0.3333333333333333,\"#9c179e\"],[0.4444444444444444,\"#bd3786\"],[0.5555555555555556,\"#d8576b\"],[0.6666666666666666,\"#ed7953\"],[0.7777777777777778,\"#fb9f3a\"],[0.8888888888888888,\"#fdca26\"],[1.0,\"#f0f921\"]],\"type\":\"heatmap\"}],\"heatmapgl\":[{\"colorbar\":{\"outlinewidth\":0,\"ticks\":\"\"},\"colorscale\":[[0.0,\"#0d0887\"],[0.1111111111111111,\"#46039f\"],[0.2222222222222222,\"#7201a8\"],[0.3333333333333333,\"#9c179e\"],[0.4444444444444444,\"#bd3786\"],[0.5555555555555556,\"#d8576b\"],[0.6666666666666666,\"#ed7953\"],[0.7777777777777778,\"#fb9f3a\"],[0.8888888888888888,\"#fdca26\"],[1.0,\"#f0f921\"]],\"type\":\"heatmapgl\"}],\"histogram\":[{\"marker\":{\"pattern\":{\"fillmode\":\"overlay\",\"size\":10,\"solidity\":0.2}},\"type\":\"histogram\"}],\"histogram2d\":[{\"colorbar\":{\"outlinewidth\":0,\"ticks\":\"\"},\"colorscale\":[[0.0,\"#0d0887\"],[0.1111111111111111,\"#46039f\"],[0.2222222222222222,\"#7201a8\"],[0.3333333333333333,\"#9c179e\"],[0.4444444444444444,\"#bd3786\"],[0.5555555555555556,\"#d8576b\"],[0.6666666666666666,\"#ed7953\"],[0.7777777777777778,\"#fb9f3a\"],[0.8888888888888888,\"#fdca26\"],[1.0,\"#f0f921\"]],\"type\":\"histogram2d\"}],\"histogram2dcontour\":[{\"colorbar\":{\"outlinewidth\":0,\"ticks\":\"\"},\"colorscale\":[[0.0,\"#0d0887\"],[0.1111111111111111,\"#46039f\"],[0.2222222222222222,\"#7201a8\"],[0.3333333333333333,\"#9c179e\"],[0.4444444444444444,\"#bd3786\"],[0.5555555555555556,\"#d8576b\"],[0.6666666666666666,\"#ed7953\"],[0.7777777777777778,\"#fb9f3a\"],[0.8888888888888888,\"#fdca26\"],[1.0,\"#f0f921\"]],\"type\":\"histogram2dcontour\"}],\"mesh3d\":[{\"colorbar\":{\"outlinewidth\":0,\"ticks\":\"\"},\"type\":\"mesh3d\"}],\"parcoords\":[{\"line\":{\"colorbar\":{\"outlinewidth\":0,\"ticks\":\"\"}},\"type\":\"parcoords\"}],\"pie\":[{\"automargin\":true,\"type\":\"pie\"}],\"scatter\":[{\"marker\":{\"colorbar\":{\"outlinewidth\":0,\"ticks\":\"\"}},\"type\":\"scatter\"}],\"scatter3d\":[{\"line\":{\"colorbar\":{\"outlinewidth\":0,\"ticks\":\"\"}},\"marker\":{\"colorbar\":{\"outlinewidth\":0,\"ticks\":\"\"}},\"type\":\"scatter3d\"}],\"scattercarpet\":[{\"marker\":{\"colorbar\":{\"outlinewidth\":0,\"ticks\":\"\"}},\"type\":\"scattercarpet\"}],\"scattergeo\":[{\"marker\":{\"colorbar\":{\"outlinewidth\":0,\"ticks\":\"\"}},\"type\":\"scattergeo\"}],\"scattergl\":[{\"marker\":{\"colorbar\":{\"outlinewidth\":0,\"ticks\":\"\"}},\"type\":\"scattergl\"}],\"scattermapbox\":[{\"marker\":{\"colorbar\":{\"outlinewidth\":0,\"ticks\":\"\"}},\"type\":\"scattermapbox\"}],\"scatterpolar\":[{\"marker\":{\"colorbar\":{\"outlinewidth\":0,\"ticks\":\"\"}},\"type\":\"scatterpolar\"}],\"scatterpolargl\":[{\"marker\":{\"colorbar\":{\"outlinewidth\":0,\"ticks\":\"\"}},\"type\":\"scatterpolargl\"}],\"scatterternary\":[{\"marker\":{\"colorbar\":{\"outlinewidth\":0,\"ticks\":\"\"}},\"type\":\"scatterternary\"}],\"surface\":[{\"colorbar\":{\"outlinewidth\":0,\"ticks\":\"\"},\"colorscale\":[[0.0,\"#0d0887\"],[0.1111111111111111,\"#46039f\"],[0.2222222222222222,\"#7201a8\"],[0.3333333333333333,\"#9c179e\"],[0.4444444444444444,\"#bd3786\"],[0.5555555555555556,\"#d8576b\"],[0.6666666666666666,\"#ed7953\"],[0.7777777777777778,\"#fb9f3a\"],[0.8888888888888888,\"#fdca26\"],[1.0,\"#f0f921\"]],\"type\":\"surface\"}],\"table\":[{\"cells\":{\"fill\":{\"color\":\"#EBF0F8\"},\"line\":{\"color\":\"white\"}},\"header\":{\"fill\":{\"color\":\"#C8D4E3\"},\"line\":{\"color\":\"white\"}},\"type\":\"table\"}]},\"layout\":{\"annotationdefaults\":{\"arrowcolor\":\"#2a3f5f\",\"arrowhead\":0,\"arrowwidth\":1},\"autotypenumbers\":\"strict\",\"coloraxis\":{\"colorbar\":{\"outlinewidth\":0,\"ticks\":\"\"}},\"colorscale\":{\"diverging\":[[0,\"#8e0152\"],[0.1,\"#c51b7d\"],[0.2,\"#de77ae\"],[0.3,\"#f1b6da\"],[0.4,\"#fde0ef\"],[0.5,\"#f7f7f7\"],[0.6,\"#e6f5d0\"],[0.7,\"#b8e186\"],[0.8,\"#7fbc41\"],[0.9,\"#4d9221\"],[1,\"#276419\"]],\"sequential\":[[0.0,\"#0d0887\"],[0.1111111111111111,\"#46039f\"],[0.2222222222222222,\"#7201a8\"],[0.3333333333333333,\"#9c179e\"],[0.4444444444444444,\"#bd3786\"],[0.5555555555555556,\"#d8576b\"],[0.6666666666666666,\"#ed7953\"],[0.7777777777777778,\"#fb9f3a\"],[0.8888888888888888,\"#fdca26\"],[1.0,\"#f0f921\"]],\"sequentialminus\":[[0.0,\"#0d0887\"],[0.1111111111111111,\"#46039f\"],[0.2222222222222222,\"#7201a8\"],[0.3333333333333333,\"#9c179e\"],[0.4444444444444444,\"#bd3786\"],[0.5555555555555556,\"#d8576b\"],[0.6666666666666666,\"#ed7953\"],[0.7777777777777778,\"#fb9f3a\"],[0.8888888888888888,\"#fdca26\"],[1.0,\"#f0f921\"]]},\"colorway\":[\"#636efa\",\"#EF553B\",\"#00cc96\",\"#ab63fa\",\"#FFA15A\",\"#19d3f3\",\"#FF6692\",\"#B6E880\",\"#FF97FF\",\"#FECB52\"],\"font\":{\"color\":\"#2a3f5f\"},\"geo\":{\"bgcolor\":\"white\",\"lakecolor\":\"white\",\"landcolor\":\"#E5ECF6\",\"showlakes\":true,\"showland\":true,\"subunitcolor\":\"white\"},\"hoverlabel\":{\"align\":\"left\"},\"hovermode\":\"closest\",\"mapbox\":{\"style\":\"light\"},\"paper_bgcolor\":\"white\",\"plot_bgcolor\":\"#E5ECF6\",\"polar\":{\"angularaxis\":{\"gridcolor\":\"white\",\"linecolor\":\"white\",\"ticks\":\"\"},\"bgcolor\":\"#E5ECF6\",\"radialaxis\":{\"gridcolor\":\"white\",\"linecolor\":\"white\",\"ticks\":\"\"}},\"scene\":{\"xaxis\":{\"backgroundcolor\":\"#E5ECF6\",\"gridcolor\":\"white\",\"gridwidth\":2,\"linecolor\":\"white\",\"showbackground\":true,\"ticks\":\"\",\"zerolinecolor\":\"white\"},\"yaxis\":{\"backgroundcolor\":\"#E5ECF6\",\"gridcolor\":\"white\",\"gridwidth\":2,\"linecolor\":\"white\",\"showbackground\":true,\"ticks\":\"\",\"zerolinecolor\":\"white\"},\"zaxis\":{\"backgroundcolor\":\"#E5ECF6\",\"gridcolor\":\"white\",\"gridwidth\":2,\"linecolor\":\"white\",\"showbackground\":true,\"ticks\":\"\",\"zerolinecolor\":\"white\"}},\"shapedefaults\":{\"line\":{\"color\":\"#2a3f5f\"}},\"ternary\":{\"aaxis\":{\"gridcolor\":\"white\",\"linecolor\":\"white\",\"ticks\":\"\"},\"baxis\":{\"gridcolor\":\"white\",\"linecolor\":\"white\",\"ticks\":\"\"},\"bgcolor\":\"#E5ECF6\",\"caxis\":{\"gridcolor\":\"white\",\"linecolor\":\"white\",\"ticks\":\"\"}},\"title\":{\"x\":0.05},\"xaxis\":{\"automargin\":true,\"gridcolor\":\"white\",\"linecolor\":\"white\",\"ticks\":\"\",\"title\":{\"standoff\":15},\"zerolinecolor\":\"white\",\"zerolinewidth\":2},\"yaxis\":{\"automargin\":true,\"gridcolor\":\"white\",\"linecolor\":\"white\",\"ticks\":\"\",\"title\":{\"standoff\":15},\"zerolinecolor\":\"white\",\"zerolinewidth\":2}}},\"xaxis\":{\"anchor\":\"y\",\"domain\":[0.0,0.2125]},\"yaxis\":{\"anchor\":\"x\",\"domain\":[0.84375,1.0]},\"xaxis2\":{\"anchor\":\"y2\",\"domain\":[0.2625,0.475]},\"yaxis2\":{\"anchor\":\"x2\",\"domain\":[0.84375,1.0]},\"xaxis3\":{\"anchor\":\"y3\",\"domain\":[0.525,0.7375]},\"yaxis3\":{\"anchor\":\"x3\",\"domain\":[0.84375,1.0]},\"xaxis4\":{\"anchor\":\"y4\",\"domain\":[0.7875,1.0]},\"yaxis4\":{\"anchor\":\"x4\",\"domain\":[0.84375,1.0]},\"xaxis5\":{\"anchor\":\"y5\",\"domain\":[0.0,0.2125]},\"yaxis5\":{\"anchor\":\"x5\",\"domain\":[0.5625,0.71875]},\"xaxis6\":{\"anchor\":\"y6\",\"domain\":[0.2625,0.475]},\"yaxis6\":{\"anchor\":\"x6\",\"domain\":[0.5625,0.71875]},\"xaxis7\":{\"anchor\":\"y7\",\"domain\":[0.525,0.7375]},\"yaxis7\":{\"anchor\":\"x7\",\"domain\":[0.5625,0.71875]},\"xaxis8\":{\"anchor\":\"y8\",\"domain\":[0.7875,1.0]},\"yaxis8\":{\"anchor\":\"x8\",\"domain\":[0.5625,0.71875]},\"xaxis9\":{\"anchor\":\"y9\",\"domain\":[0.0,0.2125]},\"yaxis9\":{\"anchor\":\"x9\",\"domain\":[0.28125,0.4375]},\"xaxis10\":{\"anchor\":\"y10\",\"domain\":[0.2625,0.475]},\"yaxis10\":{\"anchor\":\"x10\",\"domain\":[0.28125,0.4375]},\"xaxis11\":{\"anchor\":\"y11\",\"domain\":[0.525,0.7375]},\"yaxis11\":{\"anchor\":\"x11\",\"domain\":[0.28125,0.4375]},\"xaxis12\":{\"anchor\":\"y12\",\"domain\":[0.7875,1.0]},\"yaxis12\":{\"anchor\":\"x12\",\"domain\":[0.28125,0.4375]},\"xaxis13\":{\"anchor\":\"y13\",\"domain\":[0.0,0.2125]},\"yaxis13\":{\"anchor\":\"x13\",\"domain\":[0.0,0.15625]},\"xaxis14\":{\"anchor\":\"y14\",\"domain\":[0.2625,0.475]},\"yaxis14\":{\"anchor\":\"x14\",\"domain\":[0.0,0.15625]},\"xaxis15\":{\"anchor\":\"y15\",\"domain\":[0.525,0.7375]},\"yaxis15\":{\"anchor\":\"x15\",\"domain\":[0.0,0.15625]},\"xaxis16\":{\"anchor\":\"y16\",\"domain\":[0.7875,1.0]},\"yaxis16\":{\"anchor\":\"x16\",\"domain\":[0.0,0.15625]},\"annotations\":[{\"font\":{\"size\":16},\"showarrow\":false,\"text\":\"age\",\"x\":0.10625,\"xanchor\":\"center\",\"xref\":\"paper\",\"y\":1.0,\"yanchor\":\"bottom\",\"yref\":\"paper\"},{\"font\":{\"size\":16},\"showarrow\":false,\"text\":\"sex\",\"x\":0.36875,\"xanchor\":\"center\",\"xref\":\"paper\",\"y\":1.0,\"yanchor\":\"bottom\",\"yref\":\"paper\"},{\"font\":{\"size\":16},\"showarrow\":false,\"text\":\"cp\",\"x\":0.6312500000000001,\"xanchor\":\"center\",\"xref\":\"paper\",\"y\":1.0,\"yanchor\":\"bottom\",\"yref\":\"paper\"},{\"font\":{\"size\":16},\"showarrow\":false,\"text\":\"trestbps\",\"x\":0.89375,\"xanchor\":\"center\",\"xref\":\"paper\",\"y\":1.0,\"yanchor\":\"bottom\",\"yref\":\"paper\"},{\"font\":{\"size\":16},\"showarrow\":false,\"text\":\"chol\",\"x\":0.10625,\"xanchor\":\"center\",\"xref\":\"paper\",\"y\":0.71875,\"yanchor\":\"bottom\",\"yref\":\"paper\"},{\"font\":{\"size\":16},\"showarrow\":false,\"text\":\"fbs\",\"x\":0.36875,\"xanchor\":\"center\",\"xref\":\"paper\",\"y\":0.71875,\"yanchor\":\"bottom\",\"yref\":\"paper\"},{\"font\":{\"size\":16},\"showarrow\":false,\"text\":\"restecg\",\"x\":0.6312500000000001,\"xanchor\":\"center\",\"xref\":\"paper\",\"y\":0.71875,\"yanchor\":\"bottom\",\"yref\":\"paper\"},{\"font\":{\"size\":16},\"showarrow\":false,\"text\":\"thalach\",\"x\":0.89375,\"xanchor\":\"center\",\"xref\":\"paper\",\"y\":0.71875,\"yanchor\":\"bottom\",\"yref\":\"paper\"},{\"font\":{\"size\":16},\"showarrow\":false,\"text\":\"exang\",\"x\":0.10625,\"xanchor\":\"center\",\"xref\":\"paper\",\"y\":0.4375,\"yanchor\":\"bottom\",\"yref\":\"paper\"},{\"font\":{\"size\":16},\"showarrow\":false,\"text\":\"oldpeak\",\"x\":0.36875,\"xanchor\":\"center\",\"xref\":\"paper\",\"y\":0.4375,\"yanchor\":\"bottom\",\"yref\":\"paper\"},{\"font\":{\"size\":16},\"showarrow\":false,\"text\":\"slope\",\"x\":0.6312500000000001,\"xanchor\":\"center\",\"xref\":\"paper\",\"y\":0.4375,\"yanchor\":\"bottom\",\"yref\":\"paper\"},{\"font\":{\"size\":16},\"showarrow\":false,\"text\":\"ca\",\"x\":0.89375,\"xanchor\":\"center\",\"xref\":\"paper\",\"y\":0.4375,\"yanchor\":\"bottom\",\"yref\":\"paper\"},{\"font\":{\"size\":16},\"showarrow\":false,\"text\":\"thal\",\"x\":0.10625,\"xanchor\":\"center\",\"xref\":\"paper\",\"y\":0.15625,\"yanchor\":\"bottom\",\"yref\":\"paper\"},{\"font\":{\"size\":16},\"showarrow\":false,\"text\":\"target\",\"x\":0.36875,\"xanchor\":\"center\",\"xref\":\"paper\",\"y\":0.15625,\"yanchor\":\"bottom\",\"yref\":\"paper\"},{\"font\":{\"size\":16},\"showarrow\":false,\"text\":\"Race\",\"x\":0.6312500000000001,\"xanchor\":\"center\",\"xref\":\"paper\",\"y\":0.15625,\"yanchor\":\"bottom\",\"yref\":\"paper\"},{\"font\":{\"size\":16},\"showarrow\":false,\"text\":\"Totchg\",\"x\":0.89375,\"xanchor\":\"center\",\"xref\":\"paper\",\"y\":0.15625,\"yanchor\":\"bottom\",\"yref\":\"paper\"}],\"title\":{\"text\":\"Histograms of Variables\",\"x\":0.5},\"showlegend\":true},                        {\"responsive\": true}                    )                };                            </script>        </div>\n</body>\n</html>",
       "datasetInfos": [],
       "metadata": {},
       "removedWidgets": [],
       "textData": null,
       "type": "htmlSandbox"
      }
     },
     "output_type": "display_data"
    }
   ],
   "source": [
    "from plotly.subplots import make_subplots\n",
    "import plotly.graph_objects as go\n",
    "\n",
    "# Ensure all column names are used for subplot titles\n",
    "fig = make_subplots(rows=4, cols=4, start_cell=\"top-left\", subplot_titles=df2.columns)\n",
    "\n",
    "# Add traces for each column\n",
    "fig.add_trace(go.Histogram(x=df2['age'], name='age'), row=1, col=1)\n",
    "fig.add_trace(go.Histogram(x=df2['sex'], name='sex'), row=1, col=2)\n",
    "fig.add_trace(go.Histogram(x=df2['cp'], name='cp'), row=1, col=3)\n",
    "fig.add_trace(go.Histogram(x=df2['trestbps'], name='trestbps'), row=1, col=4)\n",
    "fig.add_trace(go.Histogram(x=df2['chol'], name='chol'), row=2, col=1)\n",
    "fig.add_trace(go.Histogram(x=df2['fbs'], name='fbs'), row=2, col=2)\n",
    "fig.add_trace(go.Histogram(x=df2['restecg'], name='restecg'), row=2, col=3)\n",
    "fig.add_trace(go.Histogram(x=df2['thalach'], name='thalach'), row=2, col=4)\n",
    "fig.add_trace(go.Histogram(x=df2['exang'], name='exang'), row=3, col=1)\n",
    "fig.add_trace(go.Histogram(x=df2['oldpeak'], name='oldpeak'), row=3, col=2)\n",
    "fig.add_trace(go.Histogram(x=df2['slope'], name='slope'), row=3, col=3)\n",
    "fig.add_trace(go.Histogram(x=df2['ca'], name='ca'), row=3, col=4)\n",
    "fig.add_trace(go.Histogram(x=df2['thal'], name='thal'), row=4, col=1)\n",
    "fig.add_trace(go.Histogram(x=df2['Race'], name='Race'), row=4, col=2)\n",
    "fig.add_trace(go.Histogram(x=df2['Totchg'], name='Totchg'), row=4, col=3)\n",
    "\n",
    "# You may have an extra empty subplot if your number of columns doesn't perfectly fill the grid.\n",
    "# Optionally, you can adjust the subplot layout or remove any unused subplot space.\n",
    "\n",
    "# Update the layout and show the figure\n",
    "fig.update_layout(title='Histograms of Variables', title_x=0.5, showlegend=True)\n",
    "fig.show()\n"
   ]
  },
  {
   "cell_type": "code",
   "execution_count": null,
   "metadata": {
    "application/vnd.databricks.v1+cell": {
     "cellMetadata": {
      "byteLimit": 2048000,
      "rowLimit": 10000
     },
     "inputWidgets": {},
     "nuid": "c77282c3-f4f4-480e-b538-1b4f864cea54",
     "showTitle": false,
     "title": ""
    }
   },
   "outputs": [
    {
     "data": {
      "text/html": [
       "<html>\n",
       "<head><meta charset=\"utf-8\" /></head>\n",
       "<body>\n",
       "    <div>            <script src=\"https://cdnjs.cloudflare.com/ajax/libs/mathjax/2.7.5/MathJax.js?config=TeX-AMS-MML_SVG\"></script><script type=\"text/javascript\">if (window.MathJax) {MathJax.Hub.Config({SVG: {font: \"STIX-Web\"}});}</script>                <script type=\"text/javascript\">window.PlotlyConfig = {MathJaxConfig: 'local'};</script>\n",
       "        <script src=\"https://cdn.plot.ly/plotly-2.9.0.min.js\"></script>                <div id=\"8e829a9c-b9d0-43f7-9422-a1fc22a29c8f\" class=\"plotly-graph-div\" style=\"height:100%; width:100%;\"></div>            <script type=\"text/javascript\">                                    window.PLOTLYENV=window.PLOTLYENV || {};                                    if (document.getElementById(\"8e829a9c-b9d0-43f7-9422-a1fc22a29c8f\")) {                    Plotly.newPlot(                        \"8e829a9c-b9d0-43f7-9422-a1fc22a29c8f\",                        [{\"name\":\"oldpeak\",\"x\":[2.3,3.5,1.4,0.8,0.6,0.4,1.3,0.0,0.5,1.6,1.2,0.2,0.6,1.8,1.0,1.6,0.0,2.6,1.5,1.8,0.5,0.4,0.0,1.0,1.4,0.4,1.6,0.6,0.8,1.2,0.0,0.4,0.0,0.5,1.4,1.4,0.0,1.6,0.8,0.8,1.5,0.2,3.0,0.4,0.0,0.2,0.0,0.0,0.0,0.0,0.5,0.4,1.8,0.6,0.0,0.8,0.0,0.0,0.0,0.0,0.0,0.0,0.0,0.0,0.0,1.4,1.2,0.6,0.0,0.0,0.4,0.0,0.0,0.0,0.2,1.4,2.4,0.0,0.0,0.6,0.0,0.0,0.0,1.2,0.6,1.6,1.0,0.0,1.6,1.0,0.0,0.0,0.0,0.0,0.0,0.0,1.2,0.1,1.9,0.0,0.8,4.2,0.0,0.8,0.0,1.5,0.1,0.2,1.1,0.0,0.0,0.2,0.2,0.0,0.0,0.0,2.0,1.9,0.0,0.0,2.0,0.0,0.0,0.0,0.0,0.7,0.1,0.0,0.1,0.2,0.0,0.0,0.0,0.0,0.0,0.0,0.0,0.0,1.5,0.2,0.6,1.2,0.0,0.3,1.1,0.0,0.3,0.9,0.0,0.0,2.3,1.6,0.6,0.0,0.0,0.6,0.0,0.0,0.4,0.0,0.0,1.2,0.0,0.0,0.0,1.5,2.6,3.6,1.4,3.1,0.6,1.0,1.8,3.2,2.4,2.0,1.4,0.0,2.5,0.6,1.2,1.0,0.0,2.5,2.6,0.0,1.4,2.2,0.6,0.0,1.2,2.2,1.4,2.8,3.0,3.4,3.6,0.2,1.8,0.6,0.0,2.8,0.8,1.6,6.2,0.0,1.2,2.6,2.0,0.0,0.4,3.6,1.2,1.0,1.2,3.0,1.2,1.8,2.8,0.0,4.0,5.6,1.4,4.0,2.8,2.6,1.4,1.6,0.2,1.8,0.0,1.0,0.8,2.2,2.4,1.6,0.0,1.2,0.0,0.0,2.9,0.0,2.0,1.2,2.1,0.5,1.9,0.0,0.0,2.0,4.2,0.1,1.9,0.9,0.0,0.0,3.0,0.9,1.4,3.8,1.0,0.0,2.0,1.8,0.0,0.1,3.4,0.8,3.2,1.6,0.8,2.6,1.0,0.1,1.0,1.0,2.0,0.3,0.0,3.6,1.8,1.0,2.2,0.0,1.9,1.8,0.8,0.0,3.0,2.0,0.0,4.4,2.8,0.8,2.8,4.0,0.0,1.0,0.2,1.2,3.4,1.2,0.0],\"type\":\"histogram\",\"xaxis\":\"x\",\"yaxis\":\"y\"},{\"name\":\"oldpeaklog\",\"x\":[1.1939224684724346,1.5040773967762742,0.8754687373538999,0.5877866649021191,0.4700036292457356,0.33647223662121284,0.832909122935104,0.0,0.4054651081081644,0.9555114450274365,0.7884573603642703,0.1823215567939546,0.4700036292457356,1.0296194171811581,0.6931471805599453,0.9555114450274365,0.0,1.2809338454620645,0.9162907318741551,1.0296194171811581,0.4054651081081644,0.33647223662121284,0.0,0.6931471805599453,0.8754687373538999,0.33647223662121284,0.9555114450274365,0.4700036292457356,0.5877866649021191,0.7884573603642703,0.0,0.33647223662121284,0.0,0.4054651081081644,0.8754687373538999,0.8754687373538999,0.0,0.9555114450274365,0.5877866649021191,0.5877866649021191,0.9162907318741551,0.1823215567939546,1.3862943611198906,0.33647223662121284,0.0,0.1823215567939546,0.0,0.0,0.0,0.0,0.4054651081081644,0.33647223662121284,1.0296194171811581,0.4700036292457356,0.0,0.5877866649021191,0.0,0.0,0.0,0.0,0.0,0.0,0.0,0.0,0.0,0.8754687373538999,0.7884573603642703,0.4700036292457356,0.0,0.0,0.33647223662121284,0.0,0.0,0.0,0.1823215567939546,0.8754687373538999,1.2237754316221157,0.0,0.0,0.4700036292457356,0.0,0.0,0.0,0.7884573603642703,0.4700036292457356,0.9555114450274365,0.6931471805599453,0.0,0.9555114450274365,0.6931471805599453,0.0,0.0,0.0,0.0,0.0,0.0,0.7884573603642703,0.09531017980432493,1.0647107369924282,0.0,0.5877866649021191,1.6486586255873816,0.0,0.5877866649021191,0.0,0.9162907318741551,0.09531017980432493,0.1823215567939546,0.7419373447293773,0.0,0.0,0.1823215567939546,0.1823215567939546,0.0,0.0,0.0,1.0986122886681096,1.0647107369924282,0.0,0.0,1.0986122886681096,0.0,0.0,0.0,0.0,0.5306282510621704,0.09531017980432493,0.0,0.09531017980432493,0.1823215567939546,0.0,0.0,0.0,0.0,0.0,0.0,0.0,0.0,0.9162907318741551,0.1823215567939546,0.4700036292457356,0.7884573603642703,0.0,0.26236426446749106,0.7419373447293773,0.0,0.26236426446749106,0.6418538861723947,0.0,0.0,1.1939224684724346,0.9555114450274365,0.4700036292457356,0.0,0.0,0.4700036292457356,0.0,0.0,0.33647223662121284,0.0,0.0,0.7884573603642703,0.0,0.0,0.0,0.9162907318741551,1.2809338454620645,1.5260563034950492,0.8754687373538999,1.410986973710262,0.4700036292457356,0.6931471805599453,1.0296194171811581,1.4350845252893227,1.2237754316221157,1.0986122886681096,0.8754687373538999,0.0,1.252762968495368,0.4700036292457356,0.7884573603642703,0.6931471805599453,0.0,1.252762968495368,1.2809338454620645,0.0,0.8754687373538999,1.1631508098056809,0.4700036292457356,0.0,0.7884573603642703,1.1631508098056809,0.8754687373538999,1.33500106673234,1.3862943611198906,1.4816045409242156,1.5260563034950492,0.1823215567939546,1.0296194171811581,0.4700036292457356,0.0,1.33500106673234,0.5877866649021191,0.9555114450274365,1.9740810260220096,0.0,0.7884573603642703,1.2809338454620645,1.0986122886681096,0.0,0.33647223662121284,1.5260563034950492,0.7884573603642703,0.6931471805599453,0.7884573603642703,1.3862943611198906,0.7884573603642703,1.0296194171811581,1.33500106673234,0.0,1.6094379124341003,1.8870696490323797,0.8754687373538999,1.6094379124341003,1.33500106673234,1.2809338454620645,0.8754687373538999,0.9555114450274365,0.1823215567939546,1.0296194171811581,0.0,0.6931471805599453,0.5877866649021191,1.1631508098056809,1.2237754316221157,0.9555114450274365,0.0,0.7884573603642703,0.0,0.0,1.3609765531356006,0.0,1.0986122886681096,0.7884573603642703,1.1314021114911006,0.4054651081081644,1.0647107369924282,0.0,0.0,1.0986122886681096,1.6486586255873816,0.09531017980432493,1.0647107369924282,0.6418538861723947,0.0,0.0,1.3862943611198906,0.6418538861723947,0.8754687373538999,1.5686159179138452,0.6931471805599453,0.0,1.0986122886681096,1.0296194171811581,0.0,0.09531017980432493,1.4816045409242156,0.5877866649021191,1.4350845252893227,0.9555114450274365,0.5877866649021191,1.2809338454620645,0.6931471805599453,0.09531017980432493,0.6931471805599453,0.6931471805599453,1.0986122886681096,0.26236426446749106,0.0,1.5260563034950492,1.0296194171811581,0.6931471805599453,1.1631508098056809,0.0,1.0647107369924282,1.0296194171811581,0.5877866649021191,0.0,1.3862943611198906,1.0986122886681096,0.0,1.6863989535702288,1.33500106673234,0.5877866649021191,1.33500106673234,1.6094379124341003,0.0,0.6931471805599453,0.1823215567939546,0.7884573603642703,1.4816045409242156,0.7884573603642703,0.0],\"type\":\"histogram\",\"xaxis\":\"x2\",\"yaxis\":\"y2\"}],                        {\"template\":{\"data\":{\"bar\":[{\"error_x\":{\"color\":\"#2a3f5f\"},\"error_y\":{\"color\":\"#2a3f5f\"},\"marker\":{\"line\":{\"color\":\"#E5ECF6\",\"width\":0.5},\"pattern\":{\"fillmode\":\"overlay\",\"size\":10,\"solidity\":0.2}},\"type\":\"bar\"}],\"barpolar\":[{\"marker\":{\"line\":{\"color\":\"#E5ECF6\",\"width\":0.5},\"pattern\":{\"fillmode\":\"overlay\",\"size\":10,\"solidity\":0.2}},\"type\":\"barpolar\"}],\"carpet\":[{\"aaxis\":{\"endlinecolor\":\"#2a3f5f\",\"gridcolor\":\"white\",\"linecolor\":\"white\",\"minorgridcolor\":\"white\",\"startlinecolor\":\"#2a3f5f\"},\"baxis\":{\"endlinecolor\":\"#2a3f5f\",\"gridcolor\":\"white\",\"linecolor\":\"white\",\"minorgridcolor\":\"white\",\"startlinecolor\":\"#2a3f5f\"},\"type\":\"carpet\"}],\"choropleth\":[{\"colorbar\":{\"outlinewidth\":0,\"ticks\":\"\"},\"type\":\"choropleth\"}],\"contour\":[{\"colorbar\":{\"outlinewidth\":0,\"ticks\":\"\"},\"colorscale\":[[0.0,\"#0d0887\"],[0.1111111111111111,\"#46039f\"],[0.2222222222222222,\"#7201a8\"],[0.3333333333333333,\"#9c179e\"],[0.4444444444444444,\"#bd3786\"],[0.5555555555555556,\"#d8576b\"],[0.6666666666666666,\"#ed7953\"],[0.7777777777777778,\"#fb9f3a\"],[0.8888888888888888,\"#fdca26\"],[1.0,\"#f0f921\"]],\"type\":\"contour\"}],\"contourcarpet\":[{\"colorbar\":{\"outlinewidth\":0,\"ticks\":\"\"},\"type\":\"contourcarpet\"}],\"heatmap\":[{\"colorbar\":{\"outlinewidth\":0,\"ticks\":\"\"},\"colorscale\":[[0.0,\"#0d0887\"],[0.1111111111111111,\"#46039f\"],[0.2222222222222222,\"#7201a8\"],[0.3333333333333333,\"#9c179e\"],[0.4444444444444444,\"#bd3786\"],[0.5555555555555556,\"#d8576b\"],[0.6666666666666666,\"#ed7953\"],[0.7777777777777778,\"#fb9f3a\"],[0.8888888888888888,\"#fdca26\"],[1.0,\"#f0f921\"]],\"type\":\"heatmap\"}],\"heatmapgl\":[{\"colorbar\":{\"outlinewidth\":0,\"ticks\":\"\"},\"colorscale\":[[0.0,\"#0d0887\"],[0.1111111111111111,\"#46039f\"],[0.2222222222222222,\"#7201a8\"],[0.3333333333333333,\"#9c179e\"],[0.4444444444444444,\"#bd3786\"],[0.5555555555555556,\"#d8576b\"],[0.6666666666666666,\"#ed7953\"],[0.7777777777777778,\"#fb9f3a\"],[0.8888888888888888,\"#fdca26\"],[1.0,\"#f0f921\"]],\"type\":\"heatmapgl\"}],\"histogram\":[{\"marker\":{\"pattern\":{\"fillmode\":\"overlay\",\"size\":10,\"solidity\":0.2}},\"type\":\"histogram\"}],\"histogram2d\":[{\"colorbar\":{\"outlinewidth\":0,\"ticks\":\"\"},\"colorscale\":[[0.0,\"#0d0887\"],[0.1111111111111111,\"#46039f\"],[0.2222222222222222,\"#7201a8\"],[0.3333333333333333,\"#9c179e\"],[0.4444444444444444,\"#bd3786\"],[0.5555555555555556,\"#d8576b\"],[0.6666666666666666,\"#ed7953\"],[0.7777777777777778,\"#fb9f3a\"],[0.8888888888888888,\"#fdca26\"],[1.0,\"#f0f921\"]],\"type\":\"histogram2d\"}],\"histogram2dcontour\":[{\"colorbar\":{\"outlinewidth\":0,\"ticks\":\"\"},\"colorscale\":[[0.0,\"#0d0887\"],[0.1111111111111111,\"#46039f\"],[0.2222222222222222,\"#7201a8\"],[0.3333333333333333,\"#9c179e\"],[0.4444444444444444,\"#bd3786\"],[0.5555555555555556,\"#d8576b\"],[0.6666666666666666,\"#ed7953\"],[0.7777777777777778,\"#fb9f3a\"],[0.8888888888888888,\"#fdca26\"],[1.0,\"#f0f921\"]],\"type\":\"histogram2dcontour\"}],\"mesh3d\":[{\"colorbar\":{\"outlinewidth\":0,\"ticks\":\"\"},\"type\":\"mesh3d\"}],\"parcoords\":[{\"line\":{\"colorbar\":{\"outlinewidth\":0,\"ticks\":\"\"}},\"type\":\"parcoords\"}],\"pie\":[{\"automargin\":true,\"type\":\"pie\"}],\"scatter\":[{\"marker\":{\"colorbar\":{\"outlinewidth\":0,\"ticks\":\"\"}},\"type\":\"scatter\"}],\"scatter3d\":[{\"line\":{\"colorbar\":{\"outlinewidth\":0,\"ticks\":\"\"}},\"marker\":{\"colorbar\":{\"outlinewidth\":0,\"ticks\":\"\"}},\"type\":\"scatter3d\"}],\"scattercarpet\":[{\"marker\":{\"colorbar\":{\"outlinewidth\":0,\"ticks\":\"\"}},\"type\":\"scattercarpet\"}],\"scattergeo\":[{\"marker\":{\"colorbar\":{\"outlinewidth\":0,\"ticks\":\"\"}},\"type\":\"scattergeo\"}],\"scattergl\":[{\"marker\":{\"colorbar\":{\"outlinewidth\":0,\"ticks\":\"\"}},\"type\":\"scattergl\"}],\"scattermapbox\":[{\"marker\":{\"colorbar\":{\"outlinewidth\":0,\"ticks\":\"\"}},\"type\":\"scattermapbox\"}],\"scatterpolar\":[{\"marker\":{\"colorbar\":{\"outlinewidth\":0,\"ticks\":\"\"}},\"type\":\"scatterpolar\"}],\"scatterpolargl\":[{\"marker\":{\"colorbar\":{\"outlinewidth\":0,\"ticks\":\"\"}},\"type\":\"scatterpolargl\"}],\"scatterternary\":[{\"marker\":{\"colorbar\":{\"outlinewidth\":0,\"ticks\":\"\"}},\"type\":\"scatterternary\"}],\"surface\":[{\"colorbar\":{\"outlinewidth\":0,\"ticks\":\"\"},\"colorscale\":[[0.0,\"#0d0887\"],[0.1111111111111111,\"#46039f\"],[0.2222222222222222,\"#7201a8\"],[0.3333333333333333,\"#9c179e\"],[0.4444444444444444,\"#bd3786\"],[0.5555555555555556,\"#d8576b\"],[0.6666666666666666,\"#ed7953\"],[0.7777777777777778,\"#fb9f3a\"],[0.8888888888888888,\"#fdca26\"],[1.0,\"#f0f921\"]],\"type\":\"surface\"}],\"table\":[{\"cells\":{\"fill\":{\"color\":\"#EBF0F8\"},\"line\":{\"color\":\"white\"}},\"header\":{\"fill\":{\"color\":\"#C8D4E3\"},\"line\":{\"color\":\"white\"}},\"type\":\"table\"}]},\"layout\":{\"annotationdefaults\":{\"arrowcolor\":\"#2a3f5f\",\"arrowhead\":0,\"arrowwidth\":1},\"autotypenumbers\":\"strict\",\"coloraxis\":{\"colorbar\":{\"outlinewidth\":0,\"ticks\":\"\"}},\"colorscale\":{\"diverging\":[[0,\"#8e0152\"],[0.1,\"#c51b7d\"],[0.2,\"#de77ae\"],[0.3,\"#f1b6da\"],[0.4,\"#fde0ef\"],[0.5,\"#f7f7f7\"],[0.6,\"#e6f5d0\"],[0.7,\"#b8e186\"],[0.8,\"#7fbc41\"],[0.9,\"#4d9221\"],[1,\"#276419\"]],\"sequential\":[[0.0,\"#0d0887\"],[0.1111111111111111,\"#46039f\"],[0.2222222222222222,\"#7201a8\"],[0.3333333333333333,\"#9c179e\"],[0.4444444444444444,\"#bd3786\"],[0.5555555555555556,\"#d8576b\"],[0.6666666666666666,\"#ed7953\"],[0.7777777777777778,\"#fb9f3a\"],[0.8888888888888888,\"#fdca26\"],[1.0,\"#f0f921\"]],\"sequentialminus\":[[0.0,\"#0d0887\"],[0.1111111111111111,\"#46039f\"],[0.2222222222222222,\"#7201a8\"],[0.3333333333333333,\"#9c179e\"],[0.4444444444444444,\"#bd3786\"],[0.5555555555555556,\"#d8576b\"],[0.6666666666666666,\"#ed7953\"],[0.7777777777777778,\"#fb9f3a\"],[0.8888888888888888,\"#fdca26\"],[1.0,\"#f0f921\"]]},\"colorway\":[\"#636efa\",\"#EF553B\",\"#00cc96\",\"#ab63fa\",\"#FFA15A\",\"#19d3f3\",\"#FF6692\",\"#B6E880\",\"#FF97FF\",\"#FECB52\"],\"font\":{\"color\":\"#2a3f5f\"},\"geo\":{\"bgcolor\":\"white\",\"lakecolor\":\"white\",\"landcolor\":\"#E5ECF6\",\"showlakes\":true,\"showland\":true,\"subunitcolor\":\"white\"},\"hoverlabel\":{\"align\":\"left\"},\"hovermode\":\"closest\",\"mapbox\":{\"style\":\"light\"},\"paper_bgcolor\":\"white\",\"plot_bgcolor\":\"#E5ECF6\",\"polar\":{\"angularaxis\":{\"gridcolor\":\"white\",\"linecolor\":\"white\",\"ticks\":\"\"},\"bgcolor\":\"#E5ECF6\",\"radialaxis\":{\"gridcolor\":\"white\",\"linecolor\":\"white\",\"ticks\":\"\"}},\"scene\":{\"xaxis\":{\"backgroundcolor\":\"#E5ECF6\",\"gridcolor\":\"white\",\"gridwidth\":2,\"linecolor\":\"white\",\"showbackground\":true,\"ticks\":\"\",\"zerolinecolor\":\"white\"},\"yaxis\":{\"backgroundcolor\":\"#E5ECF6\",\"gridcolor\":\"white\",\"gridwidth\":2,\"linecolor\":\"white\",\"showbackground\":true,\"ticks\":\"\",\"zerolinecolor\":\"white\"},\"zaxis\":{\"backgroundcolor\":\"#E5ECF6\",\"gridcolor\":\"white\",\"gridwidth\":2,\"linecolor\":\"white\",\"showbackground\":true,\"ticks\":\"\",\"zerolinecolor\":\"white\"}},\"shapedefaults\":{\"line\":{\"color\":\"#2a3f5f\"}},\"ternary\":{\"aaxis\":{\"gridcolor\":\"white\",\"linecolor\":\"white\",\"ticks\":\"\"},\"baxis\":{\"gridcolor\":\"white\",\"linecolor\":\"white\",\"ticks\":\"\"},\"bgcolor\":\"#E5ECF6\",\"caxis\":{\"gridcolor\":\"white\",\"linecolor\":\"white\",\"ticks\":\"\"}},\"title\":{\"x\":0.05},\"xaxis\":{\"automargin\":true,\"gridcolor\":\"white\",\"linecolor\":\"white\",\"ticks\":\"\",\"title\":{\"standoff\":15},\"zerolinecolor\":\"white\",\"zerolinewidth\":2},\"yaxis\":{\"automargin\":true,\"gridcolor\":\"white\",\"linecolor\":\"white\",\"ticks\":\"\",\"title\":{\"standoff\":15},\"zerolinecolor\":\"white\",\"zerolinewidth\":2}}},\"xaxis\":{\"anchor\":\"y\",\"domain\":[0.0,0.45]},\"yaxis\":{\"anchor\":\"x\",\"domain\":[0.0,1.0]},\"xaxis2\":{\"anchor\":\"y2\",\"domain\":[0.55,1.0]},\"yaxis2\":{\"anchor\":\"x2\",\"domain\":[0.0,1.0]},\"annotations\":[{\"font\":{\"size\":16},\"showarrow\":false,\"text\":\"oldpeak\",\"x\":0.225,\"xanchor\":\"center\",\"xref\":\"paper\",\"y\":1.0,\"yanchor\":\"bottom\",\"yref\":\"paper\"},{\"font\":{\"size\":16},\"showarrow\":false,\"text\":\"oldpeaklog\",\"x\":0.775,\"xanchor\":\"center\",\"xref\":\"paper\",\"y\":1.0,\"yanchor\":\"bottom\",\"yref\":\"paper\"}],\"title\":{\"text\":\"Transforming oldpeak\",\"x\":0.5}},                        {\"responsive\": true}                    )                };                            </script>        </div>\n",
       "</body>\n",
       "</html>"
      ]
     },
     "metadata": {
      "application/vnd.databricks.v1+output": {
       "addedWidgets": {},
       "arguments": {},
       "data": "<html>\n<head><meta charset=\"utf-8\" /></head>\n<body>\n    <div>            <script src=\"https://cdnjs.cloudflare.com/ajax/libs/mathjax/2.7.5/MathJax.js?config=TeX-AMS-MML_SVG\"></script><script type=\"text/javascript\">if (window.MathJax) {MathJax.Hub.Config({SVG: {font: \"STIX-Web\"}});}</script>                <script type=\"text/javascript\">window.PlotlyConfig = {MathJaxConfig: 'local'};</script>\n        <script src=\"https://cdn.plot.ly/plotly-2.9.0.min.js\"></script>                <div id=\"8e829a9c-b9d0-43f7-9422-a1fc22a29c8f\" class=\"plotly-graph-div\" style=\"height:100%; width:100%;\"></div>            <script type=\"text/javascript\">                                    window.PLOTLYENV=window.PLOTLYENV || {};                                    if (document.getElementById(\"8e829a9c-b9d0-43f7-9422-a1fc22a29c8f\")) {                    Plotly.newPlot(                        \"8e829a9c-b9d0-43f7-9422-a1fc22a29c8f\",                        [{\"name\":\"oldpeak\",\"x\":[2.3,3.5,1.4,0.8,0.6,0.4,1.3,0.0,0.5,1.6,1.2,0.2,0.6,1.8,1.0,1.6,0.0,2.6,1.5,1.8,0.5,0.4,0.0,1.0,1.4,0.4,1.6,0.6,0.8,1.2,0.0,0.4,0.0,0.5,1.4,1.4,0.0,1.6,0.8,0.8,1.5,0.2,3.0,0.4,0.0,0.2,0.0,0.0,0.0,0.0,0.5,0.4,1.8,0.6,0.0,0.8,0.0,0.0,0.0,0.0,0.0,0.0,0.0,0.0,0.0,1.4,1.2,0.6,0.0,0.0,0.4,0.0,0.0,0.0,0.2,1.4,2.4,0.0,0.0,0.6,0.0,0.0,0.0,1.2,0.6,1.6,1.0,0.0,1.6,1.0,0.0,0.0,0.0,0.0,0.0,0.0,1.2,0.1,1.9,0.0,0.8,4.2,0.0,0.8,0.0,1.5,0.1,0.2,1.1,0.0,0.0,0.2,0.2,0.0,0.0,0.0,2.0,1.9,0.0,0.0,2.0,0.0,0.0,0.0,0.0,0.7,0.1,0.0,0.1,0.2,0.0,0.0,0.0,0.0,0.0,0.0,0.0,0.0,1.5,0.2,0.6,1.2,0.0,0.3,1.1,0.0,0.3,0.9,0.0,0.0,2.3,1.6,0.6,0.0,0.0,0.6,0.0,0.0,0.4,0.0,0.0,1.2,0.0,0.0,0.0,1.5,2.6,3.6,1.4,3.1,0.6,1.0,1.8,3.2,2.4,2.0,1.4,0.0,2.5,0.6,1.2,1.0,0.0,2.5,2.6,0.0,1.4,2.2,0.6,0.0,1.2,2.2,1.4,2.8,3.0,3.4,3.6,0.2,1.8,0.6,0.0,2.8,0.8,1.6,6.2,0.0,1.2,2.6,2.0,0.0,0.4,3.6,1.2,1.0,1.2,3.0,1.2,1.8,2.8,0.0,4.0,5.6,1.4,4.0,2.8,2.6,1.4,1.6,0.2,1.8,0.0,1.0,0.8,2.2,2.4,1.6,0.0,1.2,0.0,0.0,2.9,0.0,2.0,1.2,2.1,0.5,1.9,0.0,0.0,2.0,4.2,0.1,1.9,0.9,0.0,0.0,3.0,0.9,1.4,3.8,1.0,0.0,2.0,1.8,0.0,0.1,3.4,0.8,3.2,1.6,0.8,2.6,1.0,0.1,1.0,1.0,2.0,0.3,0.0,3.6,1.8,1.0,2.2,0.0,1.9,1.8,0.8,0.0,3.0,2.0,0.0,4.4,2.8,0.8,2.8,4.0,0.0,1.0,0.2,1.2,3.4,1.2,0.0],\"type\":\"histogram\",\"xaxis\":\"x\",\"yaxis\":\"y\"},{\"name\":\"oldpeaklog\",\"x\":[1.1939224684724346,1.5040773967762742,0.8754687373538999,0.5877866649021191,0.4700036292457356,0.33647223662121284,0.832909122935104,0.0,0.4054651081081644,0.9555114450274365,0.7884573603642703,0.1823215567939546,0.4700036292457356,1.0296194171811581,0.6931471805599453,0.9555114450274365,0.0,1.2809338454620645,0.9162907318741551,1.0296194171811581,0.4054651081081644,0.33647223662121284,0.0,0.6931471805599453,0.8754687373538999,0.33647223662121284,0.9555114450274365,0.4700036292457356,0.5877866649021191,0.7884573603642703,0.0,0.33647223662121284,0.0,0.4054651081081644,0.8754687373538999,0.8754687373538999,0.0,0.9555114450274365,0.5877866649021191,0.5877866649021191,0.9162907318741551,0.1823215567939546,1.3862943611198906,0.33647223662121284,0.0,0.1823215567939546,0.0,0.0,0.0,0.0,0.4054651081081644,0.33647223662121284,1.0296194171811581,0.4700036292457356,0.0,0.5877866649021191,0.0,0.0,0.0,0.0,0.0,0.0,0.0,0.0,0.0,0.8754687373538999,0.7884573603642703,0.4700036292457356,0.0,0.0,0.33647223662121284,0.0,0.0,0.0,0.1823215567939546,0.8754687373538999,1.2237754316221157,0.0,0.0,0.4700036292457356,0.0,0.0,0.0,0.7884573603642703,0.4700036292457356,0.9555114450274365,0.6931471805599453,0.0,0.9555114450274365,0.6931471805599453,0.0,0.0,0.0,0.0,0.0,0.0,0.7884573603642703,0.09531017980432493,1.0647107369924282,0.0,0.5877866649021191,1.6486586255873816,0.0,0.5877866649021191,0.0,0.9162907318741551,0.09531017980432493,0.1823215567939546,0.7419373447293773,0.0,0.0,0.1823215567939546,0.1823215567939546,0.0,0.0,0.0,1.0986122886681096,1.0647107369924282,0.0,0.0,1.0986122886681096,0.0,0.0,0.0,0.0,0.5306282510621704,0.09531017980432493,0.0,0.09531017980432493,0.1823215567939546,0.0,0.0,0.0,0.0,0.0,0.0,0.0,0.0,0.9162907318741551,0.1823215567939546,0.4700036292457356,0.7884573603642703,0.0,0.26236426446749106,0.7419373447293773,0.0,0.26236426446749106,0.6418538861723947,0.0,0.0,1.1939224684724346,0.9555114450274365,0.4700036292457356,0.0,0.0,0.4700036292457356,0.0,0.0,0.33647223662121284,0.0,0.0,0.7884573603642703,0.0,0.0,0.0,0.9162907318741551,1.2809338454620645,1.5260563034950492,0.8754687373538999,1.410986973710262,0.4700036292457356,0.6931471805599453,1.0296194171811581,1.4350845252893227,1.2237754316221157,1.0986122886681096,0.8754687373538999,0.0,1.252762968495368,0.4700036292457356,0.7884573603642703,0.6931471805599453,0.0,1.252762968495368,1.2809338454620645,0.0,0.8754687373538999,1.1631508098056809,0.4700036292457356,0.0,0.7884573603642703,1.1631508098056809,0.8754687373538999,1.33500106673234,1.3862943611198906,1.4816045409242156,1.5260563034950492,0.1823215567939546,1.0296194171811581,0.4700036292457356,0.0,1.33500106673234,0.5877866649021191,0.9555114450274365,1.9740810260220096,0.0,0.7884573603642703,1.2809338454620645,1.0986122886681096,0.0,0.33647223662121284,1.5260563034950492,0.7884573603642703,0.6931471805599453,0.7884573603642703,1.3862943611198906,0.7884573603642703,1.0296194171811581,1.33500106673234,0.0,1.6094379124341003,1.8870696490323797,0.8754687373538999,1.6094379124341003,1.33500106673234,1.2809338454620645,0.8754687373538999,0.9555114450274365,0.1823215567939546,1.0296194171811581,0.0,0.6931471805599453,0.5877866649021191,1.1631508098056809,1.2237754316221157,0.9555114450274365,0.0,0.7884573603642703,0.0,0.0,1.3609765531356006,0.0,1.0986122886681096,0.7884573603642703,1.1314021114911006,0.4054651081081644,1.0647107369924282,0.0,0.0,1.0986122886681096,1.6486586255873816,0.09531017980432493,1.0647107369924282,0.6418538861723947,0.0,0.0,1.3862943611198906,0.6418538861723947,0.8754687373538999,1.5686159179138452,0.6931471805599453,0.0,1.0986122886681096,1.0296194171811581,0.0,0.09531017980432493,1.4816045409242156,0.5877866649021191,1.4350845252893227,0.9555114450274365,0.5877866649021191,1.2809338454620645,0.6931471805599453,0.09531017980432493,0.6931471805599453,0.6931471805599453,1.0986122886681096,0.26236426446749106,0.0,1.5260563034950492,1.0296194171811581,0.6931471805599453,1.1631508098056809,0.0,1.0647107369924282,1.0296194171811581,0.5877866649021191,0.0,1.3862943611198906,1.0986122886681096,0.0,1.6863989535702288,1.33500106673234,0.5877866649021191,1.33500106673234,1.6094379124341003,0.0,0.6931471805599453,0.1823215567939546,0.7884573603642703,1.4816045409242156,0.7884573603642703,0.0],\"type\":\"histogram\",\"xaxis\":\"x2\",\"yaxis\":\"y2\"}],                        {\"template\":{\"data\":{\"bar\":[{\"error_x\":{\"color\":\"#2a3f5f\"},\"error_y\":{\"color\":\"#2a3f5f\"},\"marker\":{\"line\":{\"color\":\"#E5ECF6\",\"width\":0.5},\"pattern\":{\"fillmode\":\"overlay\",\"size\":10,\"solidity\":0.2}},\"type\":\"bar\"}],\"barpolar\":[{\"marker\":{\"line\":{\"color\":\"#E5ECF6\",\"width\":0.5},\"pattern\":{\"fillmode\":\"overlay\",\"size\":10,\"solidity\":0.2}},\"type\":\"barpolar\"}],\"carpet\":[{\"aaxis\":{\"endlinecolor\":\"#2a3f5f\",\"gridcolor\":\"white\",\"linecolor\":\"white\",\"minorgridcolor\":\"white\",\"startlinecolor\":\"#2a3f5f\"},\"baxis\":{\"endlinecolor\":\"#2a3f5f\",\"gridcolor\":\"white\",\"linecolor\":\"white\",\"minorgridcolor\":\"white\",\"startlinecolor\":\"#2a3f5f\"},\"type\":\"carpet\"}],\"choropleth\":[{\"colorbar\":{\"outlinewidth\":0,\"ticks\":\"\"},\"type\":\"choropleth\"}],\"contour\":[{\"colorbar\":{\"outlinewidth\":0,\"ticks\":\"\"},\"colorscale\":[[0.0,\"#0d0887\"],[0.1111111111111111,\"#46039f\"],[0.2222222222222222,\"#7201a8\"],[0.3333333333333333,\"#9c179e\"],[0.4444444444444444,\"#bd3786\"],[0.5555555555555556,\"#d8576b\"],[0.6666666666666666,\"#ed7953\"],[0.7777777777777778,\"#fb9f3a\"],[0.8888888888888888,\"#fdca26\"],[1.0,\"#f0f921\"]],\"type\":\"contour\"}],\"contourcarpet\":[{\"colorbar\":{\"outlinewidth\":0,\"ticks\":\"\"},\"type\":\"contourcarpet\"}],\"heatmap\":[{\"colorbar\":{\"outlinewidth\":0,\"ticks\":\"\"},\"colorscale\":[[0.0,\"#0d0887\"],[0.1111111111111111,\"#46039f\"],[0.2222222222222222,\"#7201a8\"],[0.3333333333333333,\"#9c179e\"],[0.4444444444444444,\"#bd3786\"],[0.5555555555555556,\"#d8576b\"],[0.6666666666666666,\"#ed7953\"],[0.7777777777777778,\"#fb9f3a\"],[0.8888888888888888,\"#fdca26\"],[1.0,\"#f0f921\"]],\"type\":\"heatmap\"}],\"heatmapgl\":[{\"colorbar\":{\"outlinewidth\":0,\"ticks\":\"\"},\"colorscale\":[[0.0,\"#0d0887\"],[0.1111111111111111,\"#46039f\"],[0.2222222222222222,\"#7201a8\"],[0.3333333333333333,\"#9c179e\"],[0.4444444444444444,\"#bd3786\"],[0.5555555555555556,\"#d8576b\"],[0.6666666666666666,\"#ed7953\"],[0.7777777777777778,\"#fb9f3a\"],[0.8888888888888888,\"#fdca26\"],[1.0,\"#f0f921\"]],\"type\":\"heatmapgl\"}],\"histogram\":[{\"marker\":{\"pattern\":{\"fillmode\":\"overlay\",\"size\":10,\"solidity\":0.2}},\"type\":\"histogram\"}],\"histogram2d\":[{\"colorbar\":{\"outlinewidth\":0,\"ticks\":\"\"},\"colorscale\":[[0.0,\"#0d0887\"],[0.1111111111111111,\"#46039f\"],[0.2222222222222222,\"#7201a8\"],[0.3333333333333333,\"#9c179e\"],[0.4444444444444444,\"#bd3786\"],[0.5555555555555556,\"#d8576b\"],[0.6666666666666666,\"#ed7953\"],[0.7777777777777778,\"#fb9f3a\"],[0.8888888888888888,\"#fdca26\"],[1.0,\"#f0f921\"]],\"type\":\"histogram2d\"}],\"histogram2dcontour\":[{\"colorbar\":{\"outlinewidth\":0,\"ticks\":\"\"},\"colorscale\":[[0.0,\"#0d0887\"],[0.1111111111111111,\"#46039f\"],[0.2222222222222222,\"#7201a8\"],[0.3333333333333333,\"#9c179e\"],[0.4444444444444444,\"#bd3786\"],[0.5555555555555556,\"#d8576b\"],[0.6666666666666666,\"#ed7953\"],[0.7777777777777778,\"#fb9f3a\"],[0.8888888888888888,\"#fdca26\"],[1.0,\"#f0f921\"]],\"type\":\"histogram2dcontour\"}],\"mesh3d\":[{\"colorbar\":{\"outlinewidth\":0,\"ticks\":\"\"},\"type\":\"mesh3d\"}],\"parcoords\":[{\"line\":{\"colorbar\":{\"outlinewidth\":0,\"ticks\":\"\"}},\"type\":\"parcoords\"}],\"pie\":[{\"automargin\":true,\"type\":\"pie\"}],\"scatter\":[{\"marker\":{\"colorbar\":{\"outlinewidth\":0,\"ticks\":\"\"}},\"type\":\"scatter\"}],\"scatter3d\":[{\"line\":{\"colorbar\":{\"outlinewidth\":0,\"ticks\":\"\"}},\"marker\":{\"colorbar\":{\"outlinewidth\":0,\"ticks\":\"\"}},\"type\":\"scatter3d\"}],\"scattercarpet\":[{\"marker\":{\"colorbar\":{\"outlinewidth\":0,\"ticks\":\"\"}},\"type\":\"scattercarpet\"}],\"scattergeo\":[{\"marker\":{\"colorbar\":{\"outlinewidth\":0,\"ticks\":\"\"}},\"type\":\"scattergeo\"}],\"scattergl\":[{\"marker\":{\"colorbar\":{\"outlinewidth\":0,\"ticks\":\"\"}},\"type\":\"scattergl\"}],\"scattermapbox\":[{\"marker\":{\"colorbar\":{\"outlinewidth\":0,\"ticks\":\"\"}},\"type\":\"scattermapbox\"}],\"scatterpolar\":[{\"marker\":{\"colorbar\":{\"outlinewidth\":0,\"ticks\":\"\"}},\"type\":\"scatterpolar\"}],\"scatterpolargl\":[{\"marker\":{\"colorbar\":{\"outlinewidth\":0,\"ticks\":\"\"}},\"type\":\"scatterpolargl\"}],\"scatterternary\":[{\"marker\":{\"colorbar\":{\"outlinewidth\":0,\"ticks\":\"\"}},\"type\":\"scatterternary\"}],\"surface\":[{\"colorbar\":{\"outlinewidth\":0,\"ticks\":\"\"},\"colorscale\":[[0.0,\"#0d0887\"],[0.1111111111111111,\"#46039f\"],[0.2222222222222222,\"#7201a8\"],[0.3333333333333333,\"#9c179e\"],[0.4444444444444444,\"#bd3786\"],[0.5555555555555556,\"#d8576b\"],[0.6666666666666666,\"#ed7953\"],[0.7777777777777778,\"#fb9f3a\"],[0.8888888888888888,\"#fdca26\"],[1.0,\"#f0f921\"]],\"type\":\"surface\"}],\"table\":[{\"cells\":{\"fill\":{\"color\":\"#EBF0F8\"},\"line\":{\"color\":\"white\"}},\"header\":{\"fill\":{\"color\":\"#C8D4E3\"},\"line\":{\"color\":\"white\"}},\"type\":\"table\"}]},\"layout\":{\"annotationdefaults\":{\"arrowcolor\":\"#2a3f5f\",\"arrowhead\":0,\"arrowwidth\":1},\"autotypenumbers\":\"strict\",\"coloraxis\":{\"colorbar\":{\"outlinewidth\":0,\"ticks\":\"\"}},\"colorscale\":{\"diverging\":[[0,\"#8e0152\"],[0.1,\"#c51b7d\"],[0.2,\"#de77ae\"],[0.3,\"#f1b6da\"],[0.4,\"#fde0ef\"],[0.5,\"#f7f7f7\"],[0.6,\"#e6f5d0\"],[0.7,\"#b8e186\"],[0.8,\"#7fbc41\"],[0.9,\"#4d9221\"],[1,\"#276419\"]],\"sequential\":[[0.0,\"#0d0887\"],[0.1111111111111111,\"#46039f\"],[0.2222222222222222,\"#7201a8\"],[0.3333333333333333,\"#9c179e\"],[0.4444444444444444,\"#bd3786\"],[0.5555555555555556,\"#d8576b\"],[0.6666666666666666,\"#ed7953\"],[0.7777777777777778,\"#fb9f3a\"],[0.8888888888888888,\"#fdca26\"],[1.0,\"#f0f921\"]],\"sequentialminus\":[[0.0,\"#0d0887\"],[0.1111111111111111,\"#46039f\"],[0.2222222222222222,\"#7201a8\"],[0.3333333333333333,\"#9c179e\"],[0.4444444444444444,\"#bd3786\"],[0.5555555555555556,\"#d8576b\"],[0.6666666666666666,\"#ed7953\"],[0.7777777777777778,\"#fb9f3a\"],[0.8888888888888888,\"#fdca26\"],[1.0,\"#f0f921\"]]},\"colorway\":[\"#636efa\",\"#EF553B\",\"#00cc96\",\"#ab63fa\",\"#FFA15A\",\"#19d3f3\",\"#FF6692\",\"#B6E880\",\"#FF97FF\",\"#FECB52\"],\"font\":{\"color\":\"#2a3f5f\"},\"geo\":{\"bgcolor\":\"white\",\"lakecolor\":\"white\",\"landcolor\":\"#E5ECF6\",\"showlakes\":true,\"showland\":true,\"subunitcolor\":\"white\"},\"hoverlabel\":{\"align\":\"left\"},\"hovermode\":\"closest\",\"mapbox\":{\"style\":\"light\"},\"paper_bgcolor\":\"white\",\"plot_bgcolor\":\"#E5ECF6\",\"polar\":{\"angularaxis\":{\"gridcolor\":\"white\",\"linecolor\":\"white\",\"ticks\":\"\"},\"bgcolor\":\"#E5ECF6\",\"radialaxis\":{\"gridcolor\":\"white\",\"linecolor\":\"white\",\"ticks\":\"\"}},\"scene\":{\"xaxis\":{\"backgroundcolor\":\"#E5ECF6\",\"gridcolor\":\"white\",\"gridwidth\":2,\"linecolor\":\"white\",\"showbackground\":true,\"ticks\":\"\",\"zerolinecolor\":\"white\"},\"yaxis\":{\"backgroundcolor\":\"#E5ECF6\",\"gridcolor\":\"white\",\"gridwidth\":2,\"linecolor\":\"white\",\"showbackground\":true,\"ticks\":\"\",\"zerolinecolor\":\"white\"},\"zaxis\":{\"backgroundcolor\":\"#E5ECF6\",\"gridcolor\":\"white\",\"gridwidth\":2,\"linecolor\":\"white\",\"showbackground\":true,\"ticks\":\"\",\"zerolinecolor\":\"white\"}},\"shapedefaults\":{\"line\":{\"color\":\"#2a3f5f\"}},\"ternary\":{\"aaxis\":{\"gridcolor\":\"white\",\"linecolor\":\"white\",\"ticks\":\"\"},\"baxis\":{\"gridcolor\":\"white\",\"linecolor\":\"white\",\"ticks\":\"\"},\"bgcolor\":\"#E5ECF6\",\"caxis\":{\"gridcolor\":\"white\",\"linecolor\":\"white\",\"ticks\":\"\"}},\"title\":{\"x\":0.05},\"xaxis\":{\"automargin\":true,\"gridcolor\":\"white\",\"linecolor\":\"white\",\"ticks\":\"\",\"title\":{\"standoff\":15},\"zerolinecolor\":\"white\",\"zerolinewidth\":2},\"yaxis\":{\"automargin\":true,\"gridcolor\":\"white\",\"linecolor\":\"white\",\"ticks\":\"\",\"title\":{\"standoff\":15},\"zerolinecolor\":\"white\",\"zerolinewidth\":2}}},\"xaxis\":{\"anchor\":\"y\",\"domain\":[0.0,0.45]},\"yaxis\":{\"anchor\":\"x\",\"domain\":[0.0,1.0]},\"xaxis2\":{\"anchor\":\"y2\",\"domain\":[0.55,1.0]},\"yaxis2\":{\"anchor\":\"x2\",\"domain\":[0.0,1.0]},\"annotations\":[{\"font\":{\"size\":16},\"showarrow\":false,\"text\":\"oldpeak\",\"x\":0.225,\"xanchor\":\"center\",\"xref\":\"paper\",\"y\":1.0,\"yanchor\":\"bottom\",\"yref\":\"paper\"},{\"font\":{\"size\":16},\"showarrow\":false,\"text\":\"oldpeaklog\",\"x\":0.775,\"xanchor\":\"center\",\"xref\":\"paper\",\"y\":1.0,\"yanchor\":\"bottom\",\"yref\":\"paper\"}],\"title\":{\"text\":\"Transforming oldpeak\",\"x\":0.5}},                        {\"responsive\": true}                    )                };                            </script>        </div>\n</body>\n</html>",
       "datasetInfos": [],
       "metadata": {},
       "removedWidgets": [],
       "textData": null,
       "type": "htmlSandbox"
      }
     },
     "output_type": "display_data"
    }
   ],
   "source": [
    "df3 = df.withColumn('oldpeaklog', F.log(df['oldpeak'] + 1))\n",
    "df33 = df3.toPandas()\n",
    "fig = make_subplots(rows=1, cols=2, start_cell=\"top-left\",\n",
    "                    subplot_titles=['oldpeak', 'oldpeaklog'])\n",
    "fig.add_trace(go.Histogram(x=df33.oldpeak, name='oldpeak'),\n",
    "              row=1, col=1)\n",
    "fig.add_trace(go.Histogram(x=df33.oldpeaklog, name='oldpeaklog'),\n",
    "              row=1, col=2)\n",
    "fig.update_layout(title='Transforming oldpeak', title_x=0.5)  # Added the closing parenthesis here\n"
   ]
  },
  {
   "cell_type": "code",
   "execution_count": null,
   "metadata": {
    "application/vnd.databricks.v1+cell": {
     "cellMetadata": {
      "byteLimit": 2048000,
      "rowLimit": 10000
     },
     "inputWidgets": {},
     "nuid": "2ccd0a4d-ad1d-465c-8b29-83d35bcfe9a9",
     "showTitle": false,
     "title": ""
    }
   },
   "outputs": [
    {
     "data": {
      "text/html": [
       "<html>\n",
       "<head><meta charset=\"utf-8\" /></head>\n",
       "<body>\n",
       "    <div>            <script src=\"https://cdnjs.cloudflare.com/ajax/libs/mathjax/2.7.5/MathJax.js?config=TeX-AMS-MML_SVG\"></script><script type=\"text/javascript\">if (window.MathJax) {MathJax.Hub.Config({SVG: {font: \"STIX-Web\"}});}</script>                <script type=\"text/javascript\">window.PlotlyConfig = {MathJaxConfig: 'local'};</script>\n",
       "        <script src=\"https://cdn.plot.ly/plotly-2.9.0.min.js\"></script>                <div id=\"9a14b911-93e9-4971-b322-42be42944958\" class=\"plotly-graph-div\" style=\"height:100%; width:100%;\"></div>            <script type=\"text/javascript\">                                    window.PLOTLYENV=window.PLOTLYENV || {};                                    if (document.getElementById(\"9a14b911-93e9-4971-b322-42be42944958\")) {                    Plotly.newPlot(                        \"9a14b911-93e9-4971-b322-42be42944958\",                        [{\"text\":[[1.0,-0.1,-0.07,0.28,0.21,0.12,-0.12,-0.4,0.1,0.21,-0.17,0.28,0.07,-0.23,0.05,0.18,0.24],[-0.1,1.0,-0.05,-0.06,-0.2,0.05,-0.06,-0.04,0.14,0.1,-0.03,0.12,0.21,-0.28,0.05,0.2,0.1],[-0.07,-0.05,1.0,0.05,-0.08,0.09,0.04,0.3,-0.39,-0.15,0.12,-0.18,-0.16,0.43,0.02,-0.39,-0.13],[0.28,-0.06,0.05,1.0,0.12,0.18,-0.11,-0.05,0.07,0.19,-0.12,0.1,0.06,-0.14,0.01,0.11,0.17],[0.21,-0.2,-0.08,0.12,1.0,0.01,-0.15,-0.01,0.07,0.05,-0.0,0.07,0.1,-0.09,-0.08,0.02,0.07],[0.12,0.05,0.09,0.18,0.01,1.0,-0.08,-0.01,0.03,0.01,-0.06,0.14,-0.03,-0.03,0.03,0.01,0.02],[-0.12,-0.06,0.04,-0.11,-0.15,-0.08,1.0,0.04,-0.07,-0.06,0.09,-0.07,-0.01,0.14,0.04,0.0,-0.06],[-0.4,-0.04,0.3,-0.05,-0.01,-0.01,0.04,1.0,-0.38,-0.34,0.39,-0.21,-0.1,0.42,-0.01,-0.41,-0.39],[0.1,0.14,-0.39,0.07,0.07,0.03,-0.07,-0.38,1.0,0.29,-0.26,0.12,0.21,-0.44,-0.06,0.36,0.3],[0.21,0.1,-0.15,0.19,0.05,0.01,-0.06,-0.34,0.29,1.0,-0.58,0.22,0.21,-0.43,-0.01,0.29,0.97],[-0.17,-0.03,0.12,-0.12,-0.0,-0.06,0.09,0.39,-0.26,-0.58,1.0,-0.08,-0.1,0.35,0.01,-0.26,-0.59],[0.28,0.12,-0.18,0.1,0.07,0.14,-0.07,-0.21,0.12,0.22,-0.08,1.0,0.15,-0.39,0.01,0.37,0.2],[0.07,0.21,-0.16,0.06,0.1,-0.03,-0.01,-0.1,0.21,0.21,-0.1,0.15,1.0,-0.34,0.0,0.24,0.21],[-0.23,-0.28,0.43,-0.14,-0.09,-0.03,0.14,0.42,-0.44,-0.43,0.35,-0.39,-0.34,1.0,0.01,-0.83,-0.43],[0.05,0.05,0.02,0.01,-0.08,0.03,0.04,-0.01,-0.06,-0.01,0.01,0.01,0.0,0.01,1.0,-0.04,-0.0],[0.18,0.2,-0.39,0.11,0.02,0.01,0.0,-0.41,0.36,0.29,-0.26,0.37,0.24,-0.83,-0.04,1.0,0.27],[0.24,0.1,-0.13,0.17,0.07,0.02,-0.06,-0.39,0.3,0.97,-0.59,0.2,0.21,-0.43,-0.0,0.27,1.0]],\"texttemplate\":\"%{text}\",\"x\":[\"age\",\"sex\",\"cp\",\"trestbps\",\"chol\",\"fbs\",\"restecg\",\"thalach\",\"exang\",\"oldpeak\",\"slope\",\"ca\",\"thal\",\"target\",\"Race\",\"Totchg\",\"oldpeaklog\"],\"y\":[\"age\",\"sex\",\"cp\",\"trestbps\",\"chol\",\"fbs\",\"restecg\",\"thalach\",\"exang\",\"oldpeak\",\"slope\",\"ca\",\"thal\",\"target\",\"Race\",\"Totchg\",\"oldpeaklog\"],\"z\":[[1.0,-0.09844660247479375,-0.06865301584014537,0.27935090656128797,0.2136779565595619,0.1213076480933747,-0.11621089815852946,-0.3985219381210681,0.09680082645526811,0.21001256735867396,-0.16881423801209605,0.27632624401913936,0.06800137705465205,-0.22543871587483838,0.04797025420834567,0.17830459354787828,0.24124176360557215],[-0.09844660247479375,1.0,-0.04935287534698945,-0.0567688239696438,-0.19791217414110693,0.04503178919356035,-0.058196267703754766,-0.04401990776957467,0.14166381099150557,0.09609287706773899,-0.030710567303172596,0.11826141332036008,0.21004109563720721,-0.28093657550176676,0.04575523978028777,0.20335638496723177,0.09931091270683454],[-0.06865301584014537,-0.04935287534698945,1.0,0.04760776064464909,-0.07690439103320765,0.09444403499533138,0.0444205925101639,0.29576212458791074,-0.39428026849502185,-0.14923015809708104,0.11971658853470653,-0.18105302605349538,-0.16173557051002235,0.43379826150689443,0.01954112977021451,-0.388034355264307,-0.13360017001921473],[0.27935090656128797,-0.0567688239696438,0.04760776064464909,1.0,0.12317420653239047,0.1775305419344599,-0.11410278639187008,-0.04669772814795376,0.06761611953876327,0.19321647240953582,-0.12147458192644964,0.10138898530055088,0.062209887630861084,-0.14493112849775,0.006201972621020629,0.10671267139364995,0.17390062422317454],[0.2136779565595619,-0.19791217414110693,-0.07690439103320765,0.12317420653239047,1.0,0.013293602251671545,-0.15104007833751223,-0.009939838642698075,0.06702278257394262,0.05395191998699381,-0.004037770369683779,0.07051092522607601,0.09880299250014513,-0.08523910513756904,-0.0844988226658498,0.017117185031406013,0.06890923280304172],[0.1213076480933747,0.04503178919356035,0.09444403499533138,0.1775305419344599,0.013293602251671545,1.0,-0.0841890544310268,-0.008567107343486924,0.025665147202126176,0.005747223459644359,-0.05989417829041802,0.1379793270278513,-0.03201933931349756,-0.028045760272712952,0.03239988168957393,0.010876489065366349,0.019402350854417758],[-0.11621089815852946,-0.058196267703754766,0.0444205925101639,-0.11410278639187008,-0.15104007833751223,-0.0841890544310268,1.0,0.04412344408543699,-0.07073285587236658,-0.05877022631983708,0.0930448209744822,-0.07204243324693001,-0.011981404599806436,0.1372295028737732,0.036509893035247966,0.0016167319589749539,-0.061146216728571554],[-0.3985219381210681,-0.04401990776957467,0.29576212458791074,-0.04669772814795376,-0.009939838642698075,-0.008567107343486924,0.04412344408543699,1.0,-0.3788120938514863,-0.34418694796671606,0.38678440981481926,-0.21317692811538935,-0.09643913165982082,0.4217409338106742,-0.013143933982646518,-0.4085184972815253,-0.3874045304831502],[0.09680082645526811,0.14166381099150557,-0.39428026849502185,0.06761611953876327,0.06702278257394262,0.025665147202126176,-0.07073285587236658,-0.3788120938514863,1.0,0.28822280778276554,-0.25774836853016647,0.11573937807050606,0.20675378773953748,-0.43675708335330315,-0.06399529663924416,0.3627141657842328,0.2973616060121962],[0.21001256735867396,0.09609287706773899,-0.14923015809708104,0.19321647240953582,0.05395191998699381,0.005747223459644359,-0.05877022631983708,-0.34418694796671606,0.28822280778276554,1.0,-0.5775368167291409,0.22268232182782355,0.21024412598264872,-0.4306960016873686,-0.013424370624677816,0.287440746851043,0.9667295209142089],[-0.16881423801209605,-0.030710567303172596,0.11971658853470653,-0.12147458192644964,-0.004037770369683779,-0.05989417829041802,0.0930448209744822,0.38678440981481926,-0.25774836853016647,-0.5775368167291409,1.0,-0.0801552102146397,-0.1047637946214955,0.34587707824172464,0.005896696626290621,-0.25726806545694253,-0.5890637176651516],[0.27632624401913936,0.11826141332036008,-0.18105302605349538,0.10138898530055088,0.07051092522607601,0.1379793270278513,-0.07204243324693001,-0.21317692811538935,0.11573937807050606,0.22268232182782355,-0.0801552102146397,1.0,0.15183212548208916,-0.39172399235125244,0.014300358884383592,0.3743674142911953,0.20335483549878877],[0.06800137705465205,0.21004109563720721,-0.16173557051002235,0.062209887630861084,0.09880299250014513,-0.03201933931349756,-0.011981404599806436,-0.09643913165982082,0.20675378773953748,0.21024412598264872,-0.1047637946214955,0.15183212548208916,1.0,-0.34402926803830997,0.0036420987997742914,0.2370007515834132,0.21378994753797914],[-0.22543871587483838,-0.28093657550176676,0.43379826150689443,-0.14493112849775,-0.08523910513756904,-0.028045760272712952,0.1372295028737732,0.4217409338106742,-0.43675708335330315,-0.4306960016873686,0.34587707824172464,-0.39172399235125244,-0.34402926803830997,1.0,0.012876776717960491,-0.8327589953871476,-0.4320920891072423],[0.04797025420834567,0.04575523978028777,0.01954112977021451,0.006201972621020629,-0.0844988226658498,0.03239988168957393,0.036509893035247966,-0.013143933982646518,-0.06399529663924416,-0.013424370624677816,0.005896696626290621,0.014300358884383592,0.0036420987997742914,0.012876776717960491,1.0,-0.0355868470834564,-0.0046500134568547855],[0.17830459354787828,0.20335638496723177,-0.388034355264307,0.10671267139364995,0.017117185031406013,0.010876489065366349,0.0016167319589749539,-0.4085184972815253,0.3627141657842328,0.287440746851043,-0.25726806545694253,0.3743674142911953,0.2370007515834132,-0.8327589953871476,-0.0355868470834564,1.0,0.27153222009779737],[0.24124176360557215,0.09931091270683454,-0.13360017001921473,0.17390062422317454,0.06890923280304172,0.019402350854417758,-0.061146216728571554,-0.3874045304831502,0.2973616060121962,0.9667295209142089,-0.5890637176651516,0.20335483549878877,0.21378994753797914,-0.4320920891072423,-0.0046500134568547855,0.27153222009779737,1.0]],\"type\":\"heatmap\"}],                        {\"template\":{\"data\":{\"bar\":[{\"error_x\":{\"color\":\"#2a3f5f\"},\"error_y\":{\"color\":\"#2a3f5f\"},\"marker\":{\"line\":{\"color\":\"#E5ECF6\",\"width\":0.5},\"pattern\":{\"fillmode\":\"overlay\",\"size\":10,\"solidity\":0.2}},\"type\":\"bar\"}],\"barpolar\":[{\"marker\":{\"line\":{\"color\":\"#E5ECF6\",\"width\":0.5},\"pattern\":{\"fillmode\":\"overlay\",\"size\":10,\"solidity\":0.2}},\"type\":\"barpolar\"}],\"carpet\":[{\"aaxis\":{\"endlinecolor\":\"#2a3f5f\",\"gridcolor\":\"white\",\"linecolor\":\"white\",\"minorgridcolor\":\"white\",\"startlinecolor\":\"#2a3f5f\"},\"baxis\":{\"endlinecolor\":\"#2a3f5f\",\"gridcolor\":\"white\",\"linecolor\":\"white\",\"minorgridcolor\":\"white\",\"startlinecolor\":\"#2a3f5f\"},\"type\":\"carpet\"}],\"choropleth\":[{\"colorbar\":{\"outlinewidth\":0,\"ticks\":\"\"},\"type\":\"choropleth\"}],\"contour\":[{\"colorbar\":{\"outlinewidth\":0,\"ticks\":\"\"},\"colorscale\":[[0.0,\"#0d0887\"],[0.1111111111111111,\"#46039f\"],[0.2222222222222222,\"#7201a8\"],[0.3333333333333333,\"#9c179e\"],[0.4444444444444444,\"#bd3786\"],[0.5555555555555556,\"#d8576b\"],[0.6666666666666666,\"#ed7953\"],[0.7777777777777778,\"#fb9f3a\"],[0.8888888888888888,\"#fdca26\"],[1.0,\"#f0f921\"]],\"type\":\"contour\"}],\"contourcarpet\":[{\"colorbar\":{\"outlinewidth\":0,\"ticks\":\"\"},\"type\":\"contourcarpet\"}],\"heatmap\":[{\"colorbar\":{\"outlinewidth\":0,\"ticks\":\"\"},\"colorscale\":[[0.0,\"#0d0887\"],[0.1111111111111111,\"#46039f\"],[0.2222222222222222,\"#7201a8\"],[0.3333333333333333,\"#9c179e\"],[0.4444444444444444,\"#bd3786\"],[0.5555555555555556,\"#d8576b\"],[0.6666666666666666,\"#ed7953\"],[0.7777777777777778,\"#fb9f3a\"],[0.8888888888888888,\"#fdca26\"],[1.0,\"#f0f921\"]],\"type\":\"heatmap\"}],\"heatmapgl\":[{\"colorbar\":{\"outlinewidth\":0,\"ticks\":\"\"},\"colorscale\":[[0.0,\"#0d0887\"],[0.1111111111111111,\"#46039f\"],[0.2222222222222222,\"#7201a8\"],[0.3333333333333333,\"#9c179e\"],[0.4444444444444444,\"#bd3786\"],[0.5555555555555556,\"#d8576b\"],[0.6666666666666666,\"#ed7953\"],[0.7777777777777778,\"#fb9f3a\"],[0.8888888888888888,\"#fdca26\"],[1.0,\"#f0f921\"]],\"type\":\"heatmapgl\"}],\"histogram\":[{\"marker\":{\"pattern\":{\"fillmode\":\"overlay\",\"size\":10,\"solidity\":0.2}},\"type\":\"histogram\"}],\"histogram2d\":[{\"colorbar\":{\"outlinewidth\":0,\"ticks\":\"\"},\"colorscale\":[[0.0,\"#0d0887\"],[0.1111111111111111,\"#46039f\"],[0.2222222222222222,\"#7201a8\"],[0.3333333333333333,\"#9c179e\"],[0.4444444444444444,\"#bd3786\"],[0.5555555555555556,\"#d8576b\"],[0.6666666666666666,\"#ed7953\"],[0.7777777777777778,\"#fb9f3a\"],[0.8888888888888888,\"#fdca26\"],[1.0,\"#f0f921\"]],\"type\":\"histogram2d\"}],\"histogram2dcontour\":[{\"colorbar\":{\"outlinewidth\":0,\"ticks\":\"\"},\"colorscale\":[[0.0,\"#0d0887\"],[0.1111111111111111,\"#46039f\"],[0.2222222222222222,\"#7201a8\"],[0.3333333333333333,\"#9c179e\"],[0.4444444444444444,\"#bd3786\"],[0.5555555555555556,\"#d8576b\"],[0.6666666666666666,\"#ed7953\"],[0.7777777777777778,\"#fb9f3a\"],[0.8888888888888888,\"#fdca26\"],[1.0,\"#f0f921\"]],\"type\":\"histogram2dcontour\"}],\"mesh3d\":[{\"colorbar\":{\"outlinewidth\":0,\"ticks\":\"\"},\"type\":\"mesh3d\"}],\"parcoords\":[{\"line\":{\"colorbar\":{\"outlinewidth\":0,\"ticks\":\"\"}},\"type\":\"parcoords\"}],\"pie\":[{\"automargin\":true,\"type\":\"pie\"}],\"scatter\":[{\"marker\":{\"colorbar\":{\"outlinewidth\":0,\"ticks\":\"\"}},\"type\":\"scatter\"}],\"scatter3d\":[{\"line\":{\"colorbar\":{\"outlinewidth\":0,\"ticks\":\"\"}},\"marker\":{\"colorbar\":{\"outlinewidth\":0,\"ticks\":\"\"}},\"type\":\"scatter3d\"}],\"scattercarpet\":[{\"marker\":{\"colorbar\":{\"outlinewidth\":0,\"ticks\":\"\"}},\"type\":\"scattercarpet\"}],\"scattergeo\":[{\"marker\":{\"colorbar\":{\"outlinewidth\":0,\"ticks\":\"\"}},\"type\":\"scattergeo\"}],\"scattergl\":[{\"marker\":{\"colorbar\":{\"outlinewidth\":0,\"ticks\":\"\"}},\"type\":\"scattergl\"}],\"scattermapbox\":[{\"marker\":{\"colorbar\":{\"outlinewidth\":0,\"ticks\":\"\"}},\"type\":\"scattermapbox\"}],\"scatterpolar\":[{\"marker\":{\"colorbar\":{\"outlinewidth\":0,\"ticks\":\"\"}},\"type\":\"scatterpolar\"}],\"scatterpolargl\":[{\"marker\":{\"colorbar\":{\"outlinewidth\":0,\"ticks\":\"\"}},\"type\":\"scatterpolargl\"}],\"scatterternary\":[{\"marker\":{\"colorbar\":{\"outlinewidth\":0,\"ticks\":\"\"}},\"type\":\"scatterternary\"}],\"surface\":[{\"colorbar\":{\"outlinewidth\":0,\"ticks\":\"\"},\"colorscale\":[[0.0,\"#0d0887\"],[0.1111111111111111,\"#46039f\"],[0.2222222222222222,\"#7201a8\"],[0.3333333333333333,\"#9c179e\"],[0.4444444444444444,\"#bd3786\"],[0.5555555555555556,\"#d8576b\"],[0.6666666666666666,\"#ed7953\"],[0.7777777777777778,\"#fb9f3a\"],[0.8888888888888888,\"#fdca26\"],[1.0,\"#f0f921\"]],\"type\":\"surface\"}],\"table\":[{\"cells\":{\"fill\":{\"color\":\"#EBF0F8\"},\"line\":{\"color\":\"white\"}},\"header\":{\"fill\":{\"color\":\"#C8D4E3\"},\"line\":{\"color\":\"white\"}},\"type\":\"table\"}]},\"layout\":{\"annotationdefaults\":{\"arrowcolor\":\"#2a3f5f\",\"arrowhead\":0,\"arrowwidth\":1},\"autotypenumbers\":\"strict\",\"coloraxis\":{\"colorbar\":{\"outlinewidth\":0,\"ticks\":\"\"}},\"colorscale\":{\"diverging\":[[0,\"#8e0152\"],[0.1,\"#c51b7d\"],[0.2,\"#de77ae\"],[0.3,\"#f1b6da\"],[0.4,\"#fde0ef\"],[0.5,\"#f7f7f7\"],[0.6,\"#e6f5d0\"],[0.7,\"#b8e186\"],[0.8,\"#7fbc41\"],[0.9,\"#4d9221\"],[1,\"#276419\"]],\"sequential\":[[0.0,\"#0d0887\"],[0.1111111111111111,\"#46039f\"],[0.2222222222222222,\"#7201a8\"],[0.3333333333333333,\"#9c179e\"],[0.4444444444444444,\"#bd3786\"],[0.5555555555555556,\"#d8576b\"],[0.6666666666666666,\"#ed7953\"],[0.7777777777777778,\"#fb9f3a\"],[0.8888888888888888,\"#fdca26\"],[1.0,\"#f0f921\"]],\"sequentialminus\":[[0.0,\"#0d0887\"],[0.1111111111111111,\"#46039f\"],[0.2222222222222222,\"#7201a8\"],[0.3333333333333333,\"#9c179e\"],[0.4444444444444444,\"#bd3786\"],[0.5555555555555556,\"#d8576b\"],[0.6666666666666666,\"#ed7953\"],[0.7777777777777778,\"#fb9f3a\"],[0.8888888888888888,\"#fdca26\"],[1.0,\"#f0f921\"]]},\"colorway\":[\"#636efa\",\"#EF553B\",\"#00cc96\",\"#ab63fa\",\"#FFA15A\",\"#19d3f3\",\"#FF6692\",\"#B6E880\",\"#FF97FF\",\"#FECB52\"],\"font\":{\"color\":\"#2a3f5f\"},\"geo\":{\"bgcolor\":\"white\",\"lakecolor\":\"white\",\"landcolor\":\"#E5ECF6\",\"showlakes\":true,\"showland\":true,\"subunitcolor\":\"white\"},\"hoverlabel\":{\"align\":\"left\"},\"hovermode\":\"closest\",\"mapbox\":{\"style\":\"light\"},\"paper_bgcolor\":\"white\",\"plot_bgcolor\":\"#E5ECF6\",\"polar\":{\"angularaxis\":{\"gridcolor\":\"white\",\"linecolor\":\"white\",\"ticks\":\"\"},\"bgcolor\":\"#E5ECF6\",\"radialaxis\":{\"gridcolor\":\"white\",\"linecolor\":\"white\",\"ticks\":\"\"}},\"scene\":{\"xaxis\":{\"backgroundcolor\":\"#E5ECF6\",\"gridcolor\":\"white\",\"gridwidth\":2,\"linecolor\":\"white\",\"showbackground\":true,\"ticks\":\"\",\"zerolinecolor\":\"white\"},\"yaxis\":{\"backgroundcolor\":\"#E5ECF6\",\"gridcolor\":\"white\",\"gridwidth\":2,\"linecolor\":\"white\",\"showbackground\":true,\"ticks\":\"\",\"zerolinecolor\":\"white\"},\"zaxis\":{\"backgroundcolor\":\"#E5ECF6\",\"gridcolor\":\"white\",\"gridwidth\":2,\"linecolor\":\"white\",\"showbackground\":true,\"ticks\":\"\",\"zerolinecolor\":\"white\"}},\"shapedefaults\":{\"line\":{\"color\":\"#2a3f5f\"}},\"ternary\":{\"aaxis\":{\"gridcolor\":\"white\",\"linecolor\":\"white\",\"ticks\":\"\"},\"baxis\":{\"gridcolor\":\"white\",\"linecolor\":\"white\",\"ticks\":\"\"},\"bgcolor\":\"#E5ECF6\",\"caxis\":{\"gridcolor\":\"white\",\"linecolor\":\"white\",\"ticks\":\"\"}},\"title\":{\"x\":0.05},\"xaxis\":{\"automargin\":true,\"gridcolor\":\"white\",\"linecolor\":\"white\",\"ticks\":\"\",\"title\":{\"standoff\":15},\"zerolinecolor\":\"white\",\"zerolinewidth\":2},\"yaxis\":{\"automargin\":true,\"gridcolor\":\"white\",\"linecolor\":\"white\",\"ticks\":\"\",\"title\":{\"standoff\":15},\"zerolinecolor\":\"white\",\"zerolinewidth\":2}}},\"title\":{\"font\":{\"size\":20},\"text\":\"Correlation Matrix Heatmap\",\"x\":0.5}},                        {\"responsive\": true}                    )                };                            </script>        </div>\n",
       "</body>\n",
       "</html>"
      ]
     },
     "metadata": {
      "application/vnd.databricks.v1+output": {
       "addedWidgets": {},
       "arguments": {},
       "data": "<html>\n<head><meta charset=\"utf-8\" /></head>\n<body>\n    <div>            <script src=\"https://cdnjs.cloudflare.com/ajax/libs/mathjax/2.7.5/MathJax.js?config=TeX-AMS-MML_SVG\"></script><script type=\"text/javascript\">if (window.MathJax) {MathJax.Hub.Config({SVG: {font: \"STIX-Web\"}});}</script>                <script type=\"text/javascript\">window.PlotlyConfig = {MathJaxConfig: 'local'};</script>\n        <script src=\"https://cdn.plot.ly/plotly-2.9.0.min.js\"></script>                <div id=\"9a14b911-93e9-4971-b322-42be42944958\" class=\"plotly-graph-div\" style=\"height:100%; width:100%;\"></div>            <script type=\"text/javascript\">                                    window.PLOTLYENV=window.PLOTLYENV || {};                                    if (document.getElementById(\"9a14b911-93e9-4971-b322-42be42944958\")) {                    Plotly.newPlot(                        \"9a14b911-93e9-4971-b322-42be42944958\",                        [{\"text\":[[1.0,-0.1,-0.07,0.28,0.21,0.12,-0.12,-0.4,0.1,0.21,-0.17,0.28,0.07,-0.23,0.05,0.18,0.24],[-0.1,1.0,-0.05,-0.06,-0.2,0.05,-0.06,-0.04,0.14,0.1,-0.03,0.12,0.21,-0.28,0.05,0.2,0.1],[-0.07,-0.05,1.0,0.05,-0.08,0.09,0.04,0.3,-0.39,-0.15,0.12,-0.18,-0.16,0.43,0.02,-0.39,-0.13],[0.28,-0.06,0.05,1.0,0.12,0.18,-0.11,-0.05,0.07,0.19,-0.12,0.1,0.06,-0.14,0.01,0.11,0.17],[0.21,-0.2,-0.08,0.12,1.0,0.01,-0.15,-0.01,0.07,0.05,-0.0,0.07,0.1,-0.09,-0.08,0.02,0.07],[0.12,0.05,0.09,0.18,0.01,1.0,-0.08,-0.01,0.03,0.01,-0.06,0.14,-0.03,-0.03,0.03,0.01,0.02],[-0.12,-0.06,0.04,-0.11,-0.15,-0.08,1.0,0.04,-0.07,-0.06,0.09,-0.07,-0.01,0.14,0.04,0.0,-0.06],[-0.4,-0.04,0.3,-0.05,-0.01,-0.01,0.04,1.0,-0.38,-0.34,0.39,-0.21,-0.1,0.42,-0.01,-0.41,-0.39],[0.1,0.14,-0.39,0.07,0.07,0.03,-0.07,-0.38,1.0,0.29,-0.26,0.12,0.21,-0.44,-0.06,0.36,0.3],[0.21,0.1,-0.15,0.19,0.05,0.01,-0.06,-0.34,0.29,1.0,-0.58,0.22,0.21,-0.43,-0.01,0.29,0.97],[-0.17,-0.03,0.12,-0.12,-0.0,-0.06,0.09,0.39,-0.26,-0.58,1.0,-0.08,-0.1,0.35,0.01,-0.26,-0.59],[0.28,0.12,-0.18,0.1,0.07,0.14,-0.07,-0.21,0.12,0.22,-0.08,1.0,0.15,-0.39,0.01,0.37,0.2],[0.07,0.21,-0.16,0.06,0.1,-0.03,-0.01,-0.1,0.21,0.21,-0.1,0.15,1.0,-0.34,0.0,0.24,0.21],[-0.23,-0.28,0.43,-0.14,-0.09,-0.03,0.14,0.42,-0.44,-0.43,0.35,-0.39,-0.34,1.0,0.01,-0.83,-0.43],[0.05,0.05,0.02,0.01,-0.08,0.03,0.04,-0.01,-0.06,-0.01,0.01,0.01,0.0,0.01,1.0,-0.04,-0.0],[0.18,0.2,-0.39,0.11,0.02,0.01,0.0,-0.41,0.36,0.29,-0.26,0.37,0.24,-0.83,-0.04,1.0,0.27],[0.24,0.1,-0.13,0.17,0.07,0.02,-0.06,-0.39,0.3,0.97,-0.59,0.2,0.21,-0.43,-0.0,0.27,1.0]],\"texttemplate\":\"%{text}\",\"x\":[\"age\",\"sex\",\"cp\",\"trestbps\",\"chol\",\"fbs\",\"restecg\",\"thalach\",\"exang\",\"oldpeak\",\"slope\",\"ca\",\"thal\",\"target\",\"Race\",\"Totchg\",\"oldpeaklog\"],\"y\":[\"age\",\"sex\",\"cp\",\"trestbps\",\"chol\",\"fbs\",\"restecg\",\"thalach\",\"exang\",\"oldpeak\",\"slope\",\"ca\",\"thal\",\"target\",\"Race\",\"Totchg\",\"oldpeaklog\"],\"z\":[[1.0,-0.09844660247479375,-0.06865301584014537,0.27935090656128797,0.2136779565595619,0.1213076480933747,-0.11621089815852946,-0.3985219381210681,0.09680082645526811,0.21001256735867396,-0.16881423801209605,0.27632624401913936,0.06800137705465205,-0.22543871587483838,0.04797025420834567,0.17830459354787828,0.24124176360557215],[-0.09844660247479375,1.0,-0.04935287534698945,-0.0567688239696438,-0.19791217414110693,0.04503178919356035,-0.058196267703754766,-0.04401990776957467,0.14166381099150557,0.09609287706773899,-0.030710567303172596,0.11826141332036008,0.21004109563720721,-0.28093657550176676,0.04575523978028777,0.20335638496723177,0.09931091270683454],[-0.06865301584014537,-0.04935287534698945,1.0,0.04760776064464909,-0.07690439103320765,0.09444403499533138,0.0444205925101639,0.29576212458791074,-0.39428026849502185,-0.14923015809708104,0.11971658853470653,-0.18105302605349538,-0.16173557051002235,0.43379826150689443,0.01954112977021451,-0.388034355264307,-0.13360017001921473],[0.27935090656128797,-0.0567688239696438,0.04760776064464909,1.0,0.12317420653239047,0.1775305419344599,-0.11410278639187008,-0.04669772814795376,0.06761611953876327,0.19321647240953582,-0.12147458192644964,0.10138898530055088,0.062209887630861084,-0.14493112849775,0.006201972621020629,0.10671267139364995,0.17390062422317454],[0.2136779565595619,-0.19791217414110693,-0.07690439103320765,0.12317420653239047,1.0,0.013293602251671545,-0.15104007833751223,-0.009939838642698075,0.06702278257394262,0.05395191998699381,-0.004037770369683779,0.07051092522607601,0.09880299250014513,-0.08523910513756904,-0.0844988226658498,0.017117185031406013,0.06890923280304172],[0.1213076480933747,0.04503178919356035,0.09444403499533138,0.1775305419344599,0.013293602251671545,1.0,-0.0841890544310268,-0.008567107343486924,0.025665147202126176,0.005747223459644359,-0.05989417829041802,0.1379793270278513,-0.03201933931349756,-0.028045760272712952,0.03239988168957393,0.010876489065366349,0.019402350854417758],[-0.11621089815852946,-0.058196267703754766,0.0444205925101639,-0.11410278639187008,-0.15104007833751223,-0.0841890544310268,1.0,0.04412344408543699,-0.07073285587236658,-0.05877022631983708,0.0930448209744822,-0.07204243324693001,-0.011981404599806436,0.1372295028737732,0.036509893035247966,0.0016167319589749539,-0.061146216728571554],[-0.3985219381210681,-0.04401990776957467,0.29576212458791074,-0.04669772814795376,-0.009939838642698075,-0.008567107343486924,0.04412344408543699,1.0,-0.3788120938514863,-0.34418694796671606,0.38678440981481926,-0.21317692811538935,-0.09643913165982082,0.4217409338106742,-0.013143933982646518,-0.4085184972815253,-0.3874045304831502],[0.09680082645526811,0.14166381099150557,-0.39428026849502185,0.06761611953876327,0.06702278257394262,0.025665147202126176,-0.07073285587236658,-0.3788120938514863,1.0,0.28822280778276554,-0.25774836853016647,0.11573937807050606,0.20675378773953748,-0.43675708335330315,-0.06399529663924416,0.3627141657842328,0.2973616060121962],[0.21001256735867396,0.09609287706773899,-0.14923015809708104,0.19321647240953582,0.05395191998699381,0.005747223459644359,-0.05877022631983708,-0.34418694796671606,0.28822280778276554,1.0,-0.5775368167291409,0.22268232182782355,0.21024412598264872,-0.4306960016873686,-0.013424370624677816,0.287440746851043,0.9667295209142089],[-0.16881423801209605,-0.030710567303172596,0.11971658853470653,-0.12147458192644964,-0.004037770369683779,-0.05989417829041802,0.0930448209744822,0.38678440981481926,-0.25774836853016647,-0.5775368167291409,1.0,-0.0801552102146397,-0.1047637946214955,0.34587707824172464,0.005896696626290621,-0.25726806545694253,-0.5890637176651516],[0.27632624401913936,0.11826141332036008,-0.18105302605349538,0.10138898530055088,0.07051092522607601,0.1379793270278513,-0.07204243324693001,-0.21317692811538935,0.11573937807050606,0.22268232182782355,-0.0801552102146397,1.0,0.15183212548208916,-0.39172399235125244,0.014300358884383592,0.3743674142911953,0.20335483549878877],[0.06800137705465205,0.21004109563720721,-0.16173557051002235,0.062209887630861084,0.09880299250014513,-0.03201933931349756,-0.011981404599806436,-0.09643913165982082,0.20675378773953748,0.21024412598264872,-0.1047637946214955,0.15183212548208916,1.0,-0.34402926803830997,0.0036420987997742914,0.2370007515834132,0.21378994753797914],[-0.22543871587483838,-0.28093657550176676,0.43379826150689443,-0.14493112849775,-0.08523910513756904,-0.028045760272712952,0.1372295028737732,0.4217409338106742,-0.43675708335330315,-0.4306960016873686,0.34587707824172464,-0.39172399235125244,-0.34402926803830997,1.0,0.012876776717960491,-0.8327589953871476,-0.4320920891072423],[0.04797025420834567,0.04575523978028777,0.01954112977021451,0.006201972621020629,-0.0844988226658498,0.03239988168957393,0.036509893035247966,-0.013143933982646518,-0.06399529663924416,-0.013424370624677816,0.005896696626290621,0.014300358884383592,0.0036420987997742914,0.012876776717960491,1.0,-0.0355868470834564,-0.0046500134568547855],[0.17830459354787828,0.20335638496723177,-0.388034355264307,0.10671267139364995,0.017117185031406013,0.010876489065366349,0.0016167319589749539,-0.4085184972815253,0.3627141657842328,0.287440746851043,-0.25726806545694253,0.3743674142911953,0.2370007515834132,-0.8327589953871476,-0.0355868470834564,1.0,0.27153222009779737],[0.24124176360557215,0.09931091270683454,-0.13360017001921473,0.17390062422317454,0.06890923280304172,0.019402350854417758,-0.061146216728571554,-0.3874045304831502,0.2973616060121962,0.9667295209142089,-0.5890637176651516,0.20335483549878877,0.21378994753797914,-0.4320920891072423,-0.0046500134568547855,0.27153222009779737,1.0]],\"type\":\"heatmap\"}],                        {\"template\":{\"data\":{\"bar\":[{\"error_x\":{\"color\":\"#2a3f5f\"},\"error_y\":{\"color\":\"#2a3f5f\"},\"marker\":{\"line\":{\"color\":\"#E5ECF6\",\"width\":0.5},\"pattern\":{\"fillmode\":\"overlay\",\"size\":10,\"solidity\":0.2}},\"type\":\"bar\"}],\"barpolar\":[{\"marker\":{\"line\":{\"color\":\"#E5ECF6\",\"width\":0.5},\"pattern\":{\"fillmode\":\"overlay\",\"size\":10,\"solidity\":0.2}},\"type\":\"barpolar\"}],\"carpet\":[{\"aaxis\":{\"endlinecolor\":\"#2a3f5f\",\"gridcolor\":\"white\",\"linecolor\":\"white\",\"minorgridcolor\":\"white\",\"startlinecolor\":\"#2a3f5f\"},\"baxis\":{\"endlinecolor\":\"#2a3f5f\",\"gridcolor\":\"white\",\"linecolor\":\"white\",\"minorgridcolor\":\"white\",\"startlinecolor\":\"#2a3f5f\"},\"type\":\"carpet\"}],\"choropleth\":[{\"colorbar\":{\"outlinewidth\":0,\"ticks\":\"\"},\"type\":\"choropleth\"}],\"contour\":[{\"colorbar\":{\"outlinewidth\":0,\"ticks\":\"\"},\"colorscale\":[[0.0,\"#0d0887\"],[0.1111111111111111,\"#46039f\"],[0.2222222222222222,\"#7201a8\"],[0.3333333333333333,\"#9c179e\"],[0.4444444444444444,\"#bd3786\"],[0.5555555555555556,\"#d8576b\"],[0.6666666666666666,\"#ed7953\"],[0.7777777777777778,\"#fb9f3a\"],[0.8888888888888888,\"#fdca26\"],[1.0,\"#f0f921\"]],\"type\":\"contour\"}],\"contourcarpet\":[{\"colorbar\":{\"outlinewidth\":0,\"ticks\":\"\"},\"type\":\"contourcarpet\"}],\"heatmap\":[{\"colorbar\":{\"outlinewidth\":0,\"ticks\":\"\"},\"colorscale\":[[0.0,\"#0d0887\"],[0.1111111111111111,\"#46039f\"],[0.2222222222222222,\"#7201a8\"],[0.3333333333333333,\"#9c179e\"],[0.4444444444444444,\"#bd3786\"],[0.5555555555555556,\"#d8576b\"],[0.6666666666666666,\"#ed7953\"],[0.7777777777777778,\"#fb9f3a\"],[0.8888888888888888,\"#fdca26\"],[1.0,\"#f0f921\"]],\"type\":\"heatmap\"}],\"heatmapgl\":[{\"colorbar\":{\"outlinewidth\":0,\"ticks\":\"\"},\"colorscale\":[[0.0,\"#0d0887\"],[0.1111111111111111,\"#46039f\"],[0.2222222222222222,\"#7201a8\"],[0.3333333333333333,\"#9c179e\"],[0.4444444444444444,\"#bd3786\"],[0.5555555555555556,\"#d8576b\"],[0.6666666666666666,\"#ed7953\"],[0.7777777777777778,\"#fb9f3a\"],[0.8888888888888888,\"#fdca26\"],[1.0,\"#f0f921\"]],\"type\":\"heatmapgl\"}],\"histogram\":[{\"marker\":{\"pattern\":{\"fillmode\":\"overlay\",\"size\":10,\"solidity\":0.2}},\"type\":\"histogram\"}],\"histogram2d\":[{\"colorbar\":{\"outlinewidth\":0,\"ticks\":\"\"},\"colorscale\":[[0.0,\"#0d0887\"],[0.1111111111111111,\"#46039f\"],[0.2222222222222222,\"#7201a8\"],[0.3333333333333333,\"#9c179e\"],[0.4444444444444444,\"#bd3786\"],[0.5555555555555556,\"#d8576b\"],[0.6666666666666666,\"#ed7953\"],[0.7777777777777778,\"#fb9f3a\"],[0.8888888888888888,\"#fdca26\"],[1.0,\"#f0f921\"]],\"type\":\"histogram2d\"}],\"histogram2dcontour\":[{\"colorbar\":{\"outlinewidth\":0,\"ticks\":\"\"},\"colorscale\":[[0.0,\"#0d0887\"],[0.1111111111111111,\"#46039f\"],[0.2222222222222222,\"#7201a8\"],[0.3333333333333333,\"#9c179e\"],[0.4444444444444444,\"#bd3786\"],[0.5555555555555556,\"#d8576b\"],[0.6666666666666666,\"#ed7953\"],[0.7777777777777778,\"#fb9f3a\"],[0.8888888888888888,\"#fdca26\"],[1.0,\"#f0f921\"]],\"type\":\"histogram2dcontour\"}],\"mesh3d\":[{\"colorbar\":{\"outlinewidth\":0,\"ticks\":\"\"},\"type\":\"mesh3d\"}],\"parcoords\":[{\"line\":{\"colorbar\":{\"outlinewidth\":0,\"ticks\":\"\"}},\"type\":\"parcoords\"}],\"pie\":[{\"automargin\":true,\"type\":\"pie\"}],\"scatter\":[{\"marker\":{\"colorbar\":{\"outlinewidth\":0,\"ticks\":\"\"}},\"type\":\"scatter\"}],\"scatter3d\":[{\"line\":{\"colorbar\":{\"outlinewidth\":0,\"ticks\":\"\"}},\"marker\":{\"colorbar\":{\"outlinewidth\":0,\"ticks\":\"\"}},\"type\":\"scatter3d\"}],\"scattercarpet\":[{\"marker\":{\"colorbar\":{\"outlinewidth\":0,\"ticks\":\"\"}},\"type\":\"scattercarpet\"}],\"scattergeo\":[{\"marker\":{\"colorbar\":{\"outlinewidth\":0,\"ticks\":\"\"}},\"type\":\"scattergeo\"}],\"scattergl\":[{\"marker\":{\"colorbar\":{\"outlinewidth\":0,\"ticks\":\"\"}},\"type\":\"scattergl\"}],\"scattermapbox\":[{\"marker\":{\"colorbar\":{\"outlinewidth\":0,\"ticks\":\"\"}},\"type\":\"scattermapbox\"}],\"scatterpolar\":[{\"marker\":{\"colorbar\":{\"outlinewidth\":0,\"ticks\":\"\"}},\"type\":\"scatterpolar\"}],\"scatterpolargl\":[{\"marker\":{\"colorbar\":{\"outlinewidth\":0,\"ticks\":\"\"}},\"type\":\"scatterpolargl\"}],\"scatterternary\":[{\"marker\":{\"colorbar\":{\"outlinewidth\":0,\"ticks\":\"\"}},\"type\":\"scatterternary\"}],\"surface\":[{\"colorbar\":{\"outlinewidth\":0,\"ticks\":\"\"},\"colorscale\":[[0.0,\"#0d0887\"],[0.1111111111111111,\"#46039f\"],[0.2222222222222222,\"#7201a8\"],[0.3333333333333333,\"#9c179e\"],[0.4444444444444444,\"#bd3786\"],[0.5555555555555556,\"#d8576b\"],[0.6666666666666666,\"#ed7953\"],[0.7777777777777778,\"#fb9f3a\"],[0.8888888888888888,\"#fdca26\"],[1.0,\"#f0f921\"]],\"type\":\"surface\"}],\"table\":[{\"cells\":{\"fill\":{\"color\":\"#EBF0F8\"},\"line\":{\"color\":\"white\"}},\"header\":{\"fill\":{\"color\":\"#C8D4E3\"},\"line\":{\"color\":\"white\"}},\"type\":\"table\"}]},\"layout\":{\"annotationdefaults\":{\"arrowcolor\":\"#2a3f5f\",\"arrowhead\":0,\"arrowwidth\":1},\"autotypenumbers\":\"strict\",\"coloraxis\":{\"colorbar\":{\"outlinewidth\":0,\"ticks\":\"\"}},\"colorscale\":{\"diverging\":[[0,\"#8e0152\"],[0.1,\"#c51b7d\"],[0.2,\"#de77ae\"],[0.3,\"#f1b6da\"],[0.4,\"#fde0ef\"],[0.5,\"#f7f7f7\"],[0.6,\"#e6f5d0\"],[0.7,\"#b8e186\"],[0.8,\"#7fbc41\"],[0.9,\"#4d9221\"],[1,\"#276419\"]],\"sequential\":[[0.0,\"#0d0887\"],[0.1111111111111111,\"#46039f\"],[0.2222222222222222,\"#7201a8\"],[0.3333333333333333,\"#9c179e\"],[0.4444444444444444,\"#bd3786\"],[0.5555555555555556,\"#d8576b\"],[0.6666666666666666,\"#ed7953\"],[0.7777777777777778,\"#fb9f3a\"],[0.8888888888888888,\"#fdca26\"],[1.0,\"#f0f921\"]],\"sequentialminus\":[[0.0,\"#0d0887\"],[0.1111111111111111,\"#46039f\"],[0.2222222222222222,\"#7201a8\"],[0.3333333333333333,\"#9c179e\"],[0.4444444444444444,\"#bd3786\"],[0.5555555555555556,\"#d8576b\"],[0.6666666666666666,\"#ed7953\"],[0.7777777777777778,\"#fb9f3a\"],[0.8888888888888888,\"#fdca26\"],[1.0,\"#f0f921\"]]},\"colorway\":[\"#636efa\",\"#EF553B\",\"#00cc96\",\"#ab63fa\",\"#FFA15A\",\"#19d3f3\",\"#FF6692\",\"#B6E880\",\"#FF97FF\",\"#FECB52\"],\"font\":{\"color\":\"#2a3f5f\"},\"geo\":{\"bgcolor\":\"white\",\"lakecolor\":\"white\",\"landcolor\":\"#E5ECF6\",\"showlakes\":true,\"showland\":true,\"subunitcolor\":\"white\"},\"hoverlabel\":{\"align\":\"left\"},\"hovermode\":\"closest\",\"mapbox\":{\"style\":\"light\"},\"paper_bgcolor\":\"white\",\"plot_bgcolor\":\"#E5ECF6\",\"polar\":{\"angularaxis\":{\"gridcolor\":\"white\",\"linecolor\":\"white\",\"ticks\":\"\"},\"bgcolor\":\"#E5ECF6\",\"radialaxis\":{\"gridcolor\":\"white\",\"linecolor\":\"white\",\"ticks\":\"\"}},\"scene\":{\"xaxis\":{\"backgroundcolor\":\"#E5ECF6\",\"gridcolor\":\"white\",\"gridwidth\":2,\"linecolor\":\"white\",\"showbackground\":true,\"ticks\":\"\",\"zerolinecolor\":\"white\"},\"yaxis\":{\"backgroundcolor\":\"#E5ECF6\",\"gridcolor\":\"white\",\"gridwidth\":2,\"linecolor\":\"white\",\"showbackground\":true,\"ticks\":\"\",\"zerolinecolor\":\"white\"},\"zaxis\":{\"backgroundcolor\":\"#E5ECF6\",\"gridcolor\":\"white\",\"gridwidth\":2,\"linecolor\":\"white\",\"showbackground\":true,\"ticks\":\"\",\"zerolinecolor\":\"white\"}},\"shapedefaults\":{\"line\":{\"color\":\"#2a3f5f\"}},\"ternary\":{\"aaxis\":{\"gridcolor\":\"white\",\"linecolor\":\"white\",\"ticks\":\"\"},\"baxis\":{\"gridcolor\":\"white\",\"linecolor\":\"white\",\"ticks\":\"\"},\"bgcolor\":\"#E5ECF6\",\"caxis\":{\"gridcolor\":\"white\",\"linecolor\":\"white\",\"ticks\":\"\"}},\"title\":{\"x\":0.05},\"xaxis\":{\"automargin\":true,\"gridcolor\":\"white\",\"linecolor\":\"white\",\"ticks\":\"\",\"title\":{\"standoff\":15},\"zerolinecolor\":\"white\",\"zerolinewidth\":2},\"yaxis\":{\"automargin\":true,\"gridcolor\":\"white\",\"linecolor\":\"white\",\"ticks\":\"\",\"title\":{\"standoff\":15},\"zerolinecolor\":\"white\",\"zerolinewidth\":2}}},\"title\":{\"font\":{\"size\":20},\"text\":\"Correlation Matrix Heatmap\",\"x\":0.5}},                        {\"responsive\": true}                    )                };                            </script>        </div>\n</body>\n</html>",
       "datasetInfos": [],
       "metadata": {},
       "removedWidgets": [],
       "textData": null,
       "type": "htmlSandbox"
      }
     },
     "output_type": "display_data"
    }
   ],
   "source": [
    "corr = df33.corr()\n",
    "fig = go.Figure(data=go.Heatmap(z=corr.values,\n",
    "                                 x=corr.index.values,\n",
    "                                 y=corr.columns.values,\n",
    "                                 text=np.round(corr.values, 2),\n",
    "                                 texttemplate=\"%{text}\"))\n",
    "fig.update_layout(title=dict(text='Correlation Matrix Heatmap', font=dict(size=20), x=0.5))\n"
   ]
  },
  {
   "cell_type": "code",
   "execution_count": null,
   "metadata": {
    "application/vnd.databricks.v1+cell": {
     "cellMetadata": {
      "byteLimit": 2048000,
      "rowLimit": 10000
     },
     "inputWidgets": {},
     "nuid": "9c8dae0f-b0d3-4755-ab7d-e5b049e80c94",
     "showTitle": false,
     "title": ""
    }
   },
   "outputs": [],
   "source": [
    "#Initialize stages\n",
    "stages = []\n",
    "#Target column\n",
    "label_stringIdx = StringIndexer(inputCol = 'target', outputCol = 'label')\n",
    "stages += [label_stringIdx]\n",
    "#Numeric Columns\n",
    "numericCols = ['age',\n",
    " 'sex',\n",
    " 'cp',\n",
    " 'trestbps',\n",
    " 'chol',\n",
    " 'fbs',\n",
    " 'restecg',\n",
    " 'thalach',\n",
    " 'exang',\n",
    " 'slope',\n",
    " 'ca',\n",
    " 'thal',\n",
    " 'oldpeaklog'] \n",
    "#Create a vector assembler\n",
    "assemblerInputs = numericCols \n",
    "assembler = VectorAssembler(inputCols=assemblerInputs, outputCol=\"features\").setHandleInvalid('keep')\n",
    "stages += [assembler]"
   ]
  },
  {
   "cell_type": "code",
   "execution_count": null,
   "metadata": {
    "application/vnd.databricks.v1+cell": {
     "cellMetadata": {
      "byteLimit": 2048000,
      "rowLimit": 10000
     },
     "inputWidgets": {},
     "nuid": "4769a994-8940-4b97-a261-49e0276e3614",
     "showTitle": false,
     "title": ""
    }
   },
   "outputs": [
    {
     "name": "stdout",
     "output_type": "stream",
     "text": [
      "root\n",
      " |-- label: double (nullable = false)\n",
      " |-- features: vector (nullable = true)\n",
      " |-- age: integer (nullable = true)\n",
      " |-- sex: integer (nullable = true)\n",
      " |-- cp: integer (nullable = true)\n",
      " |-- trestbps: integer (nullable = true)\n",
      " |-- chol: integer (nullable = true)\n",
      " |-- fbs: integer (nullable = true)\n",
      " |-- restecg: integer (nullable = true)\n",
      " |-- thalach: integer (nullable = true)\n",
      " |-- exang: integer (nullable = true)\n",
      " |-- slope: integer (nullable = true)\n",
      " |-- ca: integer (nullable = true)\n",
      " |-- thal: integer (nullable = true)\n",
      " |-- oldpeaklog: double (nullable = true)\n",
      " |-- target: integer (nullable = true)\n",
      " |-- Race: integer (nullable = true)\n",
      " |-- Totchg: integer (nullable = true)\n",
      "\n"
     ]
    }
   ],
   "source": [
    "from pyspark.ml import Pipeline\n",
    "pipeline = Pipeline(stages = stages)\n",
    "pipelineModel = pipeline.fit(df3)\n",
    "df3 = pipelineModel.transform(df3)\n",
    "selectedCols = ['label', 'features',\n",
    "                'age', 'sex', 'cp', 'trestbps', 'chol', 'fbs', 'restecg',\n",
    "                'thalach', 'exang', 'slope', 'ca', 'thal', 'oldpeaklog', 'target', 'Race', 'Totchg']\n",
    "\n",
    "df3 = df3.select(selectedCols)\n",
    "df3.printSchema()"
   ]
  },
  {
   "cell_type": "code",
   "execution_count": null,
   "metadata": {
    "application/vnd.databricks.v1+cell": {
     "cellMetadata": {
      "byteLimit": 2048000,
      "rowLimit": 10000
     },
     "inputWidgets": {},
     "nuid": "33f8268d-3178-46f5-ada9-247f4c538929",
     "showTitle": false,
     "title": ""
    }
   },
   "outputs": [
    {
     "name": "stdout",
     "output_type": "stream",
     "text": [
      "+------+-----+\n",
      "|target|count|\n",
      "+------+-----+\n",
      "|     1|  110|\n",
      "|     0|  106|\n",
      "+------+-----+\n",
      "\n",
      "+------+-----+\n",
      "|target|count|\n",
      "+------+-----+\n",
      "|     1|   55|\n",
      "|     0|   32|\n",
      "+------+-----+\n",
      "\n"
     ]
    }
   ],
   "source": [
    "# Splitting the data\n",
    "train, test = df3.randomSplit([0.7, 0.3], seed=2024)\n",
    "\n",
    "# Dropping multiple columns correctly\n",
    "train = train.drop(*['Race', 'Totchg'])  # Using '*' to unpack the list\n",
    "test = test.drop(*['Race', 'Totchg'])    # Using '*' to unpack the list\n",
    "\n",
    "# Group by 'target' and show counts\n",
    "train.groupby('target').count().show()\n",
    "test.groupby('target').count().show()\n"
   ]
  },
  {
   "cell_type": "code",
   "execution_count": null,
   "metadata": {
    "application/vnd.databricks.v1+cell": {
     "cellMetadata": {
      "byteLimit": 2048000,
      "rowLimit": 10000
     },
     "inputWidgets": {},
     "nuid": "b1557b8a-8cc7-423f-a2c8-a890fb175d84",
     "showTitle": false,
     "title": ""
    }
   },
   "outputs": [],
   "source": [
    "from pyspark.ml.classification import RandomForestClassifier\n",
    "rf = RandomForestClassifier(featuresCol = 'features', labelCol = 'label', seed=101)\n",
    "rfModel = rf.fit(train)\n",
    "predictions_rf=rfModel.transform(test)"
   ]
  },
  {
   "cell_type": "code",
   "execution_count": null,
   "metadata": {
    "application/vnd.databricks.v1+cell": {
     "cellMetadata": {
      "byteLimit": 2048000,
      "rowLimit": 10000
     },
     "inputWidgets": {},
     "nuid": "8c35ffab-9803-44a6-96b0-195d3f0c46e0",
     "showTitle": false,
     "title": ""
    }
   },
   "outputs": [
    {
     "name": "stdout",
     "output_type": "stream",
     "text": [
      "Out[17]: 0.8400286388792135"
     ]
    }
   ],
   "source": [
    "from pyspark.ml.evaluation import MulticlassClassificationEvaluator\n",
    "evaluator_rf = MulticlassClassificationEvaluator(predictionCol=\"prediction\")\n",
    "evaluator_rf.evaluate(predictions_rf)\n"
   ]
  },
  {
   "cell_type": "code",
   "execution_count": null,
   "metadata": {
    "application/vnd.databricks.v1+cell": {
     "cellMetadata": {
      "byteLimit": 2048000,
      "rowLimit": 10000
     },
     "inputWidgets": {},
     "nuid": "414ebed4-96da-484b-97de-e1c3ad03f3b4",
     "showTitle": false,
     "title": ""
    }
   },
   "outputs": [
    {
     "name": "stdout",
     "output_type": "stream",
     "text": [
      "+----------------+---+---+\n",
      "|label_prediction|0.0|1.0|\n",
      "+----------------+---+---+\n",
      "|             1.0|  6| 26|\n",
      "|             0.0| 47|  8|\n",
      "+----------------+---+---+\n",
      "\n"
     ]
    }
   ],
   "source": [
    "# confusion matrix\n",
    "predictions_rf.crosstab('label','prediction').show()"
   ]
  },
  {
   "cell_type": "code",
   "execution_count": null,
   "metadata": {
    "application/vnd.databricks.v1+cell": {
     "cellMetadata": {
      "byteLimit": 2048000,
      "rowLimit": 10000
     },
     "inputWidgets": {},
     "nuid": "7a1e5fdb-71ce-4296-8ea0-13aea59fea96",
     "showTitle": false,
     "title": ""
    }
   },
   "outputs": [],
   "source": [
    "import matplotlib.pyplot as plt  # Import matplotlib.pyplot for plotting"
   ]
  },
  {
   "cell_type": "code",
   "execution_count": null,
   "metadata": {
    "application/vnd.databricks.v1+cell": {
     "cellMetadata": {
      "byteLimit": 2048000,
      "rowLimit": 10000
     },
     "inputWidgets": {},
     "nuid": "216466d1-83cc-42ac-9d1e-cfd6ea1ff305",
     "showTitle": false,
     "title": ""
    }
   },
   "outputs": [],
   "source": [
    "#pip install handyspark"
   ]
  },
  {
   "cell_type": "code",
   "execution_count": null,
   "metadata": {
    "application/vnd.databricks.v1+cell": {
     "cellMetadata": {
      "byteLimit": 2048000,
      "rowLimit": 10000
     },
     "inputWidgets": {},
     "nuid": "ab018779-9867-4bf7-9c91-53ca9a67fc42",
     "showTitle": false,
     "title": ""
    }
   },
   "outputs": [
    {
     "name": "stderr",
     "output_type": "stream",
     "text": [
      "/databricks/spark/python/pyspark/sql/context.py:165: FutureWarning:\n",
      "\n",
      "Deprecated in 3.0.0. Use SparkSession.builder.getOrCreate() instead.\n",
      "\n"
     ]
    },
    {
     "name": "stdout",
     "output_type": "stream",
     "text": [
      "Area under ROC Curve: 0.8943\n",
      "Area under PR Curve: 0.8852\n"
     ]
    },
    {
     "name": "stderr",
     "output_type": "stream",
     "text": [
      "/databricks/spark/python/pyspark/sql/context.py:165: FutureWarning:\n",
      "\n",
      "Deprecated in 3.0.0. Use SparkSession.builder.getOrCreate() instead.\n",
      "\n"
     ]
    },
    {
     "name": "stdout",
     "output_type": "stream",
     "text": [
      "Out[21]: <AxesSubplot:title={'center':'Precision-Recall Curve'}, xlabel='Recall', ylabel='Precision'>"
     ]
    },
    {
     "data": {
      "image/png": "[encoded data removed]"
     },
     "metadata": {
      "application/vnd.databricks.v1+output": {
       "addedWidgets": {},
       "arguments": {},
       "data": "data:image/png;base64,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\n",
       "datasetInfos": [],
       "metadata": {},
       "removedWidgets": [],
       "type": "image"
      }
     },
     "output_type": "display_data"
    }
   ],
   "source": [
    "from handyspark import *\n",
    "# Creates instance of extended version of BinaryClassificationMetrics\n",
    "# using a DataFrame and its probability and label columns, as the output\n",
    "# from the classifier\n",
    "bcm = BinaryClassificationMetrics(predictions_rf, scoreCol='probability', labelCol='label')\n",
    "# Get metrics from evaluator\n",
    "print(\"Area under ROC Curve: {:.4f}\".format(bcm.areaUnderROC))\n",
    "print(\"Area under PR Curve: {:.4f}\".format(bcm.areaUnderPR))\n",
    "# Plot both ROC and PR curves\n",
    "fig, axs = plt.subplots(1, 2, figsize=(12, 4))\n",
    "bcm.plot_roc_curve(ax=axs[0])\n",
    "bcm.plot_pr_curve(ax=axs[1])"
   ]
  },
  {
   "cell_type": "code",
   "execution_count": null,
   "metadata": {
    "application/vnd.databricks.v1+cell": {
     "cellMetadata": {
      "byteLimit": 2048000,
      "rowLimit": 10000
     },
     "inputWidgets": {},
     "nuid": "fd9cedfb-89a6-4fee-b6d8-fe1060b7865c",
     "showTitle": false,
     "title": ""
    }
   },
   "outputs": [],
   "source": [
    "from pyspark.ml.classification import RandomForestClassifier\n",
    "rf = RandomForestClassifier(featuresCol = 'features', labelCol = 'label', seed=101)\n",
    "rfModel = rf.fit(train)\n",
    "predictions_rf=rfModel.transform(test)"
   ]
  },
  {
   "cell_type": "code",
   "execution_count": null,
   "metadata": {
    "application/vnd.databricks.v1+cell": {
     "cellMetadata": {
      "byteLimit": 2048000,
      "rowLimit": 10000
     },
     "inputWidgets": {},
     "nuid": "0d556b26-f2f8-4e46-8227-9c21880a085a",
     "showTitle": false,
     "title": ""
    }
   },
   "outputs": [
    {
     "name": "stdout",
     "output_type": "stream",
     "text": [
      "Evaluation Result: 0.8400286388792135\n"
     ]
    }
   ],
   "source": [
    "from pyspark.ml.evaluation import MulticlassClassificationEvaluator\n",
    "\n",
    "# Use regular double quotation marks for predictionCol\n",
    "evaluator_rf = MulticlassClassificationEvaluator(predictionCol=\"prediction\")\n",
    "\n",
    "# Assuming predictions_rf is your DataFrame containing predictions\n",
    "evaluated_value = evaluator_rf.evaluate(predictions_rf)\n",
    "print(\"Evaluation Result:\", evaluated_value)\n"
   ]
  },
  {
   "cell_type": "code",
   "execution_count": null,
   "metadata": {
    "application/vnd.databricks.v1+cell": {
     "cellMetadata": {
      "byteLimit": 2048000,
      "rowLimit": 10000
     },
     "inputWidgets": {},
     "nuid": "22b6cfc8-ea83-4ce7-9864-8735d1dff37f",
     "showTitle": false,
     "title": ""
    }
   },
   "outputs": [
    {
     "name": "stdout",
     "output_type": "stream",
     "text": [
      "+----------------+---+---+\n",
      "|label_prediction|0.0|1.0|\n",
      "+----------------+---+---+\n",
      "|             1.0|  6| 26|\n",
      "|             0.0| 47|  8|\n",
      "+----------------+---+---+\n",
      "\n"
     ]
    }
   ],
   "source": [
    "# confusion matrix\n",
    "predictions_rf.crosstab('label','prediction').show()"
   ]
  },
  {
   "cell_type": "code",
   "execution_count": null,
   "metadata": {
    "application/vnd.databricks.v1+cell": {
     "cellMetadata": {
      "byteLimit": 2048000,
      "rowLimit": 10000
     },
     "inputWidgets": {},
     "nuid": "a54f10f9-bc88-45e5-b2cd-199c54e355c4",
     "showTitle": false,
     "title": ""
    }
   },
   "outputs": [
    {
     "name": "stderr",
     "output_type": "stream",
     "text": [
      "/databricks/spark/python/pyspark/sql/context.py:165: FutureWarning:\n",
      "\n",
      "Deprecated in 3.0.0. Use SparkSession.builder.getOrCreate() instead.\n",
      "\n"
     ]
    },
    {
     "name": "stdout",
     "output_type": "stream",
     "text": [
      "Area under ROC Curve: 0.8943\n",
      "Area under PR Curve: 0.8852\n"
     ]
    },
    {
     "name": "stderr",
     "output_type": "stream",
     "text": [
      "/databricks/spark/python/pyspark/sql/context.py:165: FutureWarning:\n",
      "\n",
      "Deprecated in 3.0.0. Use SparkSession.builder.getOrCreate() instead.\n",
      "\n"
     ]
    },
    {
     "name": "stdout",
     "output_type": "stream",
     "text": [
      "Out[25]: <AxesSubplot:title={'center':'Precision-Recall Curve'}, xlabel='Recall', ylabel='Precision'>"
     ]
    },
    {
     "data": {
      "image/png": "[encoded data removed]"
     },
     "metadata": {
      "application/vnd.databricks.v1+output": {
       "addedWidgets": {},
       "arguments": {},
       "data": "data:image/png;base64,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\n",
       "datasetInfos": [],
       "metadata": {},
       "removedWidgets": [],
       "type": "image"
      }
     },
     "output_type": "display_data"
    }
   ],
   "source": [
    "from handyspark import *\n",
    "# Creates instance of extended version of BinaryClassificationMetrics\n",
    "# using a DataFrame and its probability and label columns, as the output\n",
    "# from the classifier\n",
    "bcm = BinaryClassificationMetrics(predictions_rf, scoreCol='probability', labelCol='label')\n",
    "# Get metrics from evaluator\n",
    "print(\"Area under ROC Curve: {:.4f}\".format(bcm.areaUnderROC))\n",
    "print(\"Area under PR Curve: {:.4f}\".format(bcm.areaUnderPR))\n",
    "# Plot both ROC and PR curves\n",
    "fig, axs = plt.subplots(1, 2, figsize=(12, 4))\n",
    "bcm.plot_roc_curve(ax=axs[0])\n",
    "bcm.plot_pr_curve(ax=axs[1])"
   ]
  },
  {
   "cell_type": "markdown",
   "metadata": {
    "application/vnd.databricks.v1+cell": {
     "cellMetadata": {
      "byteLimit": 2048000,
      "rowLimit": 10000
     },
     "inputWidgets": {},
     "nuid": "75385999-d8c9-46ae-b90b-1936fedf4049",
     "showTitle": false,
     "title": ""
    }
   },
   "source": [
    "### Testing Various Thresholds"
   ]
  },
  {
   "cell_type": "code",
   "execution_count": null,
   "metadata": {
    "application/vnd.databricks.v1+cell": {
     "cellMetadata": {
      "byteLimit": 2048000,
      "rowLimit": 10000
     },
     "inputWidgets": {},
     "nuid": "dafa39e8-a44f-4e40-be0e-608cf84d9bdd",
     "showTitle": false,
     "title": ""
    }
   },
   "outputs": [],
   "source": [
    "from pyspark.sql.types import FloatType\n",
    "split1_udf = F.udf(lambda value: value[0].item(), FloatType())\n",
    "split2_udf = F.udf(lambda value: value[1].item(), FloatType())\n",
    "def test_threshold(model, prob):\n",
    "    output2 = model.select('rawPrediction','target','probability',split1_udf('probability').alias('class_0'), split2_udf('probability').alias('class_1'))\n",
    "    from pyspark.sql.functions import col, when\n",
    "    output2=output2.withColumn('prediction', when(col('class_0')> prob, 1).otherwise(0))\n",
    "    output2.crosstab('prediction','target').show()"
   ]
  },
  {
   "cell_type": "code",
   "execution_count": null,
   "metadata": {
    "application/vnd.databricks.v1+cell": {
     "cellMetadata": {
      "byteLimit": 2048000,
      "rowLimit": 10000
     },
     "inputWidgets": {},
     "nuid": "c05e133e-6d1a-4896-b6f0-2ba7af0d0006",
     "showTitle": false,
     "title": ""
    }
   },
   "outputs": [
    {
     "name": "stdout",
     "output_type": "stream",
     "text": [
      "+-----------------+---+---+\n",
      "|prediction_target|  0|  1|\n",
      "+-----------------+---+---+\n",
      "|                0| 27| 14|\n",
      "|                1|  5| 41|\n",
      "+-----------------+---+---+\n",
      "\n"
     ]
    }
   ],
   "source": [
    "test_threshold(predictions_rf,.6)"
   ]
  },
  {
   "cell_type": "code",
   "execution_count": null,
   "metadata": {
    "application/vnd.databricks.v1+cell": {
     "cellMetadata": {
      "byteLimit": 2048000,
      "rowLimit": 10000
     },
     "inputWidgets": {},
     "nuid": "2acda84f-3a9a-4c3b-addb-ca67db20ab0a",
     "showTitle": false,
     "title": ""
    }
   },
   "outputs": [
    {
     "name": "stdout",
     "output_type": "stream",
     "text": [
      "+-----------------+---+---+\n",
      "|prediction_target|  0|  1|\n",
      "+-----------------+---+---+\n",
      "|                0| 28| 20|\n",
      "|                1|  4| 35|\n",
      "+-----------------+---+---+\n",
      "\n"
     ]
    }
   ],
   "source": [
    "test_threshold(predictions_rf,.7)"
   ]
  },
  {
   "cell_type": "markdown",
   "metadata": {
    "application/vnd.databricks.v1+cell": {
     "cellMetadata": {
      "byteLimit": 2048000,
      "rowLimit": 10000
     },
     "inputWidgets": {},
     "nuid": "70d32583-786a-4aad-bc0d-f9f4caf0a390",
     "showTitle": false,
     "title": ""
    }
   },
   "source": [
    "### Feature Importances"
   ]
  },
  {
   "cell_type": "code",
   "execution_count": null,
   "metadata": {
    "application/vnd.databricks.v1+cell": {
     "cellMetadata": {
      "byteLimit": 2048000,
      "rowLimit": 10000
     },
     "inputWidgets": {},
     "nuid": "3fd91aa9-055f-4f8f-85b9-9cc5c98cf1c1",
     "showTitle": false,
     "title": ""
    }
   },
   "outputs": [
    {
     "name": "stdout",
     "output_type": "stream",
     "text": [
      "Out[29]: Text(0.5, 1.0, 'Feature Importances')"
     ]
    },
    {
     "data": {
      "image/png": "[encoded data removed]"
     },
     "metadata": {
      "application/vnd.databricks.v1+output": {
       "addedWidgets": {},
       "arguments": {},
       "data": "data:image/png;base64,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\n",
       "datasetInfos": [],
       "metadata": {},
       "removedWidgets": [],
       "type": "image"
      }
     },
     "output_type": "display_data"
    }
   ],
   "source": [
    "feat_imps=rfModel.featureImportances\n",
    "x_values = list(range(len(feat_imps)))\n",
    "plt.bar(x_values, feat_imps, orientation = 'vertical')\n",
    "plt.xticks(x_values, ['age','sex','cp','trestbps','chol','fbs','restecg','thalach','exang','slope','ca','thal','oldpeaklog'], rotation=40)\n",
    "plt.ylabel('Importance')\n",
    "plt.xlabel('Feature')\n",
    "plt.title('Feature Importances')"
   ]
  },
  {
   "cell_type": "markdown",
   "metadata": {
    "application/vnd.databricks.v1+cell": {
     "cellMetadata": {
      "byteLimit": 2048000,
      "rowLimit": 10000
     },
     "inputWidgets": {},
     "nuid": "0e8e0f42-92cb-4628-ac85-015c35dcfa9b",
     "showTitle": false,
     "title": ""
    }
   },
   "source": [
    "### Tune Hyperparameters"
   ]
  },
  {
   "cell_type": "code",
   "execution_count": null,
   "metadata": {
    "application/vnd.databricks.v1+cell": {
     "cellMetadata": {
      "byteLimit": 2048000,
      "rowLimit": 10000
     },
     "inputWidgets": {},
     "nuid": "9343a1a4-c3bf-49be-a74d-54c599cece50",
     "showTitle": false,
     "title": ""
    }
   },
   "outputs": [],
   "source": [
    "paramGrid_rf = ParamGridBuilder() \\\n",
    "    .addGrid(rf.numTrees, [int(x) for x in np.arange(200,221,10)]) \\\n",
    "    .addGrid(rf.maxDepth, [int(x) for x in np.arange(10,11,10)]) \\\n",
    "    .addGrid(rf.featureSubsetStrategy, [x for x in [\"sqrt\", \"log2\", \"onethird\"]]) \\\n",
    "    .addGrid(rf.impurity, [x for x in ['gini','entropy']]) \\\n",
    "    .addGrid(rf.maxBins, [int(x) for x in np.arange(22, 42, 10)]) \\\n",
    "    .build()\n",
    "evaluator = BinaryClassificationEvaluator()\n",
    "rf_crossval = CrossValidator(estimator=rf,\n",
    "                          estimatorParamMaps=paramGrid_rf,\n",
    "                          evaluator=evaluator,\n",
    "                          numFolds=3)\n",
    "rf_cvModel = rf_crossval.fit(train)\n",
    "predictions_rf_cv = rf_cvModel.transform(test)"
   ]
  },
  {
   "cell_type": "markdown",
   "metadata": {
    "application/vnd.databricks.v1+cell": {
     "cellMetadata": {
      "byteLimit": 2048000,
      "rowLimit": 10000
     },
     "inputWidgets": {},
     "nuid": "c3d93e99-cd89-4b1d-80aa-8704fbe073fb",
     "showTitle": false,
     "title": ""
    }
   },
   "source": [
    "Overall Accuracy of Best CV Model"
   ]
  },
  {
   "cell_type": "code",
   "execution_count": null,
   "metadata": {
    "application/vnd.databricks.v1+cell": {
     "cellMetadata": {
      "byteLimit": 2048000,
      "rowLimit": 10000
     },
     "inputWidgets": {},
     "nuid": "515807a0-410e-4da0-9fbc-2bc098fd3f7c",
     "showTitle": false,
     "title": ""
    }
   },
   "outputs": [
    {
     "name": "stdout",
     "output_type": "stream",
     "text": [
      "Out[31]: 0.8407771696837485"
     ]
    }
   ],
   "source": [
    "evaluator_rf_cv = MulticlassClassificationEvaluator(predictionCol=\"prediction\")\n",
    "evaluator_rf_cv.evaluate(predictions_rf_cv)"
   ]
  },
  {
   "cell_type": "markdown",
   "metadata": {
    "application/vnd.databricks.v1+cell": {
     "cellMetadata": {
      "byteLimit": 2048000,
      "rowLimit": 10000
     },
     "inputWidgets": {},
     "nuid": "1fd52212-5fd4-4313-b35b-1900e6d917b1",
     "showTitle": false,
     "title": ""
    }
   },
   "source": [
    "Logistic Regression"
   ]
  },
  {
   "cell_type": "code",
   "execution_count": null,
   "metadata": {
    "application/vnd.databricks.v1+cell": {
     "cellMetadata": {
      "byteLimit": 2048000,
      "rowLimit": 10000
     },
     "inputWidgets": {},
     "nuid": "33fb8742-b763-43ba-b1d4-e00cb5545dba",
     "showTitle": false,
     "title": ""
    }
   },
   "outputs": [],
   "source": [
    "from pyspark.ml.classification import LogisticRegression\n",
    "lr = LogisticRegression(maxIter=20, regParam=0.3, elasticNetParam=0,featuresCol = 'features', labelCol = 'label')\n",
    "lrModel = lr.fit(train)\n",
    "predictions_lr = lrModel.transform(test)"
   ]
  },
  {
   "cell_type": "code",
   "execution_count": null,
   "metadata": {
    "application/vnd.databricks.v1+cell": {
     "cellMetadata": {
      "byteLimit": 2048000,
      "rowLimit": 10000
     },
     "inputWidgets": {},
     "nuid": "f5255f23-4cd1-4133-849e-e7f18075ed00",
     "showTitle": false,
     "title": ""
    }
   },
   "outputs": [
    {
     "name": "stdout",
     "output_type": "stream",
     "text": [
      "Out[33]: 0.8731292869223904"
     ]
    }
   ],
   "source": [
    "#Overall Accuracy of Model\n",
    "\n",
    "evaluator_lr = MulticlassClassificationEvaluator(predictionCol=\"prediction\")\n",
    "evaluator_lr.evaluate(predictions_lr)"
   ]
  },
  {
   "cell_type": "code",
   "execution_count": null,
   "metadata": {
    "application/vnd.databricks.v1+cell": {
     "cellMetadata": {
      "byteLimit": 2048000,
      "rowLimit": 10000
     },
     "inputWidgets": {},
     "nuid": "eab2ab89-bcf7-4452-a43f-53bcc80ca205",
     "showTitle": false,
     "title": ""
    }
   },
   "outputs": [
    {
     "name": "stdout",
     "output_type": "stream",
     "text": [
      "+------+---+-----+\n",
      "|target| cp|count|\n",
      "+------+---+-----+\n",
      "|     1|  0|   39|\n",
      "|     1|  2|   69|\n",
      "|     1|  1|   41|\n",
      "|     1|  3|   16|\n",
      "|     0|  0|  104|\n",
      "|     0|  1|    9|\n",
      "|     0|  2|   18|\n",
      "|     0|  3|    7|\n",
      "+------+---+-----+\n",
      "\n"
     ]
    }
   ],
   "source": [
    "df3.groupby('target','cp').count().show()"
   ]
  },
  {
   "cell_type": "markdown",
   "metadata": {
    "application/vnd.databricks.v1+cell": {
     "cellMetadata": {
      "byteLimit": 2048000,
      "rowLimit": 10000
     },
     "inputWidgets": {},
     "nuid": "84f32062-5048-42a0-840e-b1760040f3db",
     "showTitle": false,
     "title": ""
    }
   },
   "source": [
    "Random Forests is saying that the majority of those who get classified as having Heart Disease have cp=1/atypical angina and cp=2/non-anginal pain, while the majority of those who aren’t classified as having Heart Disease have cp=0/typical angina."
   ]
  },
  {
   "cell_type": "code",
   "execution_count": null,
   "metadata": {
    "application/vnd.databricks.v1+cell": {
     "cellMetadata": {
      "byteLimit": 2048000,
      "rowLimit": 10000
     },
     "inputWidgets": {},
     "nuid": "acb8a9e0-b893-42ad-90e9-e5aed62d3a34",
     "showTitle": false,
     "title": ""
    }
   },
   "outputs": [
    {
     "data": {
      "text/html": [
       "<html>\n",
       "<head><meta charset=\"utf-8\" /></head>\n",
       "<body>\n",
       "    <div>            <script src=\"https://cdnjs.cloudflare.com/ajax/libs/mathjax/2.7.5/MathJax.js?config=TeX-AMS-MML_SVG\"></script><script type=\"text/javascript\">if (window.MathJax) {MathJax.Hub.Config({SVG: {font: \"STIX-Web\"}});}</script>                <script type=\"text/javascript\">window.PlotlyConfig = {MathJaxConfig: 'local'};</script>\n",
       "        <script src=\"https://cdn.plot.ly/plotly-2.9.0.min.js\"></script>                <div id=\"4264158a-938d-40da-9cd3-eb862f877586\" class=\"plotly-graph-div\" style=\"height:100%; width:100%;\"></div>            <script type=\"text/javascript\">                                    window.PLOTLYENV=window.PLOTLYENV || {};                                    if (document.getElementById(\"4264158a-938d-40da-9cd3-eb862f877586\")) {                    Plotly.newPlot(                        \"4264158a-938d-40da-9cd3-eb862f877586\",                        [{\"name\":\"target:0\",\"x\":[108,129,160,147,155,142,168,160,173,132,114,160,158,120,112,132,114,169,165,128,153,144,109,163,158,142,131,113,142,155,140,147,163,99,158,177,141,111,150,145,161,142,157,139,162,150,140,140,146,144,136,97,132,127,150,154,111,174,133,126,125,103,130,159,131,152,124,145,96,109,173,171,170,162,156,112,143,132,88,105,166,150,120,195,146,122,143,106,125,125,147,130,126,154,182,165,160,95,169,108,132,117,126,116,103,144,145,71,156,118,168,105,141,152,125,125,156,134,181,138,120,162,164,143,130,161,140,146,150,144,144,136,90,123,132,141,115,174],\"type\":\"histogram\",\"opacity\":0.9},{\"name\":\"target:1\",\"x\":[150,187,172,178,163,148,153,173,162,174,160,139,171,144,162,158,172,114,171,151,161,179,178,137,178,162,157,123,157,152,168,140,188,152,125,160,170,165,148,151,142,180,148,143,182,172,180,156,115,160,149,151,146,175,172,158,186,185,174,159,130,156,190,132,165,182,143,175,170,163,147,154,202,186,165,161,166,164,184,154,179,170,160,178,122,160,151,156,158,122,175,168,169,159,138,111,157,147,162,173,178,145,179,194,163,115,131,152,162,159,154,173,133,161,155,170,168,162,172,152,122,182,172,167,179,192,143,172,169,121,163,162,162,153,163,163,96,140,126,105,157,181,173,142,116,143,149,171,169,150,138,125,155,152,152,131,179,174,144,163,169,166,182,173,173],\"type\":\"histogram\",\"opacity\":0.9}],                        {\"template\":{\"data\":{\"bar\":[{\"error_x\":{\"color\":\"#2a3f5f\"},\"error_y\":{\"color\":\"#2a3f5f\"},\"marker\":{\"line\":{\"color\":\"#E5ECF6\",\"width\":0.5},\"pattern\":{\"fillmode\":\"overlay\",\"size\":10,\"solidity\":0.2}},\"type\":\"bar\"}],\"barpolar\":[{\"marker\":{\"line\":{\"color\":\"#E5ECF6\",\"width\":0.5},\"pattern\":{\"fillmode\":\"overlay\",\"size\":10,\"solidity\":0.2}},\"type\":\"barpolar\"}],\"carpet\":[{\"aaxis\":{\"endlinecolor\":\"#2a3f5f\",\"gridcolor\":\"white\",\"linecolor\":\"white\",\"minorgridcolor\":\"white\",\"startlinecolor\":\"#2a3f5f\"},\"baxis\":{\"endlinecolor\":\"#2a3f5f\",\"gridcolor\":\"white\",\"linecolor\":\"white\",\"minorgridcolor\":\"white\",\"startlinecolor\":\"#2a3f5f\"},\"type\":\"carpet\"}],\"choropleth\":[{\"colorbar\":{\"outlinewidth\":0,\"ticks\":\"\"},\"type\":\"choropleth\"}],\"contour\":[{\"colorbar\":{\"outlinewidth\":0,\"ticks\":\"\"},\"colorscale\":[[0.0,\"#0d0887\"],[0.1111111111111111,\"#46039f\"],[0.2222222222222222,\"#7201a8\"],[0.3333333333333333,\"#9c179e\"],[0.4444444444444444,\"#bd3786\"],[0.5555555555555556,\"#d8576b\"],[0.6666666666666666,\"#ed7953\"],[0.7777777777777778,\"#fb9f3a\"],[0.8888888888888888,\"#fdca26\"],[1.0,\"#f0f921\"]],\"type\":\"contour\"}],\"contourcarpet\":[{\"colorbar\":{\"outlinewidth\":0,\"ticks\":\"\"},\"type\":\"contourcarpet\"}],\"heatmap\":[{\"colorbar\":{\"outlinewidth\":0,\"ticks\":\"\"},\"colorscale\":[[0.0,\"#0d0887\"],[0.1111111111111111,\"#46039f\"],[0.2222222222222222,\"#7201a8\"],[0.3333333333333333,\"#9c179e\"],[0.4444444444444444,\"#bd3786\"],[0.5555555555555556,\"#d8576b\"],[0.6666666666666666,\"#ed7953\"],[0.7777777777777778,\"#fb9f3a\"],[0.8888888888888888,\"#fdca26\"],[1.0,\"#f0f921\"]],\"type\":\"heatmap\"}],\"heatmapgl\":[{\"colorbar\":{\"outlinewidth\":0,\"ticks\":\"\"},\"colorscale\":[[0.0,\"#0d0887\"],[0.1111111111111111,\"#46039f\"],[0.2222222222222222,\"#7201a8\"],[0.3333333333333333,\"#9c179e\"],[0.4444444444444444,\"#bd3786\"],[0.5555555555555556,\"#d8576b\"],[0.6666666666666666,\"#ed7953\"],[0.7777777777777778,\"#fb9f3a\"],[0.8888888888888888,\"#fdca26\"],[1.0,\"#f0f921\"]],\"type\":\"heatmapgl\"}],\"histogram\":[{\"marker\":{\"pattern\":{\"fillmode\":\"overlay\",\"size\":10,\"solidity\":0.2}},\"type\":\"histogram\"}],\"histogram2d\":[{\"colorbar\":{\"outlinewidth\":0,\"ticks\":\"\"},\"colorscale\":[[0.0,\"#0d0887\"],[0.1111111111111111,\"#46039f\"],[0.2222222222222222,\"#7201a8\"],[0.3333333333333333,\"#9c179e\"],[0.4444444444444444,\"#bd3786\"],[0.5555555555555556,\"#d8576b\"],[0.6666666666666666,\"#ed7953\"],[0.7777777777777778,\"#fb9f3a\"],[0.8888888888888888,\"#fdca26\"],[1.0,\"#f0f921\"]],\"type\":\"histogram2d\"}],\"histogram2dcontour\":[{\"colorbar\":{\"outlinewidth\":0,\"ticks\":\"\"},\"colorscale\":[[0.0,\"#0d0887\"],[0.1111111111111111,\"#46039f\"],[0.2222222222222222,\"#7201a8\"],[0.3333333333333333,\"#9c179e\"],[0.4444444444444444,\"#bd3786\"],[0.5555555555555556,\"#d8576b\"],[0.6666666666666666,\"#ed7953\"],[0.7777777777777778,\"#fb9f3a\"],[0.8888888888888888,\"#fdca26\"],[1.0,\"#f0f921\"]],\"type\":\"histogram2dcontour\"}],\"mesh3d\":[{\"colorbar\":{\"outlinewidth\":0,\"ticks\":\"\"},\"type\":\"mesh3d\"}],\"parcoords\":[{\"line\":{\"colorbar\":{\"outlinewidth\":0,\"ticks\":\"\"}},\"type\":\"parcoords\"}],\"pie\":[{\"automargin\":true,\"type\":\"pie\"}],\"scatter\":[{\"marker\":{\"colorbar\":{\"outlinewidth\":0,\"ticks\":\"\"}},\"type\":\"scatter\"}],\"scatter3d\":[{\"line\":{\"colorbar\":{\"outlinewidth\":0,\"ticks\":\"\"}},\"marker\":{\"colorbar\":{\"outlinewidth\":0,\"ticks\":\"\"}},\"type\":\"scatter3d\"}],\"scattercarpet\":[{\"marker\":{\"colorbar\":{\"outlinewidth\":0,\"ticks\":\"\"}},\"type\":\"scattercarpet\"}],\"scattergeo\":[{\"marker\":{\"colorbar\":{\"outlinewidth\":0,\"ticks\":\"\"}},\"type\":\"scattergeo\"}],\"scattergl\":[{\"marker\":{\"colorbar\":{\"outlinewidth\":0,\"ticks\":\"\"}},\"type\":\"scattergl\"}],\"scattermapbox\":[{\"marker\":{\"colorbar\":{\"outlinewidth\":0,\"ticks\":\"\"}},\"type\":\"scattermapbox\"}],\"scatterpolar\":[{\"marker\":{\"colorbar\":{\"outlinewidth\":0,\"ticks\":\"\"}},\"type\":\"scatterpolar\"}],\"scatterpolargl\":[{\"marker\":{\"colorbar\":{\"outlinewidth\":0,\"ticks\":\"\"}},\"type\":\"scatterpolargl\"}],\"scatterternary\":[{\"marker\":{\"colorbar\":{\"outlinewidth\":0,\"ticks\":\"\"}},\"type\":\"scatterternary\"}],\"surface\":[{\"colorbar\":{\"outlinewidth\":0,\"ticks\":\"\"},\"colorscale\":[[0.0,\"#0d0887\"],[0.1111111111111111,\"#46039f\"],[0.2222222222222222,\"#7201a8\"],[0.3333333333333333,\"#9c179e\"],[0.4444444444444444,\"#bd3786\"],[0.5555555555555556,\"#d8576b\"],[0.6666666666666666,\"#ed7953\"],[0.7777777777777778,\"#fb9f3a\"],[0.8888888888888888,\"#fdca26\"],[1.0,\"#f0f921\"]],\"type\":\"surface\"}],\"table\":[{\"cells\":{\"fill\":{\"color\":\"#EBF0F8\"},\"line\":{\"color\":\"white\"}},\"header\":{\"fill\":{\"color\":\"#C8D4E3\"},\"line\":{\"color\":\"white\"}},\"type\":\"table\"}]},\"layout\":{\"annotationdefaults\":{\"arrowcolor\":\"#2a3f5f\",\"arrowhead\":0,\"arrowwidth\":1},\"autotypenumbers\":\"strict\",\"coloraxis\":{\"colorbar\":{\"outlinewidth\":0,\"ticks\":\"\"}},\"colorscale\":{\"diverging\":[[0,\"#8e0152\"],[0.1,\"#c51b7d\"],[0.2,\"#de77ae\"],[0.3,\"#f1b6da\"],[0.4,\"#fde0ef\"],[0.5,\"#f7f7f7\"],[0.6,\"#e6f5d0\"],[0.7,\"#b8e186\"],[0.8,\"#7fbc41\"],[0.9,\"#4d9221\"],[1,\"#276419\"]],\"sequential\":[[0.0,\"#0d0887\"],[0.1111111111111111,\"#46039f\"],[0.2222222222222222,\"#7201a8\"],[0.3333333333333333,\"#9c179e\"],[0.4444444444444444,\"#bd3786\"],[0.5555555555555556,\"#d8576b\"],[0.6666666666666666,\"#ed7953\"],[0.7777777777777778,\"#fb9f3a\"],[0.8888888888888888,\"#fdca26\"],[1.0,\"#f0f921\"]],\"sequentialminus\":[[0.0,\"#0d0887\"],[0.1111111111111111,\"#46039f\"],[0.2222222222222222,\"#7201a8\"],[0.3333333333333333,\"#9c179e\"],[0.4444444444444444,\"#bd3786\"],[0.5555555555555556,\"#d8576b\"],[0.6666666666666666,\"#ed7953\"],[0.7777777777777778,\"#fb9f3a\"],[0.8888888888888888,\"#fdca26\"],[1.0,\"#f0f921\"]]},\"colorway\":[\"#636efa\",\"#EF553B\",\"#00cc96\",\"#ab63fa\",\"#FFA15A\",\"#19d3f3\",\"#FF6692\",\"#B6E880\",\"#FF97FF\",\"#FECB52\"],\"font\":{\"color\":\"#2a3f5f\"},\"geo\":{\"bgcolor\":\"white\",\"lakecolor\":\"white\",\"landcolor\":\"#E5ECF6\",\"showlakes\":true,\"showland\":true,\"subunitcolor\":\"white\"},\"hoverlabel\":{\"align\":\"left\"},\"hovermode\":\"closest\",\"mapbox\":{\"style\":\"light\"},\"paper_bgcolor\":\"white\",\"plot_bgcolor\":\"#E5ECF6\",\"polar\":{\"angularaxis\":{\"gridcolor\":\"white\",\"linecolor\":\"white\",\"ticks\":\"\"},\"bgcolor\":\"#E5ECF6\",\"radialaxis\":{\"gridcolor\":\"white\",\"linecolor\":\"white\",\"ticks\":\"\"}},\"scene\":{\"xaxis\":{\"backgroundcolor\":\"#E5ECF6\",\"gridcolor\":\"white\",\"gridwidth\":2,\"linecolor\":\"white\",\"showbackground\":true,\"ticks\":\"\",\"zerolinecolor\":\"white\"},\"yaxis\":{\"backgroundcolor\":\"#E5ECF6\",\"gridcolor\":\"white\",\"gridwidth\":2,\"linecolor\":\"white\",\"showbackground\":true,\"ticks\":\"\",\"zerolinecolor\":\"white\"},\"zaxis\":{\"backgroundcolor\":\"#E5ECF6\",\"gridcolor\":\"white\",\"gridwidth\":2,\"linecolor\":\"white\",\"showbackground\":true,\"ticks\":\"\",\"zerolinecolor\":\"white\"}},\"shapedefaults\":{\"line\":{\"color\":\"#2a3f5f\"}},\"ternary\":{\"aaxis\":{\"gridcolor\":\"white\",\"linecolor\":\"white\",\"ticks\":\"\"},\"baxis\":{\"gridcolor\":\"white\",\"linecolor\":\"white\",\"ticks\":\"\"},\"bgcolor\":\"#E5ECF6\",\"caxis\":{\"gridcolor\":\"white\",\"linecolor\":\"white\",\"ticks\":\"\"}},\"title\":{\"x\":0.05},\"xaxis\":{\"automargin\":true,\"gridcolor\":\"white\",\"linecolor\":\"white\",\"ticks\":\"\",\"title\":{\"standoff\":15},\"zerolinecolor\":\"white\",\"zerolinewidth\":2},\"yaxis\":{\"automargin\":true,\"gridcolor\":\"white\",\"linecolor\":\"white\",\"ticks\":\"\",\"title\":{\"standoff\":15},\"zerolinecolor\":\"white\",\"zerolinewidth\":2}}},\"barmode\":\"overlay\",\"xaxis\":{\"title\":{\"text\":\"Thalach Level\"}},\"yaxis\":{\"dtick\":5,\"range\":[0,30],\"title\":{\"text\":\"Count\"}},\"title\":{\"text\":\"Comparing Thalach Levels\",\"x\":0.5}},                        {\"responsive\": true}                    )                };                            </script>        </div>\n",
       "</body>\n",
       "</html>"
      ]
     },
     "metadata": {
      "application/vnd.databricks.v1+output": {
       "addedWidgets": {},
       "arguments": {},
       "data": "<html>\n<head><meta charset=\"utf-8\" /></head>\n<body>\n    <div>            <script src=\"https://cdnjs.cloudflare.com/ajax/libs/mathjax/2.7.5/MathJax.js?config=TeX-AMS-MML_SVG\"></script><script type=\"text/javascript\">if (window.MathJax) {MathJax.Hub.Config({SVG: {font: \"STIX-Web\"}});}</script>                <script type=\"text/javascript\">window.PlotlyConfig = {MathJaxConfig: 'local'};</script>\n        <script src=\"https://cdn.plot.ly/plotly-2.9.0.min.js\"></script>                <div id=\"4264158a-938d-40da-9cd3-eb862f877586\" class=\"plotly-graph-div\" style=\"height:100%; width:100%;\"></div>            <script type=\"text/javascript\">                                    window.PLOTLYENV=window.PLOTLYENV || {};                                    if (document.getElementById(\"4264158a-938d-40da-9cd3-eb862f877586\")) {                    Plotly.newPlot(                        \"4264158a-938d-40da-9cd3-eb862f877586\",                        [{\"name\":\"target:0\",\"x\":[108,129,160,147,155,142,168,160,173,132,114,160,158,120,112,132,114,169,165,128,153,144,109,163,158,142,131,113,142,155,140,147,163,99,158,177,141,111,150,145,161,142,157,139,162,150,140,140,146,144,136,97,132,127,150,154,111,174,133,126,125,103,130,159,131,152,124,145,96,109,173,171,170,162,156,112,143,132,88,105,166,150,120,195,146,122,143,106,125,125,147,130,126,154,182,165,160,95,169,108,132,117,126,116,103,144,145,71,156,118,168,105,141,152,125,125,156,134,181,138,120,162,164,143,130,161,140,146,150,144,144,136,90,123,132,141,115,174],\"type\":\"histogram\",\"opacity\":0.9},{\"name\":\"target:1\",\"x\":[150,187,172,178,163,148,153,173,162,174,160,139,171,144,162,158,172,114,171,151,161,179,178,137,178,162,157,123,157,152,168,140,188,152,125,160,170,165,148,151,142,180,148,143,182,172,180,156,115,160,149,151,146,175,172,158,186,185,174,159,130,156,190,132,165,182,143,175,170,163,147,154,202,186,165,161,166,164,184,154,179,170,160,178,122,160,151,156,158,122,175,168,169,159,138,111,157,147,162,173,178,145,179,194,163,115,131,152,162,159,154,173,133,161,155,170,168,162,172,152,122,182,172,167,179,192,143,172,169,121,163,162,162,153,163,163,96,140,126,105,157,181,173,142,116,143,149,171,169,150,138,125,155,152,152,131,179,174,144,163,169,166,182,173,173],\"type\":\"histogram\",\"opacity\":0.9}],                        {\"template\":{\"data\":{\"bar\":[{\"error_x\":{\"color\":\"#2a3f5f\"},\"error_y\":{\"color\":\"#2a3f5f\"},\"marker\":{\"line\":{\"color\":\"#E5ECF6\",\"width\":0.5},\"pattern\":{\"fillmode\":\"overlay\",\"size\":10,\"solidity\":0.2}},\"type\":\"bar\"}],\"barpolar\":[{\"marker\":{\"line\":{\"color\":\"#E5ECF6\",\"width\":0.5},\"pattern\":{\"fillmode\":\"overlay\",\"size\":10,\"solidity\":0.2}},\"type\":\"barpolar\"}],\"carpet\":[{\"aaxis\":{\"endlinecolor\":\"#2a3f5f\",\"gridcolor\":\"white\",\"linecolor\":\"white\",\"minorgridcolor\":\"white\",\"startlinecolor\":\"#2a3f5f\"},\"baxis\":{\"endlinecolor\":\"#2a3f5f\",\"gridcolor\":\"white\",\"linecolor\":\"white\",\"minorgridcolor\":\"white\",\"startlinecolor\":\"#2a3f5f\"},\"type\":\"carpet\"}],\"choropleth\":[{\"colorbar\":{\"outlinewidth\":0,\"ticks\":\"\"},\"type\":\"choropleth\"}],\"contour\":[{\"colorbar\":{\"outlinewidth\":0,\"ticks\":\"\"},\"colorscale\":[[0.0,\"#0d0887\"],[0.1111111111111111,\"#46039f\"],[0.2222222222222222,\"#7201a8\"],[0.3333333333333333,\"#9c179e\"],[0.4444444444444444,\"#bd3786\"],[0.5555555555555556,\"#d8576b\"],[0.6666666666666666,\"#ed7953\"],[0.7777777777777778,\"#fb9f3a\"],[0.8888888888888888,\"#fdca26\"],[1.0,\"#f0f921\"]],\"type\":\"contour\"}],\"contourcarpet\":[{\"colorbar\":{\"outlinewidth\":0,\"ticks\":\"\"},\"type\":\"contourcarpet\"}],\"heatmap\":[{\"colorbar\":{\"outlinewidth\":0,\"ticks\":\"\"},\"colorscale\":[[0.0,\"#0d0887\"],[0.1111111111111111,\"#46039f\"],[0.2222222222222222,\"#7201a8\"],[0.3333333333333333,\"#9c179e\"],[0.4444444444444444,\"#bd3786\"],[0.5555555555555556,\"#d8576b\"],[0.6666666666666666,\"#ed7953\"],[0.7777777777777778,\"#fb9f3a\"],[0.8888888888888888,\"#fdca26\"],[1.0,\"#f0f921\"]],\"type\":\"heatmap\"}],\"heatmapgl\":[{\"colorbar\":{\"outlinewidth\":0,\"ticks\":\"\"},\"colorscale\":[[0.0,\"#0d0887\"],[0.1111111111111111,\"#46039f\"],[0.2222222222222222,\"#7201a8\"],[0.3333333333333333,\"#9c179e\"],[0.4444444444444444,\"#bd3786\"],[0.5555555555555556,\"#d8576b\"],[0.6666666666666666,\"#ed7953\"],[0.7777777777777778,\"#fb9f3a\"],[0.8888888888888888,\"#fdca26\"],[1.0,\"#f0f921\"]],\"type\":\"heatmapgl\"}],\"histogram\":[{\"marker\":{\"pattern\":{\"fillmode\":\"overlay\",\"size\":10,\"solidity\":0.2}},\"type\":\"histogram\"}],\"histogram2d\":[{\"colorbar\":{\"outlinewidth\":0,\"ticks\":\"\"},\"colorscale\":[[0.0,\"#0d0887\"],[0.1111111111111111,\"#46039f\"],[0.2222222222222222,\"#7201a8\"],[0.3333333333333333,\"#9c179e\"],[0.4444444444444444,\"#bd3786\"],[0.5555555555555556,\"#d8576b\"],[0.6666666666666666,\"#ed7953\"],[0.7777777777777778,\"#fb9f3a\"],[0.8888888888888888,\"#fdca26\"],[1.0,\"#f0f921\"]],\"type\":\"histogram2d\"}],\"histogram2dcontour\":[{\"colorbar\":{\"outlinewidth\":0,\"ticks\":\"\"},\"colorscale\":[[0.0,\"#0d0887\"],[0.1111111111111111,\"#46039f\"],[0.2222222222222222,\"#7201a8\"],[0.3333333333333333,\"#9c179e\"],[0.4444444444444444,\"#bd3786\"],[0.5555555555555556,\"#d8576b\"],[0.6666666666666666,\"#ed7953\"],[0.7777777777777778,\"#fb9f3a\"],[0.8888888888888888,\"#fdca26\"],[1.0,\"#f0f921\"]],\"type\":\"histogram2dcontour\"}],\"mesh3d\":[{\"colorbar\":{\"outlinewidth\":0,\"ticks\":\"\"},\"type\":\"mesh3d\"}],\"parcoords\":[{\"line\":{\"colorbar\":{\"outlinewidth\":0,\"ticks\":\"\"}},\"type\":\"parcoords\"}],\"pie\":[{\"automargin\":true,\"type\":\"pie\"}],\"scatter\":[{\"marker\":{\"colorbar\":{\"outlinewidth\":0,\"ticks\":\"\"}},\"type\":\"scatter\"}],\"scatter3d\":[{\"line\":{\"colorbar\":{\"outlinewidth\":0,\"ticks\":\"\"}},\"marker\":{\"colorbar\":{\"outlinewidth\":0,\"ticks\":\"\"}},\"type\":\"scatter3d\"}],\"scattercarpet\":[{\"marker\":{\"colorbar\":{\"outlinewidth\":0,\"ticks\":\"\"}},\"type\":\"scattercarpet\"}],\"scattergeo\":[{\"marker\":{\"colorbar\":{\"outlinewidth\":0,\"ticks\":\"\"}},\"type\":\"scattergeo\"}],\"scattergl\":[{\"marker\":{\"colorbar\":{\"outlinewidth\":0,\"ticks\":\"\"}},\"type\":\"scattergl\"}],\"scattermapbox\":[{\"marker\":{\"colorbar\":{\"outlinewidth\":0,\"ticks\":\"\"}},\"type\":\"scattermapbox\"}],\"scatterpolar\":[{\"marker\":{\"colorbar\":{\"outlinewidth\":0,\"ticks\":\"\"}},\"type\":\"scatterpolar\"}],\"scatterpolargl\":[{\"marker\":{\"colorbar\":{\"outlinewidth\":0,\"ticks\":\"\"}},\"type\":\"scatterpolargl\"}],\"scatterternary\":[{\"marker\":{\"colorbar\":{\"outlinewidth\":0,\"ticks\":\"\"}},\"type\":\"scatterternary\"}],\"surface\":[{\"colorbar\":{\"outlinewidth\":0,\"ticks\":\"\"},\"colorscale\":[[0.0,\"#0d0887\"],[0.1111111111111111,\"#46039f\"],[0.2222222222222222,\"#7201a8\"],[0.3333333333333333,\"#9c179e\"],[0.4444444444444444,\"#bd3786\"],[0.5555555555555556,\"#d8576b\"],[0.6666666666666666,\"#ed7953\"],[0.7777777777777778,\"#fb9f3a\"],[0.8888888888888888,\"#fdca26\"],[1.0,\"#f0f921\"]],\"type\":\"surface\"}],\"table\":[{\"cells\":{\"fill\":{\"color\":\"#EBF0F8\"},\"line\":{\"color\":\"white\"}},\"header\":{\"fill\":{\"color\":\"#C8D4E3\"},\"line\":{\"color\":\"white\"}},\"type\":\"table\"}]},\"layout\":{\"annotationdefaults\":{\"arrowcolor\":\"#2a3f5f\",\"arrowhead\":0,\"arrowwidth\":1},\"autotypenumbers\":\"strict\",\"coloraxis\":{\"colorbar\":{\"outlinewidth\":0,\"ticks\":\"\"}},\"colorscale\":{\"diverging\":[[0,\"#8e0152\"],[0.1,\"#c51b7d\"],[0.2,\"#de77ae\"],[0.3,\"#f1b6da\"],[0.4,\"#fde0ef\"],[0.5,\"#f7f7f7\"],[0.6,\"#e6f5d0\"],[0.7,\"#b8e186\"],[0.8,\"#7fbc41\"],[0.9,\"#4d9221\"],[1,\"#276419\"]],\"sequential\":[[0.0,\"#0d0887\"],[0.1111111111111111,\"#46039f\"],[0.2222222222222222,\"#7201a8\"],[0.3333333333333333,\"#9c179e\"],[0.4444444444444444,\"#bd3786\"],[0.5555555555555556,\"#d8576b\"],[0.6666666666666666,\"#ed7953\"],[0.7777777777777778,\"#fb9f3a\"],[0.8888888888888888,\"#fdca26\"],[1.0,\"#f0f921\"]],\"sequentialminus\":[[0.0,\"#0d0887\"],[0.1111111111111111,\"#46039f\"],[0.2222222222222222,\"#7201a8\"],[0.3333333333333333,\"#9c179e\"],[0.4444444444444444,\"#bd3786\"],[0.5555555555555556,\"#d8576b\"],[0.6666666666666666,\"#ed7953\"],[0.7777777777777778,\"#fb9f3a\"],[0.8888888888888888,\"#fdca26\"],[1.0,\"#f0f921\"]]},\"colorway\":[\"#636efa\",\"#EF553B\",\"#00cc96\",\"#ab63fa\",\"#FFA15A\",\"#19d3f3\",\"#FF6692\",\"#B6E880\",\"#FF97FF\",\"#FECB52\"],\"font\":{\"color\":\"#2a3f5f\"},\"geo\":{\"bgcolor\":\"white\",\"lakecolor\":\"white\",\"landcolor\":\"#E5ECF6\",\"showlakes\":true,\"showland\":true,\"subunitcolor\":\"white\"},\"hoverlabel\":{\"align\":\"left\"},\"hovermode\":\"closest\",\"mapbox\":{\"style\":\"light\"},\"paper_bgcolor\":\"white\",\"plot_bgcolor\":\"#E5ECF6\",\"polar\":{\"angularaxis\":{\"gridcolor\":\"white\",\"linecolor\":\"white\",\"ticks\":\"\"},\"bgcolor\":\"#E5ECF6\",\"radialaxis\":{\"gridcolor\":\"white\",\"linecolor\":\"white\",\"ticks\":\"\"}},\"scene\":{\"xaxis\":{\"backgroundcolor\":\"#E5ECF6\",\"gridcolor\":\"white\",\"gridwidth\":2,\"linecolor\":\"white\",\"showbackground\":true,\"ticks\":\"\",\"zerolinecolor\":\"white\"},\"yaxis\":{\"backgroundcolor\":\"#E5ECF6\",\"gridcolor\":\"white\",\"gridwidth\":2,\"linecolor\":\"white\",\"showbackground\":true,\"ticks\":\"\",\"zerolinecolor\":\"white\"},\"zaxis\":{\"backgroundcolor\":\"#E5ECF6\",\"gridcolor\":\"white\",\"gridwidth\":2,\"linecolor\":\"white\",\"showbackground\":true,\"ticks\":\"\",\"zerolinecolor\":\"white\"}},\"shapedefaults\":{\"line\":{\"color\":\"#2a3f5f\"}},\"ternary\":{\"aaxis\":{\"gridcolor\":\"white\",\"linecolor\":\"white\",\"ticks\":\"\"},\"baxis\":{\"gridcolor\":\"white\",\"linecolor\":\"white\",\"ticks\":\"\"},\"bgcolor\":\"#E5ECF6\",\"caxis\":{\"gridcolor\":\"white\",\"linecolor\":\"white\",\"ticks\":\"\"}},\"title\":{\"x\":0.05},\"xaxis\":{\"automargin\":true,\"gridcolor\":\"white\",\"linecolor\":\"white\",\"ticks\":\"\",\"title\":{\"standoff\":15},\"zerolinecolor\":\"white\",\"zerolinewidth\":2},\"yaxis\":{\"automargin\":true,\"gridcolor\":\"white\",\"linecolor\":\"white\",\"ticks\":\"\",\"title\":{\"standoff\":15},\"zerolinecolor\":\"white\",\"zerolinewidth\":2}}},\"barmode\":\"overlay\",\"xaxis\":{\"title\":{\"text\":\"Thalach Level\"}},\"yaxis\":{\"dtick\":5,\"range\":[0,30],\"title\":{\"text\":\"Count\"}},\"title\":{\"text\":\"Comparing Thalach Levels\",\"x\":0.5}},                        {\"responsive\": true}                    )                };                            </script>        </div>\n</body>\n</html>",
       "datasetInfos": [],
       "metadata": {},
       "removedWidgets": [],
       "textData": null,
       "type": "htmlSandbox"
      }
     },
     "output_type": "display_data"
    }
   ],
   "source": [
    "#thalach: The person’s maximum heart rate achieved\n",
    "\n",
    "df34=df33.loc[df33['target']==0,'thalach']\n",
    "df35=df33.loc[df33['target']==1,'thalach']\n",
    "fig = go.Figure()\n",
    "fig.add_trace(go.Histogram(x=df34, name='target:0'))\n",
    "fig.add_trace(go.Histogram(x=df35,name='target:1'))\n",
    "# Overlay both histograms\n",
    "fig.update_layout(barmode='overlay')\n",
    "# Reduce opacity to see both histograms\n",
    "fig.update_traces(opacity=.9)\n",
    "fig.update_xaxes(title='Thalach Level')\n",
    "fig.update_yaxes(dtick=5, range=[0,30], title='Count')\n",
    "fig.update_layout(title='Comparing Thalach Levels', title_x=0.5)"
   ]
  },
  {
   "cell_type": "markdown",
   "metadata": {
    "application/vnd.databricks.v1+cell": {
     "cellMetadata": {
      "byteLimit": 2048000,
      "rowLimit": 10000
     },
     "inputWidgets": {},
     "nuid": "84900a2f-770c-47db-b322-8150d1ba36a5",
     "showTitle": false,
     "title": ""
    }
   },
   "source": [
    "According to this plot, higher Thalach or maximum heart rate levels are important to a classification of having heart disease, vs. lower levels for being classified as not having heart disease.\n",
    "\n",
    "ca: The number of major vessels (0–4)"
   ]
  },
  {
   "cell_type": "code",
   "execution_count": null,
   "metadata": {
    "application/vnd.databricks.v1+cell": {
     "cellMetadata": {
      "byteLimit": 2048000,
      "rowLimit": 10000
     },
     "inputWidgets": {},
     "nuid": "d3bb66b9-1a96-453c-95a9-7ee720254afa",
     "showTitle": false,
     "title": ""
    }
   },
   "outputs": [
    {
     "name": "stdout",
     "output_type": "stream",
     "text": [
      "+------+---+-----+\n",
      "|target| ca|count|\n",
      "+------+---+-----+\n",
      "|     1|  0|  130|\n",
      "|     1|  2|    7|\n",
      "|     1|  1|   21|\n",
      "|     1|  3|    3|\n",
      "|     0|  0|   45|\n",
      "|     1|  4|    4|\n",
      "|     0|  1|   44|\n",
      "|     0|  2|   31|\n",
      "|     0|  3|   17|\n",
      "|     0|  4|    1|\n",
      "+------+---+-----+\n",
      "\n"
     ]
    }
   ],
   "source": [
    "#ca: The number of major vessels (0–4)\n",
    "\n",
    "df3.groupby('target','ca').count().show()"
   ]
  },
  {
   "cell_type": "markdown",
   "metadata": {
    "application/vnd.databricks.v1+cell": {
     "cellMetadata": {
      "byteLimit": 2048000,
      "rowLimit": 10000
     },
     "inputWidgets": {},
     "nuid": "00c112d4-fe91-43f6-9241-556d49faa049",
     "showTitle": false,
     "title": ""
    }
   },
   "source": [
    "Random Forests is saying that the majority of those who get classified as having Heart Disease have 0 major vessels, while the majority of those classified as not having Heart Disease have more major vessels, i.e. >0.\n",
    "\n",
    "The distribution of these variables seems to make intuitive sense. Plus, we were able to infer this from our models!"
   ]
  },
  {
   "cell_type": "code",
   "execution_count": null,
   "metadata": {
    "application/vnd.databricks.v1+cell": {
     "cellMetadata": {
      "byteLimit": 2048000,
      "rowLimit": 10000
     },
     "inputWidgets": {},
     "nuid": "612266d7-cfb5-40d8-9dfe-aa0692a1fad3",
     "showTitle": false,
     "title": ""
    }
   },
   "outputs": [
    {
     "name": "stdout",
     "output_type": "stream",
     "text": [
      "+----------------+---+---+\n",
      "|label_prediction|0.0|1.0|\n",
      "+----------------+---+---+\n",
      "|             1.0|  6| 26|\n",
      "|             0.0| 50|  5|\n",
      "+----------------+---+---+\n",
      "\n"
     ]
    }
   ],
   "source": [
    "predictions_lr.crosstab('label','prediction').show()"
   ]
  },
  {
   "cell_type": "code",
   "execution_count": null,
   "metadata": {
    "application/vnd.databricks.v1+cell": {
     "cellMetadata": {
      "byteLimit": 2048000,
      "rowLimit": 10000
     },
     "inputWidgets": {},
     "nuid": "b1b2e60c-b972-433c-8efe-92ffccadc306",
     "showTitle": false,
     "title": ""
    }
   },
   "outputs": [
    {
     "name": "stdout",
     "output_type": "stream",
     "text": [
      "Coefficients: [0.008926018437789462,0.5083953455451367,-0.25023004393851317,0.0034372793043313072,0.001082062241049159,0.07385310573566987,-0.16142573759824919,-0.008368623552447428,0.5889769712865041,-0.2976143833417101,0.2658791099653223,0.3187691357673936,0.46123805598304063]\n",
      "Intercept: -0.9987311595929392\n"
     ]
    }
   ],
   "source": [
    "#Print Coefficients and Intercept for Logistic Regression\n",
    "\n",
    "# Print the coefficients and intercept for logistic regression\n",
    "print(\"Coefficients: \" + str(lrModel.coefficients))\n",
    "print(\"Intercept: \" + str(lrModel.intercept))"
   ]
  },
  {
   "cell_type": "markdown",
   "metadata": {},
   "source": [
    "### Conclusion\n",
    "Given the performance metrics and the robustness of hyperparameter tuning, the Logistic Regression  model appears to be slightly better for this particular dataset, primarily due to its superior handling of a diverse set of features and its ability to capture linear relationships better than Random Forest . The effective use of PySpark for managing data workflows, from preprocessing to model evaluation, underscores its strength in big data scenarios, particularly in healthcare settings where data volume and complexity require robust computational tools."
   ]
  }
 ],
 "metadata": {
  "application/vnd.databricks.v1+notebook": {
   "dashboards": [],
   "language": "python",
   "notebookMetadata": {
    "pythonIndentUnit": 4
   },
   "notebookName": "FinalNISWorkbook",
   "widgets": {}
  },
  "kernelspec": {
   "display_name": "Python 3",
   "language": "python",
   "name": "python3"
  },
  "language_info": {
   "name": "python",
   "version": "3.11.4"
  }
 },
 "nbformat": 4,
 "nbformat_minor": 0
}
